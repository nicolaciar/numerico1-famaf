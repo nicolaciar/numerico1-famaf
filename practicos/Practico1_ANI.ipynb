{
  "nbformat": 4,
  "nbformat_minor": 0,
  "metadata": {
    "colab": {
      "provenance": [],
      "collapsed_sections": [
        "l8CvXHce-lCX",
        "juadJX7v_gaj"
      ],
      "authorship_tag": "ABX9TyMlJmMFJuOLCYXtxljTuzmf",
      "include_colab_link": true
    },
    "kernelspec": {
      "name": "python3",
      "display_name": "Python 3"
    },
    "language_info": {
      "name": "python"
    }
  },
  "cells": [
    {
      "cell_type": "markdown",
      "metadata": {
        "id": "view-in-github",
        "colab_type": "text"
      },
      "source": [
        "<a href=\"https://colab.research.google.com/github/nicolaciar/numerico1-famaf/blob/main/practicos/Practico1_ANI.ipynb\" target=\"_parent\"><img src=\"https://colab.research.google.com/assets/colab-badge.svg\" alt=\"Open In Colab\"/></a>"
      ]
    },
    {
      "cell_type": "markdown",
      "source": [
        "# Práctico 1 - Análisis Numérico 1 - FaMAF\n",
        ">## Preliminares matemáticos \n",
        "Error absoluto y relativo, sistema de punto flotante, velocidad de convergencia, notación $\\mathcal{O}$ y $o$."
      ],
      "metadata": {
        "id": "dW2IQm_E8qPA"
      }
    },
    {
      "cell_type": "markdown",
      "source": [
        "Por Nicolas Laciar\n",
        "\n",
        "Mail: nicolas.laciar@mi.unc.edu.ar"
      ],
      "metadata": {
        "id": "NTKBKTC6IORi"
      }
    },
    {
      "cell_type": "markdown",
      "source": [
        "## Series de potencias y de Taylor\n"
      ],
      "metadata": {
        "id": "R3e2xEw0-eWP"
      }
    },
    {
      "cell_type": "markdown",
      "source": [
        "### Ejercicio 1:\n",
        "* a) Obtener la serie de Taylor centrada en $0$ para la función $f(x) = \\ln(x + 1)$. Escribir la serie usando la notación de sumatorias. Dar una expresión para el resto cuando la serie es\n",
        "truncada en $k$ términos.\n",
        "\n",
        "* b) Estimar el número de términos que deberían incluirse en la serie para aproximar $\\ln(1.5)$ con\n",
        "un margen de error no mayor que $10^{−10}$\n",
        "."
      ],
      "metadata": {
        "id": "l8CvXHce-lCX"
      }
    },
    {
      "cell_type": "markdown",
      "source": [
        "a) Por definición, dada $f(x)$, la serie de Taylor de $f$ centrada en $a$ es:\n",
        "\n",
        "$$\n",
        "\\sum_{n=0}^{∞}\\frac{f^{(n)}}{n!}(x-a)^n\n",
        "$$\n",
        "\n",
        "En nuestro caso $f(x) = \\ln(x+1)$. Si calculamos algunas derivadas sucesivas de $f$ observamos que:\n",
        " \n",
        "\\begin{align*}\n",
        "f'(x) &= \\frac{1}{x+1} \\\\\n",
        "f''(x) &= -\\frac{1}{(x+1)^2} \\\\\n",
        "f'''(x) &= \\frac{1\\cdot 2}{(x+1)^3} \\\\\n",
        "f^{(4)}(x) &=-\\frac{1\\cdot 2\\cdot 3}{(x+1)^4} \\\\\n",
        "&\\vdots \\\\\n",
        "f^{(n)}(x) &= \\frac{(-1)^{n+1}(n-1)!}{(x+1)^n} \n",
        "\\end{align*}\n",
        "\n",
        "La última expresión vale para $n\\geq1$. Tomando el centro en $0$ ($a=0$), tenemos que:\n",
        "\n",
        "\\begin{align*}\n",
        "\\sum_{n=0}^\\infty\\frac{f^{(n)}(0)}{n!}x^n &= \\ln(0+1) + \\sum_{n=1}^\\infty\\frac{1}{n!}\\frac{(-1)^{n+1}(n-1)!}{(0+1)^n}x^n \\\\ &= \\sum_{n=1}^\\infty\\frac{(-1)^{n+1}}{n}x^n\n",
        "\\end{align*}\n",
        "\n",
        "Ésta es la serie de Taylor de $f$ centrada en $a=0$. \n",
        "\n",
        "La serie truncada en $k$ términos es el polinomio de Taylor de grado $k$ de $f$ centrada en $0$:\n",
        "\n",
        "$$\n",
        "P_{k,0} =\\sum_{n=1}^{k}\\frac{(-1)^{n+1}}{n}x^n\n",
        "$$\n",
        "\n",
        "La expresión de Lagrange para el residuo nos dice que:\n",
        "\n",
        "\\begin{align*}\n",
        "R_{k,0} = \\frac{f^{k+1}(\\xi)}{(k+1)!}x^{k+1} &= \\frac{(-1)^{k+2}k!}{(\\xi+1)^{k+1}}\\frac{1}{(k+1)!}x^{k+1} \\\\ &= \\frac{(-1)^k}{k+1}\\left(\\frac{x}{\\xi +1}\\right)^{k+1}\n",
        "\\end{align*}\n",
        "\n",
        "Para $\\xi<|x-a|=|x|$."
      ],
      "metadata": {
        "id": "UcDj1E99KMyM"
      }
    },
    {
      "cell_type": "markdown",
      "source": [
        "b) Buscamos averiguar para cuál $k$ se tiene que:\n",
        "\n",
        "$$\n",
        "|R_{k,0}(x)| \\leq 10^{-10}\n",
        "$$\n",
        "\n",
        "para $x=0.5$, pues $\\ln(1.5) = \\ln(1+0.5)=f(0.5)$. Tenemos:\n",
        "\n",
        "\\begin{align*}\n",
        "\\left|R_{k,0}\\left(\\frac{1}{2}\\right)\\right| &= \\left|\\frac{(-1)^k}{k+1}\\left(\\frac{\\frac{1}{2}}{\\xi +1}\\right)^{k+1}\\right| \\\\ &= \\frac{1}{k+1}\\cdot\\frac{1}{2^{k+1}}\\cdot\\frac{1}{(\\xi+1)^{k+1}}\n",
        "\\end{align*}\n",
        "\n",
        "para $\\xi <|0.5|$ o bien $\\xi\\in(0, 0.5)$ (ya que $x>0$).\n",
        "\n",
        "Queremos que:\n",
        "\n",
        "$$\n",
        "\\frac{1}{k+1}\\cdot\\frac{1}{2^{k+1}}\\cdot\\frac{1}{(\\xi+1)^{k+1}}\\leq 10^{-10}\n",
        "$$\n",
        "\n",
        "Para ello observemos que, por un lado:\n",
        "\n",
        "\\begin{align*}\n",
        "0\\leq\\xi\\leq0.5 &⇒ 1\\leq\\xi+1\\leq1.5 \\\\ &⇒ 1 \\geq\\frac{1}{\\xi+1}\\geq\\frac{1}{1.5} \\\\ &⇒ 1\\geq\\frac{1}{(\\xi+1)^{k+1}}\n",
        "\\end{align*}\n",
        "\n",
        "Y por otro lado:\n",
        "\n",
        "\\begin{align*}\n",
        "k+1 \\geq 2 &⇒\\frac{1}{k+1} \\leq \\frac{1}{2}\n",
        "\\end{align*}\n",
        "\n",
        "Teniendo esto en cuenta, tenemos:\n",
        "\n",
        "\\begin{align*}\n",
        "\\frac{1}{k+1}\\cdot\\frac{1}{2^{k+1}}\\cdot\\frac{1}{(\\xi+1)^{k+1}} &\\leq \\frac{1}{2}\\cdot\\frac{1}{2^{k+1}}\\cdot 1 \\\\ &= \\frac{1}{2^{k+2}}\n",
        "\\end{align*}\n",
        "\n",
        "Como:\n",
        "\n",
        "$$\n",
        "2^{4\\cdot10}=16^{10}\\geq 10^{10} ⇒\\frac{1}{2^{4\\cdot10}}\\leq10^{-10}\n",
        "$$\n",
        "\n",
        "Con lo cual $k+2=4\\cdot10 ⇒k= 38$. Así, si tomamos $38$ términos en el polinomio de Taylor, aproximaremos a $f$ con un error menor que $10^{-10\n",
        "}$.\n",
        "\n",
        "**Nota:** Esta NO es la mejor cota para aproximar la función con el error solicitado, sin embargo es una fácil de encontrar a mano. Encontrar la mejor cota a través de métodos numéricos es uno de los objetivos de esta materia y se verá más adelante."
      ],
      "metadata": {
        "id": "-_k4i6ByT0qv"
      }
    },
    {
      "cell_type": "markdown",
      "source": [
        "### Ejercicio 2:\n",
        "Si la serie para $\\ln(x)$ centrada en $x = 1$ se corta después del término que comprende a $(x−1)^{1000}$ y después se utiliza para calcular $\\ln(2)$ ¿Qué cota se puede imponer al error?\n"
      ],
      "metadata": {
        "id": "juadJX7v_gaj"
      }
    },
    {
      "cell_type": "markdown",
      "source": [
        "Queremos calcular el resto de Taylor de orden $1000$ centrado en $1$, es decir $R_{1000,1}(x)$ y dar una cota para el mismo.\n",
        "\n",
        "\n",
        "Para ello podemos usar la fórmula de Lagrange para el resto:\n",
        "\n",
        "\n",
        "$$\n",
        "R_{1000,1}(x) = \\frac{f^{(1001)}(\\xi)}{1001!}(x-1)^{1001}\n",
        "$$\n",
        "\n",
        "Con $\\xi \\in(a,x)=(1,2)$.\n",
        "\n",
        "Observemos que:\n",
        "\n",
        "\\begin{align*}\n",
        "f'(x) &= \\frac{1}{x} \\\\ \n",
        "f''(x) &= -\\frac{1\\cdot 1}{x^2} \\\\\n",
        "f'''(x) &= \\frac{1\\cdot 1\\cdot 2}{x^3}\\\\\n",
        "f^{(4)}(x) &= -\\frac{1\\cdot 1\\cdot 2\\cdot 3}{x^4}\\\\\n",
        "&\\vdots\\\\\n",
        "f^{(n)}(x)&= \\frac{(-1)^{n+1}(n-1)!}{x^n}\n",
        "\\end{align*}\n",
        "\n",
        "Para $n=1001$ y $x=\\xi$, tenemos:\n",
        "\n",
        "$$\n",
        "f^{(1001)}(\\xi) = \\frac{(-1)^{1002}(1000)!}{\\xi^{1001}} = \\frac{1000!}{\\xi^{1001}}\n",
        "$$\n",
        "Luego:\n",
        "\n",
        "\\begin{align*}\n",
        "R_{1000,1}(x) &= \\frac{f^{(1001)}(\\xi)}{1001!}(x-1)^{1001} \\\\ \n",
        "&= \\frac{1000!}{\\xi^{1001}}\\frac{(x-1)^{1001}}{1001!}\\\\\n",
        "&= \\frac{1}{1001}\\left(\\frac{x-1}{\\xi}\\right)^{1001}\n",
        "\\end{align*}\n",
        "\n",
        "Queremos calcular $\\ln(2)$, es decir, tomamos $x=2$ y resulta:\n",
        "\n",
        "$$\n",
        "R_{1000,1}(2)=  \\frac{1}{1001}\\left(\\frac{2-1}{\\xi}\\right)^{1001} = \\frac{\\xi^{-1001}}{1001}\n",
        "$$\n",
        "\n",
        "Además:\n",
        "\n",
        "\\begin{align*}\n",
        "1< \\xi <2 &⇒ 1^{1001} <\\xi^{1001} \\\\\n",
        "&⇒ 1001<1001\\xi^{1001} \\\\\n",
        "&⇒ \\frac{1}{1001}<\\frac{\\xi^{-1001}}{1001}\n",
        "\\end{align*}\n",
        "\n",
        "Así, podemos acotar a $|R_{1000,1}(2)|$ por:\n",
        "\n",
        "$$\n",
        "|R_{1000,1}(2)| < \\frac{1}{1001} ≈ 9.9\\times10^{-4}\n",
        "$$\n"
      ],
      "metadata": {
        "id": "bakzhS06n9qK"
      }
    },
    {
      "cell_type": "markdown",
      "source": [
        "### Ejercicio 3:\n",
        " Verificar la siguiente igualdad y mostrar que la serie converge en el intervalo $−e < x ≤ e$.\n",
        " \n",
        "$$\n",
        "\\ln(e+x) = 1 + \\sum_{k=1}^∞ \\frac{(-1)^{k-1}}{k}\\left(\\frac{x}{e}\\right)^k\n",
        "$$"
      ],
      "metadata": {
        "id": "txCGzrluAzRA"
      }
    },
    {
      "cell_type": "markdown",
      "source": [
        "Desarrollemos a la serie de Taylor para $\\ln(e+x)$, centrado en $0$. Primero, observemos que:\n",
        "\n",
        "\\begin{align*}\n",
        "f(x) &= \\ln(e+x)\\\\\n",
        "f'(x) &= \\frac{1}{e+x} \\\\\n",
        "f''(x) &= -\\frac{1\\cdot 1}{(e+x)^2} \\\\\n",
        "f'''(x) &= \\frac{1\\cdot 1\\cdot2}{(e+x)^3}\\\\\n",
        "f^{(4)}(x) &= -\\frac{1\\cdot1\\cdot2\\cdot3}{(e+x)^4}\\\\\n",
        "&\\vdots\n",
        "\\end{align*}\n",
        "\n",
        "En general, para $k\\geq1$: \n",
        "\n",
        "$$\n",
        "f^{(k)}(x)= \\frac{(-1)^{k+1}(k-1)!}{(e+x)^k}\n",
        "$$\n",
        "\n",
        "Luego:\n",
        "\n",
        "\n",
        "\\begin{align*}\n",
        "f(x) &= f(0)+\\sum_{k=1}^∞\\frac{f^{(k)}(0)}{k!}x^k \\\\\n",
        "&=\\ln(e+0)+\\sum_{k=1}^∞\\frac{(k+1)!(-1)^{k+1}}{(0+e)^k}\\frac{x^k}{k!} \\\\\n",
        "&= 1 + \\sum_{k=1}^∞\\frac{(-1)^{k+1}}{k}\\left(\\frac{x}{e}\\right)^k\n",
        "\\end{align*}\n",
        "\n",
        "Como queríamos probar.\n",
        "\n",
        "Para obtener el radio de convergencia, usemos el criterio del cociente, siendo:\n",
        "\n",
        "$$\n",
        "a_k = \\frac{(-1)^{k+1}}{ke^k}\n",
        "$$\n",
        "\n",
        "Tenemos:\n",
        "\n",
        "\\begin{align*}\n",
        "L = \\lim_{k\\to∞}\\frac{|a_{k+1}|}{|a_k|} &= \\lim_{k\\to∞} \\left|\\frac{(-1)^{k+2}}{(k+1)e^{k+1}}\\right|\\left|\\frac{ke^k}{(-1)^{k+1}}\\right| \\\\\n",
        "&= \\lim_{k\\to∞}\\left|\\frac{k}{(k+1)e}\\right| \\\\\n",
        "&= \\frac{1}{e}\\lim_{k\\to∞}\\frac{k}{k+1} \\\\\n",
        "&= \\frac{1}{e}\n",
        "\\end{align*}\n",
        "\n",
        "Luego $R=\\frac{1}{L}= e$, lo que nos dice que la serie converge al menos en $(-e,e)$. Veamos los extremos.\n",
        "\n",
        "Para $x=e$, tenemos:\n",
        "\n",
        "$$\n",
        "\\sum_{k=1}^∞\\frac{(-1)^{k+1}}{k}\\left(\\frac{e}{e}\\right)^k = \\sum_{k=1}^∞\\frac{(-1)^{k+1}}{k}\n",
        "$$\n",
        "\n",
        "Que converge por el criterio para series alternantes, ya que $\\frac{1}{k}\\to 0$ cuando $k\\to∞$.\n",
        "\n",
        "Para $x=-e$:\n",
        "\n",
        "$$\n",
        "\\sum_{k=1}^∞\\frac{(-1)^{k+1}}{k}\\left(\\frac{-e}{e}\\right)^k = \\sum_{k=1}^∞\\frac{(-1)^{k+1}}{k}(-1)^k= \\sum_{k=1}^∞\\frac{1}{k}\n",
        "$$\n",
        "\n",
        "que diverge por ser la serie armónica.\n",
        "\n",
        "Así, la serie converge para $x\\in(-e,e]$ o bien $-e<x\\leq e$."
      ],
      "metadata": {
        "id": "a5F31t8KcNF4"
      }
    },
    {
      "cell_type": "markdown",
      "source": [
        "### Ejercicio 4:\n",
        "\n",
        "Desarrollar la función $\\sqrt{x}$ en serie de potencias centrada en $x = 1$ y verifique que utilizando la aproximación lineal de dicha función se puede aproximar $\\sqrt{0.9999999995}$ con un error no mayor que $10^{-10}$.\n"
      ],
      "metadata": {
        "id": "PRL48nGvCEPo"
      }
    },
    {
      "cell_type": "markdown",
      "source": [
        "Sea $f(x)=\\sqrt{x}$, observemos que:\n",
        "\n",
        "\\begin{align*}\n",
        "f(x) &= x^{\\frac{1}{2}} \\\\\n",
        "f'(x)&= \\frac{1}{2}x^{-\\frac{1}{2}} \\\\\n",
        "f''(x)&=-\\frac{1}{4}x^{-\\frac{3}{2}}\\\\\n",
        "f'''(x) &= \\frac{3}{8}x^{-\\frac{5}{2}}\\\\\n",
        "f^{(4)}(x)&=-\\frac{3\\cdot5}{16}x^{-\\frac{7}{2}}\\\\\n",
        "&\\vdots\n",
        "\\end{align*}\n",
        "\n",
        "Para $n\\geq1$, tenemos:\n",
        "\n",
        "$$\n",
        "f^{(n)} = \\frac{\\prod_{k=0}^{k-1}(1-2k)}{2^n}x^{\\frac{1-2n}{2}}\n",
        "$$\n",
        "\n",
        "Luego:\n",
        "\n",
        "$$\n",
        "f(x) = 1+\\sum_{n=1}^∞\\left( \\frac{\\prod_{k=0}^{k-1}(1-2k)}{2^nn!}\\right)\n",
        "$$\n",
        "\n",
        "La aproximación lineal es el polinomio de Taylor de la función, truncado en $n=1$:\n",
        "\n",
        "$$\n",
        "P_{1,1}(x) =1 + \\frac{1}{2}(x-1)\n",
        "$$\n",
        "\n",
        "Podemos utilizar la fórmula de Lagrange para acotar el error:\n",
        "\n",
        "\\begin{align*}\n",
        "&R_{1,1}(x) = \\frac{f''(\\xi)}{2!}(x-1)^2 = -\\frac{1}{8}\\xi^{-\\frac{3}{2}}(x-1)^2 \\\\\n",
        "\\end{align*}\n",
        "\n",
        "Para $\\xi$ entre $x$ y $1$. Para $x=0.9999999995$:\n",
        "\n",
        "\\begin{align*}\n",
        "R_{1,1}(0.9999999995)&= -\\frac{1}{8}\\xi^{-\\frac{3}{2}}(0.9999999995-1)^2 \\\\\n",
        "&= -\\frac{1}{8}\\xi^{-\\frac{3}{2}}(5\\times10^{-10})^2 \\\\\n",
        "&= -\\frac{25}{8}\\xi^{-\\frac{3}{2}}10^{-20}\n",
        "\\end{align*}\n",
        "\n",
        "Como $x<\\xi<1$, entonces:\n",
        "\n",
        "\\begin{align*}\n",
        "\\frac{1}{4}<x<\\xi &⇒ \\left(\\frac{1}{4}\\right)^{\\frac{3}{2}} <x^{\\frac{3}{2}} <\\xi^{\\frac{3}{2}} \\\\ &⇒8 > x^{-\\frac{3}{2}} >\\xi^{-\\frac{3}{2}}\n",
        "\\end{align*}\n",
        "\n",
        "Luego:\n",
        "\n",
        "\\begin{align*}\n",
        "|R_{1,1}(0.9999999995)| &= \\frac{25}{8}\\xi^{-\\frac{3}{2}}10^{-20} \\\\ &< \\frac{25}{8}\\cdot8\\cdot10^{-20} \\\\&= 25\\cdot10^{-20} \\\\ &<10^{-10}\n",
        "\\end{align*}"
      ],
      "metadata": {
        "id": "HHY7r6dAmHWB"
      }
    },
    {
      "cell_type": "markdown",
      "source": [
        "## Notación $\\mathcal{O}$ y $o$"
      ],
      "metadata": {
        "id": "H6czMsmHCrC4"
      }
    },
    {
      "cell_type": "markdown",
      "source": [
        "### Ejercicio 5:\n",
        "Verificar que las siguientes sucesiones convergen a $1$ y analizar su velocidad de convergencia:\n",
        "\n",
        "* a) $x_n = 1 + (\\frac{1}{2})^n$\n",
        "\n",
        "* b) $x_n = 1+ \\frac{1}{2^{2^n}}$\n",
        "\n",
        "* c) $x_n = 1 + \\frac{1}{n^n}$"
      ],
      "metadata": {
        "id": "cDEKjNAgC39Y"
      }
    },
    {
      "cell_type": "markdown",
      "source": [
        "a) Tomamos límite para $n\\to∞$:\n",
        "\n",
        "\\begin{align*}\n",
        "x_* = \\lim_{n\\to∞} 1+ \\left(\\frac{1}{2} \\right)^2 &= \\lim_{n\\to∞}1+ \\frac{1}{2^n} = 1\n",
        "\\end{align*}\n",
        "\n",
        "Analizamos la velocidad de convergencia:\n",
        "\n",
        "$$\n",
        "C= \\frac{|x_{n+1} - x_*|}{|x_n-x_* |} = \\frac{1+\\frac{1}{2^{n+1}}-1}{1+\\frac{1}{2^n}-1} = \\frac{2^n}{2^{n+1}} = 2^{-1} = \\frac{1}{2}\n",
        "$$\n",
        "\n",
        "Como $C<1$ la tasa de convergencia de la sucesión es **lineal**.\n",
        "\n",
        "---\n",
        "\n"
      ],
      "metadata": {
        "id": "2E6UyiEFDXJg"
      }
    },
    {
      "cell_type": "markdown",
      "source": [
        "b) Tenemos:\n",
        "\n",
        "\\begin{align*}\n",
        "x_* = \\lim_{n\\to∞} 1 + \\frac{1}{2^{2^n}} &= \\lim_{n\\to∞}1+\\lim_{n\\to∞}2^{-2n} \\\\ &= 1 + 0  \\hspace{4cm} (-2n\\to-\\infty) \\\\&= 1\n",
        "\\end{align*}\n",
        "\n",
        "Luego:\n",
        "\n",
        "\\begin{align*}\\frac{|x_{n+1}-x_*|}{|x_n - x_*|} &= \\frac{1+\\frac{1}{2^{2^{n+1}}}-1}{1+\\frac{1}{2^{2^n}}-1} = \\frac{2^{2^n}}{2^{2^{n+1}}} \\\\&= \\frac{\\ln(2^{2^n})}{\\ln(2^{2^{n+1}})} = \\frac{2^n\\ln(2)}{2^{n+1}\\ln(2)}  \\\\ &= \\frac{2^n}{2^{n+1}} = 2^{-1} = \\frac{1}{2}\n",
        "\\end{align*}\n",
        "\n",
        "\n",
        "Con lo que la tasa de convergencia de $x_n$ es **lineal**.\n"
      ],
      "metadata": {
        "id": "-MSVs4OMCRx_"
      }
    },
    {
      "cell_type": "markdown",
      "source": [
        "c) En este caso:\n",
        "\n",
        "\\begin{align*}\n",
        "x_* = \\lim_{n\\to∞} 1+ \\frac{1}{n^n} = \\lim_{n\\to∞}1 + \\lim_{n\\to∞}\\frac{1}{n^n} = 1\n",
        "\\end{align*}\n",
        "\n",
        "Luego:\n",
        "\n",
        "\\begin{align*}\n",
        "\\frac{|x_{n+1}-x_*|}{|x_n-x_*|} = \\frac{1+\\frac{1}{n^{n+1}}-1}{1+\\frac{1}{n^n}-1} = \\frac{n^n}{n^{n+1}} = \\frac{n}{n+1} \\to∞\n",
        "\\end{align*}\n",
        "\n",
        "Con lo cual, la tasa de convergencia de la sucesión es **superlineal**."
      ],
      "metadata": {
        "id": "RDiw8r4DHAg_"
      }
    },
    {
      "cell_type": "markdown",
      "source": [
        "### Ejercicio 6:\n",
        "\n",
        "Para $n$ fijo, demostrar que: \n",
        "\n",
        "$$\n",
        "\\sum_{k=0}^n x^k = \\frac{1}{1-x} + o(x^n)\n",
        "$$\n",
        "\n",
        "cuando $x\\to0$."
      ],
      "metadata": {
        "id": "1KT9IqOYHors"
      }
    },
    {
      "cell_type": "markdown",
      "source": [],
      "metadata": {
        "id": "oIsItYqeHolA"
      }
    },
    {
      "cell_type": "markdown",
      "source": [
        "Observemos que:\n",
        "\n",
        "$$\n",
        "\\sum_{k=0}^n x^k = \\frac{1}{1-x} + o(x^n) ⟺ \\sum_{k=0}^n x^k - \\frac{1}{1-x} = o(x^n)\n",
        "$$\n",
        "\n",
        "Es decir, podemos probar el enunciado si demostramos que:\n",
        "\n",
        "$$\n",
        "\\lim_{n\\to∞}\\frac{\\sum_{k=0}^n x^k - \\frac{1}{1-x}}{x^n} = 0\n",
        "$$\n",
        "\n",
        "Cuando $x\\to0$, tenemos que $|x|\\ll1$. Entonces podemos escribir a $x$ como $x=\\frac{1}{y}$ con $y\\in\\mathbb{R}$. Luego:\n",
        "\\begin{align*}\n",
        "\\lim_{n\\to∞}\\frac{\\sum_{k=0}^n x^k - \\frac{1}{1-x}}{x^n} &= \\frac{\\displaystyle\\lim_{n\\to∞}\\left(\\sum_{k=0}^n \\left(\\frac{1}{y}\\right)^k - \\frac{1}{1-\\left(\\frac{1}{y}\\right)}\\right)}{\\displaystyle\\lim_{n\\to∞}\\left(\\frac{1}{y}\\right)^n} \\\\ &= \\frac{\\displaystyle\\lim_{n\\to∞}\\sum_{k=0}^n \\left(\\frac{1}{y}\\right)^k - \\displaystyle\\lim_{n\\to∞}\\frac{1}{1-\\left(\\frac{1}{y}\\right)}}{\\displaystyle\\lim_{n\\to∞}\\frac{1}{y^n}} \\\\&= \\frac{\\displaystyle\\frac{1}{1-\\frac{1}{y}}-\\frac{1}{1-\\frac{1}{y}}}{\\displaystyle\\frac{1}{1}} = \\frac{0}{1}= 0\n",
        "\\end{align*}\n",
        "\n"
      ],
      "metadata": {
        "id": "7Byo8jFzJE9k"
      }
    },
    {
      "cell_type": "markdown",
      "source": [
        "### Ejercicio 7:\n",
        "\n",
        "Mostrar que si $E=\\mathcal{O}(h^n)$ cuando $h\\to 0$, entonces $E=\\mathcal{O}(h^m)$ cuando $h\\to 0$ para todo $m$ no negativo tal que $m\\leq n$."
      ],
      "metadata": {
        "id": "lmo6R3exeIP0"
      }
    },
    {
      "cell_type": "markdown",
      "source": [
        "Si $E=\\mathcal{O}(h^n)$, entonces existe $C>0$ tal que:\n",
        "\n",
        "$$\n",
        "|E| \\leq C|h^n|\n",
        "$$\n",
        "\n",
        "Cuando $h\\to0$, $|h|\\ll1$, con lo cual, podemos escribir $h=\\frac{1}{r}$ para $r\\in\\mathbb{R}$, $r\\geq 1$ es decir: \n",
        "\n",
        "$$\n",
        "|E| \\leq C\\left|\\frac{1}{r^n}\\right|\n",
        "$$\n",
        "\n",
        "Luego si $m\\leq n$, tenemos:\n",
        "\n",
        "$$\n",
        "|r^m| \\leq |r^n| ⟺ \\left|\\frac{1}{r^m}\\right| \\geq \\left|\\frac{1}{r^n}\\right|\n",
        "$$\n",
        "\n",
        "Es decir:\n",
        "\n",
        "$$\n",
        "|E| \\leq C\\left|\\frac{1}{r^n}\\right|\\leq C\\left|\\frac{1}{r^m}\\right| \\leq C|h^m|\n",
        "$$\n",
        "\n",
        "Lo que, por definicíon, nos dice que $E=\\mathcal{O}(h^m)$."
      ],
      "metadata": {
        "id": "d02xcfVGew8Z"
      }
    },
    {
      "cell_type": "markdown",
      "source": [
        "### Ejercicio 8:\n",
        "Mostrar que toda función \"suave\" (esto significa con todas las derivadas que sean necesarias) se puede aproximar en un intervalo de longitud $h$ por medio de un polinomio de grado $n$ con una cota del error de orden $\\mathcal{O}(h^{n+1})$ cuando $x\\to∞$"
      ],
      "metadata": {
        "id": "_j-pfHJIO-qe"
      }
    },
    {
      "cell_type": "markdown",
      "source": [
        "Sea $f$ una función con \"infinitas\" derivadas y supongamos que queremos aproximarla"
      ],
      "metadata": {
        "id": "l9V3T_DNEywG"
      }
    }
  ]
}