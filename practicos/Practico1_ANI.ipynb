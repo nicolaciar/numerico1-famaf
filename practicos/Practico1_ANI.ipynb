{
  "nbformat": 4,
  "nbformat_minor": 0,
  "metadata": {
    "colab": {
      "provenance": [],
      "collapsed_sections": [
        "R3e2xEw0-eWP",
        "l8CvXHce-lCX",
        "juadJX7v_gaj",
        "txCGzrluAzRA",
        "PRL48nGvCEPo",
        "H6czMsmHCrC4",
        "cDEKjNAgC39Y",
        "1KT9IqOYHors",
        "lmo6R3exeIP0",
        "_j-pfHJIO-qe",
        "kGtSRq3yi42q",
        "5v3aY_MM4r9K",
        "YgG95xES6xEb",
        "AYW8yCIj24Yb"
      ],
      "toc_visible": true,
      "authorship_tag": "ABX9TyNpGP1IlhNcVcurzJEC6sfU",
      "include_colab_link": true
    },
    "kernelspec": {
      "name": "python3",
      "display_name": "Python 3"
    },
    "language_info": {
      "name": "python"
    }
  },
  "cells": [
    {
      "cell_type": "markdown",
      "metadata": {
        "id": "view-in-github",
        "colab_type": "text"
      },
      "source": [
        "<a href=\"https://colab.research.google.com/github/nicolaciar/numerico1-famaf/blob/main/practicos/Practico1_ANI.ipynb\" target=\"_parent\"><img src=\"https://colab.research.google.com/assets/colab-badge.svg\" alt=\"Open In Colab\"/></a>"
      ]
    },
    {
      "cell_type": "markdown",
      "source": [
        "# Práctico 1 - Análisis Numérico I - FaMAF (2023)\n",
        ">## Preliminares matemáticos\n",
        "Error absoluto y relativo, sistema de punto flotante, velocidad de convergencia, notación $\\mathcal{O}$ y $o$."
      ],
      "metadata": {
        "id": "dW2IQm_E8qPA"
      }
    },
    {
      "cell_type": "markdown",
      "source": [
        "Por Nicolas Laciar\n",
        "\n",
        "Mail: nicolas.laciar@mi.unc.edu.ar"
      ],
      "metadata": {
        "id": "NTKBKTC6IORi"
      }
    },
    {
      "cell_type": "markdown",
      "source": [
        "## Series de potencias y de Taylor\n"
      ],
      "metadata": {
        "id": "R3e2xEw0-eWP"
      }
    },
    {
      "cell_type": "markdown",
      "source": [
        "### Ejercicio 1:\n",
        "* a) Obtener la serie de Taylor centrada en $0$ para la función $f(x) = \\ln(x + 1)$. Escribir la serie usando la notación de sumatorias. Dar una expresión para el resto cuando la serie es\n",
        "truncada en $k$ términos.\n",
        "\n",
        "* b) Estimar el número de términos que deberían incluirse en la serie para aproximar $\\ln(1.5)$ con\n",
        "un margen de error no mayor que $10^{−10}$\n",
        "."
      ],
      "metadata": {
        "id": "l8CvXHce-lCX"
      }
    },
    {
      "cell_type": "markdown",
      "source": [
        "\n",
        "\n",
        "---\n",
        "\n"
      ],
      "metadata": {
        "id": "z_WBNn9dpqxw"
      }
    },
    {
      "cell_type": "markdown",
      "source": [
        "a) Por definición, dada $f(x)$, la serie de Taylor de $f$ centrada en $a$ es:\n",
        "\n",
        "$$\n",
        "\\sum_{n=0}^{∞}\\frac{f^{(n)}(a)}{n!}(x-a)^n\n",
        "$$\n",
        "\n",
        "En nuestro caso $f(x) = \\ln(x+1)$. Si calculamos algunas derivadas sucesivas de $f$ observamos que:\n",
        "\n",
        "\\begin{align*}\n",
        "f'(x) &= \\frac{1}{x+1} \\\\\n",
        "f''(x) &= -\\frac{1}{(x+1)^2} \\\\\n",
        "f'''(x) &= \\frac{1\\cdot 2}{(x+1)^3} \\\\\n",
        "f^{(4)}(x) &=-\\frac{1\\cdot 2\\cdot 3}{(x+1)^4} \\\\\n",
        "&\\vdots \\\\\n",
        "f^{(n)}(x) &= \\frac{(-1)^{n+1}(n-1)!}{(x+1)^n}\n",
        "\\end{align*}\n",
        "\n",
        "La última expresión vale para $n\\geq1$. Tomando el centro en $0$ ($a=0$), tenemos que:\n",
        "\n",
        "\\begin{align*}\n",
        "\\sum_{n=0}^\\infty\\frac{f^{(n)}(0)}{n!}x^n &= \\ln(0+1) + \\sum_{n=1}^\\infty\\frac{1}{n!}\\frac{(-1)^{n+1}(n-1)!}{(0+1)^n}x^n \\\\ &= \\sum_{n=1}^\\infty\\frac{(-1)^{n+1}}{n}x^n\n",
        "\\end{align*}\n",
        "\n",
        "Ésta es la serie de Taylor de $f$ centrada en $a=0$.\n",
        "\n",
        "La serie truncada en $k$ términos es el polinomio de Taylor de grado $k$ de $f$ centrada en $0$:\n",
        "\n",
        "$$\n",
        "P_{k,0} =\\sum_{n=1}^{k}\\frac{(-1)^{n+1}}{n}x^n\n",
        "$$\n",
        "\n",
        "La expresión de Lagrange para el residuo o resto nos dice que:\n",
        "\n",
        "\\begin{align*}\n",
        "R_{k,0} = \\frac{f^{k+1}(\\xi)}{(k+1)!}x^{k+1} &= \\frac{(-1)^{k+2}k!}{(\\xi+1)^{k+1}}\\frac{1}{(k+1)!}x^{k+1} \\\\ &= \\frac{(-1)^k}{k+1}\\left(\\frac{x}{\\xi +1}\\right)^{k+1}\n",
        "\\end{align*}\n",
        "\n",
        "Para $\\xi<|x-a|=|x|$."
      ],
      "metadata": {
        "id": "UcDj1E99KMyM"
      }
    },
    {
      "cell_type": "markdown",
      "source": [
        "\n",
        "\n",
        "---\n",
        "\n"
      ],
      "metadata": {
        "id": "k4o0KZDqppKv"
      }
    },
    {
      "cell_type": "markdown",
      "source": [
        "b) Buscamos averiguar para cuál $k$ se tiene que:\n",
        "\n",
        "$$\n",
        "|R_{k,0}(x)| \\leq 10^{-10}\n",
        "$$\n",
        "\n",
        "para $x=0.5$, pues $\\ln(1.5) = \\ln(1+0.5)=f(0.5)$. Tenemos:\n",
        "\n",
        "\\begin{align*}\n",
        "\\left|R_{k,0}\\left(\\frac{1}{2}\\right)\\right| &= \\left|\\frac{(-1)^k}{k+1}\\left(\\frac{\\frac{1}{2}}{\\xi +1}\\right)^{k+1}\\right| \\\\ &= \\frac{1}{k+1}\\cdot\\frac{1}{2^{k+1}}\\cdot\\frac{1}{(\\xi+1)^{k+1}}\n",
        "\\end{align*}\n",
        "\n",
        "para $\\xi <|0.5|$ o bien $\\xi\\in(0, 0.5)$ (ya que $x>0$).\n",
        "\n",
        "Queremos que:\n",
        "\n",
        "$$\n",
        "\\frac{1}{k+1}\\cdot\\frac{1}{2^{k+1}}\\cdot\\frac{1}{(\\xi+1)^{k+1}}\\leq 10^{-10}\n",
        "$$\n",
        "\n",
        "Para ello observemos que, por un lado:\n",
        "\n",
        "\\begin{align*}\n",
        "0\\leq\\xi\\leq0.5 &⇒ 1\\leq\\xi+1\\leq1.5 \\\\ &⇒ 1 \\geq\\frac{1}{\\xi+1}\\geq\\frac{1}{1.5} \\\\ &⇒ 1\\geq\\frac{1}{(\\xi+1)^{k+1}}\n",
        "\\end{align*}\n",
        "\n",
        "Y por otro lado:\n",
        "\n",
        "\\begin{align*}\n",
        "k+1 \\geq 2 &⇒\\frac{1}{k+1} \\leq \\frac{1}{2}\n",
        "\\end{align*}\n",
        "\n",
        "Teniendo esto en cuenta, tenemos:\n",
        "\n",
        "\\begin{align*}\n",
        "\\frac{1}{k+1}\\cdot\\frac{1}{2^{k+1}}\\cdot\\frac{1}{(\\xi+1)^{k+1}} &\\leq \\frac{1}{2}\\cdot\\frac{1}{2^{k+1}}\\cdot 1 \\\\ &= \\frac{1}{2^{k+2}}\n",
        "\\end{align*}\n",
        "\n",
        "Como:\n",
        "\n",
        "$$\n",
        "2^{4\\cdot10}=16^{10}\\geq 10^{10} ⇒\\frac{1}{2^{4\\cdot10}}\\leq10^{-10}\n",
        "$$\n",
        "\n",
        "Con lo cual $k+2=4\\cdot10 ⇒k= 38$. Así, si tomamos $38$ términos en el polinomio de Taylor, aproximaremos a $f$ con un error menor que $10^{-10\n",
        "}$.\n",
        "\n",
        "**Nota:** Esta NO es la mejor cota para aproximar la función con el error solicitado, sin embargo es una fácil de encontrar a mano. Encontrar la mejor cota a través de métodos numéricos es uno de los objetivos de esta materia y se verá más adelante."
      ],
      "metadata": {
        "id": "-_k4i6ByT0qv"
      }
    },
    {
      "cell_type": "markdown",
      "source": [
        "### Ejercicio 2:\n",
        "Si la serie para $\\ln(x)$ centrada en $x = 1$ se corta después del término que comprende a $(x−1)^{1000}$ y después se utiliza para calcular $\\ln(2)$ ¿Qué cota se puede imponer al error?\n"
      ],
      "metadata": {
        "id": "juadJX7v_gaj"
      }
    },
    {
      "cell_type": "markdown",
      "source": [
        "Queremos calcular el resto de Taylor de orden $1000$ centrado en $1$, es decir $R_{1000,1}(x)$ y dar una cota para el mismo.\n",
        "\n",
        "\n",
        "Para ello podemos usar la fórmula de Lagrange para el resto:\n",
        "\n",
        "\n",
        "$$\n",
        "R_{1000,1}(x) = \\frac{f^{(1001)}(\\xi)}{1001!}(x-1)^{1001}\n",
        "$$\n",
        "\n",
        "Con $\\xi \\in(a,x)=(1,2)$.\n",
        "\n",
        "Observemos que:\n",
        "\n",
        "\\begin{align*}\n",
        "f'(x) &= \\frac{1}{x} \\\\\n",
        "f''(x) &= -\\frac{1\\cdot 1}{x^2} \\\\\n",
        "f'''(x) &= \\frac{1\\cdot 1\\cdot 2}{x^3}\\\\\n",
        "f^{(4)}(x) &= -\\frac{1\\cdot 1\\cdot 2\\cdot 3}{x^4}\\\\\n",
        "&\\vdots\\\\\n",
        "f^{(n)}(x)&= \\frac{(-1)^{n+1}(n-1)!}{x^n}\n",
        "\\end{align*}\n",
        "\n",
        "Para $n=1001$ y $x=\\xi$, tenemos:\n",
        "\n",
        "$$\n",
        "f^{(1001)}(\\xi) = \\frac{(-1)^{1002}(1000)!}{\\xi^{1001}} = \\frac{1000!}{\\xi^{1001}}\n",
        "$$\n",
        "Luego:\n",
        "\n",
        "\\begin{align*}\n",
        "R_{1000,1}(x) &= \\frac{f^{(1001)}(\\xi)}{1001!}(x-1)^{1001} \\\\\n",
        "&= \\frac{1000!}{\\xi^{1001}}\\frac{(x-1)^{1001}}{1001!}\\\\\n",
        "&= \\frac{1}{1001}\\left(\\frac{x-1}{\\xi}\\right)^{1001}\n",
        "\\end{align*}\n",
        "\n",
        "Queremos calcular $\\ln(2)$, es decir, tomamos $x=2$ y resulta:\n",
        "\n",
        "$$\n",
        "R_{1000,1}(2)=  \\frac{1}{1001}\\left(\\frac{2-1}{\\xi}\\right)^{1001} = \\frac{\\xi^{-1001}}{1001}\n",
        "$$\n",
        "\n",
        "Además:\n",
        "\n",
        "\\begin{align*}\n",
        "1< \\xi <2 &⇒ 1^{1001} <\\xi^{1001} \\\\\n",
        "&⇒ 1001<1001\\xi^{1001} \\\\\n",
        "&⇒ \\frac{1}{1001}<\\frac{\\xi^{-1001}}{1001}\n",
        "\\end{align*}\n",
        "\n",
        "Así, podemos acotar a $|R_{1000,1}(2)|$ por:\n",
        "\n",
        "$$\n",
        "|R_{1000,1}(2)| < \\frac{1}{1001} ≈ 9.9\\times10^{-4}\n",
        "$$\n"
      ],
      "metadata": {
        "id": "bakzhS06n9qK"
      }
    },
    {
      "cell_type": "markdown",
      "source": [
        "### Ejercicio 3:\n",
        " Verificar la siguiente igualdad y mostrar que la serie converge en el intervalo $−e < x ≤ e$.\n",
        "\n",
        "$$\n",
        "\\ln(e+x) = 1 + \\sum_{k=1}^∞ \\frac{(-1)^{k-1}}{k}\\left(\\frac{x}{e}\\right)^k\n",
        "$$"
      ],
      "metadata": {
        "id": "txCGzrluAzRA"
      }
    },
    {
      "cell_type": "markdown",
      "source": [
        "Desarrollemos a la serie de Taylor para $\\ln(e+x)$, centrado en $0$. Primero, observemos que:\n",
        "\n",
        "\\begin{align*}\n",
        "f(x) &= \\ln(e+x)\\\\\n",
        "f'(x) &= \\frac{1}{e+x} \\\\\n",
        "f''(x) &= -\\frac{1\\cdot 1}{(e+x)^2} \\\\\n",
        "f'''(x) &= \\frac{1\\cdot 1\\cdot2}{(e+x)^3}\\\\\n",
        "f^{(4)}(x) &= -\\frac{1\\cdot1\\cdot2\\cdot3}{(e+x)^4}\\\\\n",
        "&\\vdots\n",
        "\\end{align*}\n",
        "\n",
        "En general, para $k\\geq1$:\n",
        "\n",
        "$$\n",
        "f^{(k)}(x)= \\frac{(-1)^{k+1}(k-1)!}{(e+x)^k}\n",
        "$$\n",
        "\n",
        "Luego:\n",
        "\n",
        "\n",
        "\\begin{align*}\n",
        "f(x) &= f(0)+\\sum_{k=1}^∞\\frac{f^{(k)}(0)}{k!}x^k \\\\\n",
        "&=\\ln(e+0)+\\sum_{k=1}^∞\\frac{(k+1)!(-1)^{k+1}}{(0+e)^k}\\frac{x^k}{k!} \\\\\n",
        "&= 1 + \\sum_{k=1}^∞\\frac{(-1)^{k+1}}{k}\\left(\\frac{x}{e}\\right)^k\n",
        "\\end{align*}\n",
        "\n",
        "Como queríamos probar.\n",
        "\n",
        "Para obtener el radio de convergencia, usemos el criterio del cociente, siendo:\n",
        "\n",
        "$$\n",
        "a_k = \\frac{(-1)^{k+1}}{ke^k}\n",
        "$$\n",
        "\n",
        "Tenemos:\n",
        "\n",
        "\\begin{align*}\n",
        "L = \\lim_{k\\to∞}\\frac{|a_{k+1}|}{|a_k|} &= \\lim_{k\\to∞} \\left|\\frac{(-1)^{k+2}}{(k+1)e^{k+1}}\\right|\\left|\\frac{ke^k}{(-1)^{k+1}}\\right| \\\\\n",
        "&= \\lim_{k\\to∞}\\left|\\frac{k}{(k+1)e}\\right| \\\\\n",
        "&= \\frac{1}{e}\\lim_{k\\to∞}\\frac{k}{k+1} \\\\\n",
        "&= \\frac{1}{e}\n",
        "\\end{align*}\n",
        "\n",
        "Luego $R=\\frac{1}{L}= e$, lo que nos dice que la serie converge al menos en $(-e,e)$. Veamos los extremos.\n",
        "\n",
        "Para $x=e$, tenemos:\n",
        "\n",
        "$$\n",
        "\\sum_{k=1}^∞\\frac{(-1)^{k+1}}{k}\\left(\\frac{e}{e}\\right)^k = \\sum_{k=1}^∞\\frac{(-1)^{k+1}}{k}\n",
        "$$\n",
        "\n",
        "Que converge por el criterio para series alternantes, ya que $\\frac{1}{k}\\to 0$ cuando $k\\to∞$.\n",
        "\n",
        "Para $x=-e$:\n",
        "\n",
        "$$\n",
        "\\sum_{k=1}^∞\\frac{(-1)^{k+1}}{k}\\left(\\frac{-e}{e}\\right)^k = \\sum_{k=1}^∞\\frac{(-1)^{k+1}}{k}(-1)^k= \\sum_{k=1}^∞\\frac{1}{k}\n",
        "$$\n",
        "\n",
        "que diverge por ser la serie armónica.\n",
        "\n",
        "Así, la serie converge para $x\\in(-e,e]$ o bien $-e<x\\leq e$."
      ],
      "metadata": {
        "id": "a5F31t8KcNF4"
      }
    },
    {
      "cell_type": "markdown",
      "source": [
        "### Ejercicio 4:\n",
        "\n",
        "Desarrollar la función $\\sqrt{x}$ en serie de potencias centrada en $x = 1$ y verifique que utilizando la aproximación lineal de dicha función se puede aproximar $\\sqrt{0.9999999995}$ con un error no mayor que $10^{-10}$.\n"
      ],
      "metadata": {
        "id": "PRL48nGvCEPo"
      }
    },
    {
      "cell_type": "markdown",
      "source": [
        "Sea $f(x)=\\sqrt{x}$, observemos que:\n",
        "\n",
        "\\begin{align*}\n",
        "f(x) &= x^{\\frac{1}{2}} \\\\\n",
        "f'(x)&= \\frac{1}{2}x^{-\\frac{1}{2}} \\\\\n",
        "f''(x)&=-\\frac{1}{4}x^{-\\frac{3}{2}}\\\\\n",
        "f'''(x) &= \\frac{3}{8}x^{-\\frac{5}{2}}\\\\\n",
        "f^{(4)}(x)&=-\\frac{3\\cdot5}{16}x^{-\\frac{7}{2}}\\\\\n",
        "&\\vdots\n",
        "\\end{align*}\n",
        "\n",
        "Para $n\\geq1$, tenemos:\n",
        "\n",
        "$$\n",
        "f^{(n)} = \\frac{\\prod_{k=0}^{k-1}(1-2k)}{2^n}x^{\\frac{1-2n}{2}}\n",
        "$$\n",
        "\n",
        "Luego:\n",
        "\n",
        "$$\n",
        "f(x) = 1+\\sum_{n=1}^∞\\left( \\frac{\\prod_{k=0}^{k-1}(1-2k)}{2^nn!}\\right)\n",
        "$$\n",
        "\n",
        "La aproximación lineal es el polinomio de Taylor de la función, truncado en $n=1$:\n",
        "\n",
        "$$\n",
        "P_{1,1}(x) =1 + \\frac{1}{2}(x-1)\n",
        "$$\n",
        "\n",
        "Podemos utilizar la fórmula de Lagrange para acotar el error:\n",
        "\n",
        "\\begin{align*}\n",
        "&R_{1,1}(x) = \\frac{f''(\\xi)}{2!}(x-1)^2 = -\\frac{1}{8}\\xi^{-\\frac{3}{2}}(x-1)^2 \\\\\n",
        "\\end{align*}\n",
        "\n",
        "Para $\\xi$ entre $x$ y $1$. Para $x=0.9999999995$:\n",
        "\n",
        "\\begin{align*}\n",
        "R_{1,1}(0.9999999995)&= -\\frac{1}{8}\\xi^{-\\frac{3}{2}}(0.9999999995-1)^2 \\\\\n",
        "&= -\\frac{1}{8}\\xi^{-\\frac{3}{2}}(5\\times10^{-10})^2 \\\\\n",
        "&= -\\frac{25}{8}\\xi^{-\\frac{3}{2}}10^{-20}\n",
        "\\end{align*}\n",
        "\n",
        "Como $x<\\xi<1$, entonces:\n",
        "\n",
        "\\begin{align*}\n",
        "\\frac{1}{4}<x<\\xi &⇒ \\left(\\frac{1}{4}\\right)^{\\frac{3}{2}} <x^{\\frac{3}{2}} <\\xi^{\\frac{3}{2}} \\\\ &⇒8 > x^{-\\frac{3}{2}} >\\xi^{-\\frac{3}{2}}\n",
        "\\end{align*}\n",
        "\n",
        "Luego:\n",
        "\n",
        "\\begin{align*}\n",
        "|R_{1,1}(0.9999999995)| &= \\frac{25}{8}\\xi^{-\\frac{3}{2}}10^{-20} \\\\ &< \\frac{25}{8}\\cdot8\\cdot10^{-20} \\\\&= 25\\cdot10^{-20} \\\\ &<10^{-10}\n",
        "\\end{align*}"
      ],
      "metadata": {
        "id": "HHY7r6dAmHWB"
      }
    },
    {
      "cell_type": "markdown",
      "source": [
        "## Notación $\\mathcal{O}$ y $o$"
      ],
      "metadata": {
        "id": "H6czMsmHCrC4"
      }
    },
    {
      "cell_type": "markdown",
      "source": [
        "### Ejercicio 5:\n",
        "Verificar que las siguientes sucesiones convergen a $1$ y analizar su velocidad de convergencia:\n",
        "\n",
        "* a) $x_n = 1 + (\\frac{1}{2})^n$\n",
        "\n",
        "* b) $x_n = 1+ \\frac{1}{2^{2^n}}$\n",
        "\n",
        "* c) $x_n = 1 + \\frac{1}{n^n}$"
      ],
      "metadata": {
        "id": "cDEKjNAgC39Y"
      }
    },
    {
      "cell_type": "markdown",
      "source": [
        "a) Tomamos límite para $n\\to∞$:\n",
        "\n",
        "\\begin{align*}\n",
        "x_* = \\lim_{n\\to∞} 1+ \\left(\\frac{1}{2} \\right)^2 &= \\lim_{n\\to∞}1+ \\frac{1}{2^n} = 1\n",
        "\\end{align*}\n",
        "\n",
        "Analizamos la velocidad de convergencia:\n",
        "\n",
        "$$\n",
        "C= \\frac{|x_{n+1} - x_*|}{|x_n-x_* |} = \\frac{1+\\frac{1}{2^{n+1}}-1}{1+\\frac{1}{2^n}-1} = \\frac{2^n}{2^{n+1}} = 2^{-1} = \\frac{1}{2}\n",
        "$$\n",
        "\n",
        "Como $C<1$ la tasa de convergencia de la sucesión es **lineal**.\n",
        "\n",
        "---\n",
        "\n"
      ],
      "metadata": {
        "id": "2E6UyiEFDXJg"
      }
    },
    {
      "cell_type": "markdown",
      "source": [
        "b) Tenemos:\n",
        "\n",
        "\\begin{align*}\n",
        "x_* = \\lim_{n\\to∞} 1 + \\frac{1}{2^{2^n}} &= \\lim_{n\\to∞}1+\\lim_{n\\to∞}2^{-2n} \\\\ &= 1 + 0  \\hspace{4cm} (-2n\\to-\\infty) \\\\&= 1\n",
        "\\end{align*}\n",
        "\n",
        "Luego:\n",
        "\n",
        "\\begin{align*}\\frac{|x_{n+1}-x_*|}{|x_n - x_*|} &= \\frac{1+\\frac{1}{2^{2^{n+1}}}-1}{1+\\frac{1}{2^{2^n}}-1} = \\frac{2^{2^n}}{2^{2^{n+1}}} \\\\&= \\frac{\\ln(2^{2^n})}{\\ln(2^{2^{n+1}})} = \\frac{2^n\\ln(2)}{2^{n+1}\\ln(2)}  \\\\ &= \\frac{2^n}{2^{n+1}} = 2^{-1} = \\frac{1}{2}\n",
        "\\end{align*}\n",
        "\n",
        "\n",
        "Con lo que la tasa de convergencia de $x_n$ es **lineal**.\n"
      ],
      "metadata": {
        "id": "-MSVs4OMCRx_"
      }
    },
    {
      "cell_type": "markdown",
      "source": [
        "\n",
        "\n",
        "---\n",
        "\n"
      ],
      "metadata": {
        "id": "fDsop135QzgF"
      }
    },
    {
      "cell_type": "markdown",
      "source": [
        "c) Observemos que:\n",
        "\n",
        "\\begin{align}\n",
        "n\\leq n^n⇒\\frac{1}{n^n}\\leq\\frac{1}{n}⇒1\\leq 1+\\frac{1}{n^n}\\leq 1+\\frac{1}{n}\n",
        "\\end{align}\n",
        "\n",
        "Y por el lema del Sandwich:\n",
        "\n",
        "\\begin{align}\n",
        "&& \\lim_{n\\to∞}1\\leq &\\lim_{n\\to∞}\\left(1+\\frac{1}{n^n}\\right)\\leq \\lim_{n\\to∞}\\left(1+\\frac{1}{n}\\right)\\\\\n",
        "&&⇔ 1\\leq &\\lim_{n\\to∞}\\left(1+\\frac{1}{n^n}\\right)\\leq 1+\\lim_{n\\to∞}\\frac{1}{n}\\\\\n",
        "&&⇔ 1\\leq &\\lim_{n\\to∞}\\left(1+\\frac{1}{n^n}\\right)\\leq 1+0\\\\\n",
        "&&⇔&\\lim_{n\\to∞}\\left(1+\\frac{1}{n^n}\\right)=1\n",
        "\\end{align}\n",
        "\n",
        "Luego\n",
        "\n",
        "\\begin{align*}\n",
        "\\frac{|x_{n+1}-x_*|}{|x_n-x_*|} &= \\frac{1+\\frac{1}{(n+1)^{n+1}}-1}{1+\\frac{1}{n^n}-1} =\\frac{n^n}{(n+1)^{n+1}}\\\\\n",
        "&=\\left(\\frac{1}{n+1}\\right)\\left(\\frac{n}{n+1}\\right)^n\\\\\n",
        "&=\\left(\\frac{1}{n+1}\\right)\\frac{1}{\\left(1+\\frac{1}{n}\\right)^n}\\\\\n",
        "&=\\left(\\frac{1}{n+1}\\right)\\left[\\left(1+\\frac{1}{n}\\right)^n\\right]^{-1}\\\\\n",
        "&\\to0⋅e^{-1}=0\n",
        "\\end{align*}\n",
        "\n",
        "Cuando $n\\to\\infty$, con lo cual, el orden de convergencia de la sucesión es **superlineal**."
      ],
      "metadata": {
        "id": "RDiw8r4DHAg_"
      }
    },
    {
      "cell_type": "markdown",
      "source": [
        "### Ejercicio 6:\n",
        "\n",
        "Para $n$ fijo, demostrar que:\n",
        "\n",
        "$$\n",
        "\\sum_{k=0}^n x^k = \\frac{1}{1-x} + o(x^n)\n",
        "$$\n",
        "\n",
        "cuando $x\\to0$."
      ],
      "metadata": {
        "id": "1KT9IqOYHors"
      }
    },
    {
      "cell_type": "markdown",
      "source": [
        "Observemos que:\n",
        "\n",
        "$$\n",
        "\\sum_{k=0}^n x^k = \\frac{1}{1-x} + o(x^n) ⟺ \\sum_{k=0}^n x^k - \\frac{1}{1-x} = o(x^n)\n",
        "$$\n",
        "\n",
        "Es decir, podemos probar el enunciado si demostramos que:\n",
        "\n",
        "$$\n",
        "\\lim_{n\\to∞}\\frac{\\sum_{k=0}^n x^k - \\frac{1}{1-x}}{x^n} = 0\n",
        "$$\n",
        "\n",
        "Cuando $x\\to0$, tenemos que $|x|\\ll1$. Entonces podemos escribir a $x$ como $x=\\frac{1}{y}$ con $y\\in\\mathbb{R}$. Luego:\n",
        "\\begin{align*}\n",
        "\\lim_{n\\to∞}\\frac{\\sum_{k=0}^n x^k - \\frac{1}{1-x}}{x^n} &= \\frac{\\displaystyle\\lim_{n\\to∞}\\left(\\sum_{k=0}^n \\left(\\frac{1}{y}\\right)^k - \\frac{1}{1-\\left(\\frac{1}{y}\\right)}\\right)}{\\displaystyle\\lim_{n\\to∞}\\left(\\frac{1}{y}\\right)^n} \\\\ &= \\frac{\\displaystyle\\lim_{n\\to∞}\\sum_{k=0}^n \\left(\\frac{1}{y}\\right)^k - \\displaystyle\\lim_{n\\to∞}\\frac{1}{1-\\left(\\frac{1}{y}\\right)}}{\\displaystyle\\lim_{n\\to∞}\\frac{1}{y^n}} \\\\&= \\frac{\\displaystyle\\frac{1}{1-\\frac{1}{y}}-\\frac{1}{1-\\frac{1}{y}}}{\\displaystyle\\frac{1}{1}} = \\frac{0}{1}= 0\n",
        "\\end{align*}\n",
        "\n"
      ],
      "metadata": {
        "id": "7Byo8jFzJE9k"
      }
    },
    {
      "cell_type": "markdown",
      "source": [
        "### Ejercicio 7:\n",
        "\n",
        "Mostrar que si $E=\\mathcal{O}(h^n)$ cuando $h\\to 0$, entonces $E=\\mathcal{O}(h^m)$ cuando $h\\to 0$ para todo $m$ no negativo tal que $m\\leq n$."
      ],
      "metadata": {
        "id": "lmo6R3exeIP0"
      }
    },
    {
      "cell_type": "markdown",
      "source": [
        "Si $E=\\mathcal{O}(h^n)$, entonces existe $C>0$ tal que:\n",
        "\n",
        "$$\n",
        "|E| \\leq C|h^n|\n",
        "$$\n",
        "\n",
        "Cuando $h\\to0$, $|h|\\ll1$, con lo cual, podemos escribir $h=\\frac{1}{r}$ para $r\\in\\mathbb{R}$, $r\\geq 1$ es decir:\n",
        "\n",
        "$$\n",
        "|E| \\leq C\\left|\\frac{1}{r^n}\\right|\n",
        "$$\n",
        "\n",
        "Luego si $m\\leq n$, tenemos:\n",
        "\n",
        "$$\n",
        "|r^m| \\leq |r^n| ⟺ \\left|\\frac{1}{r^m}\\right| \\geq \\left|\\frac{1}{r^n}\\right|\n",
        "$$\n",
        "\n",
        "Es decir:\n",
        "\n",
        "$$\n",
        "|E| \\leq C\\left|\\frac{1}{r^n}\\right|\\leq C\\left|\\frac{1}{r^m}\\right| \\leq C|h^m|\n",
        "$$\n",
        "\n",
        "Lo que, por definicíon, nos dice que $E=\\mathcal{O}(h^m)$."
      ],
      "metadata": {
        "id": "d02xcfVGew8Z"
      }
    },
    {
      "cell_type": "markdown",
      "source": [
        "### Ejercicio 8:\n",
        "Mostrar que toda función \"suave\" (esto significa con todas las derivadas que sean necesarias) se puede aproximar en un intervalo de longitud $h$ por medio de un polinomio de grado $n$ con una cota del error de orden $\\mathcal{O}(h^{n+1})$ cuando $x\\to∞$"
      ],
      "metadata": {
        "id": "_j-pfHJIO-qe"
      }
    },
    {
      "cell_type": "markdown",
      "source": [
        "Sea $f$ una función con \"infinitas\" derivadas y supongamos que queremos aproximarla mediante su polinimoio de Taylor de grado $n$ centrado en $a$:\n",
        "\n",
        "\\begin{align*}\n",
        "P_{n,a}(x) &= \\sum_{n=0}^∞\\frac{f^{(n)}(x)}{n!}(x-a)^n \\\\\n",
        "\\end{align*}\n",
        "\n",
        "En un intervalo $x\\in(a-\\frac{h}{2}, a+\\frac{h}{2})$ podemos acotar el error de la siguiente forma:\n",
        "\n",
        "\\begin{align*}\n",
        "|R_{n,a}(x)| &= \\left|\\frac{f^{(n+1)}(\\xi)}{(n+1)!}(x-a)^{n+1} \\right| \\\\\n",
        "&= \\left|\\frac{f^{(n+1)}(\\xi)}{(n+1)!}\\right|\\left|(x-a)^{n+1} \\right| \\\\\n",
        "&=\\left|\\frac{f^{(n+1)}(\\xi)}{(n+1)!}\\right|\\left|(x-a)\\right|^{n+1} \\\\\\tag{$⋆$}\n",
        "&< \\left|\\frac{f^{(n+1)}(\\xi)}{(n+1)!}\\right| \\left| \\frac{h}{2}\\right|^{n+1}  \\\\\n",
        "&= \\left|\\frac{f^{(n+1)}(\\xi)}{(n+1)!}\\right| \\left(\\frac{h}{2}\\right)^{n+1}\n",
        "\\end{align*}\n",
        "\n",
        "La desigualdad $⋆$ se debe a que:\n",
        "\n",
        "\\begin{align}\n",
        "x∈\\left(a-\\frac{h}{2},a+\\frac{h}{2}\\right)&⇒a-\\frac{h}{2}< x <a+\\frac{h}{2}\\\\\n",
        "&⇒x-a<a+\\frac{h}{2}-a=\\frac{h}{2}\n",
        "\\end{align}\n",
        "\n",
        "Por otro lado, para todo $n\\in\\mathbb{N}$:\n",
        "\n",
        "$$\\tag{△}\n",
        "0<\\frac{1}{(n+1)!}\\leq1\n",
        "$$\n",
        "\n",
        "Por último, como $f$ es \"suave\", la derivada $f^{(n+1)}$ es continua en el intervalo cerrado $[a-\\frac{h}{2},a+\\frac{h}{2}]$  y por el [teorema de Weierstrass](https://es.wikipedia.org/wiki/Teorema_de_Weierstrass), la función debe alcanzar un máximo en dicho intervalo, es decir, está acotada por algún $M$. Luego:\n",
        "\n",
        "\\begin{align*}\n",
        "|R_{n,a}(x)| &< \\left|\\frac{f^{(n+1)}(\\xi)}{(n+1)!}\\right| \\left(\\frac{h}{2}\\right)^{n+1}\n",
        "\\\\\\tag{△}\n",
        "&\\leq \\left|f^{(n+1)}(\\xi)\\right| \\left(\\frac{h}{2}\\right)^{n+1}\\\\\n",
        "&\\leq |M|\\left(\\frac{h}{2}\\right)^{n+1}\\\\\n",
        "&\\leq |M|\\left(h\\right)^{n+1}\\\\\n",
        "\\end{align*}\n",
        "\n",
        "Lo que, por definición, nos dice que\n",
        "\n",
        "$$\n",
        "|R_{n,a}(x)|=\\mathcal{O}(h^{n+1})\n",
        "$$"
      ],
      "metadata": {
        "id": "l9V3T_DNEywG"
      }
    },
    {
      "cell_type": "markdown",
      "source": [
        "### Ejericio 9:\n",
        "Decidir si las siguientes afirmaciones son verdaderas o falsas. Justifique."
      ],
      "metadata": {
        "id": "kGtSRq3yi42q"
      }
    },
    {
      "cell_type": "markdown",
      "source": [
        "\n",
        "\n",
        "---\n",
        "\n"
      ],
      "metadata": {
        "id": "KUP9X6O9jHyE"
      }
    },
    {
      "cell_type": "markdown",
      "source": [
        "Nota: Para este ejercicio son útiles las siguientes definiciones:\n",
        "\n",
        "Decimos que $f(x) = \\mathcal{O}(g(x))$ cuando $x\\to x_0$ si:\n",
        "\n",
        "* $\\lim_{x\\to x_0} \\left|\\frac{f(x)}{g(x)}\\right|\\leq c$,  para $c>0$\n",
        "* $∃(x_0-δ, x_0+δ)$ tal que $|f(x)|\\leq c|g(x)|$ para $c>0$ y $x\\in(x_0-δ, x_0+δ)$\n",
        "\n",
        "Decimos que $f(x) = o(g(x))$ cuando $x\\to x_0$ si:\n",
        "\n",
        "* $\\lim_{x\\to x_0} \\left|\\frac{f(x)}{g(x)}\\right|= 0$\n",
        "* $∀\\varepsilon>0 $, $∃δ>0$ tal que $|f(x)|\\leq\\varepsilon|g(x)|$ si $x\\in(x_0-δ, x_0+δ)$."
      ],
      "metadata": {
        "id": "OzenziImlRqo"
      }
    },
    {
      "cell_type": "markdown",
      "source": [
        "\n",
        "\n",
        "---\n",
        "\n"
      ],
      "metadata": {
        "id": "-odRiV-foZVD"
      }
    },
    {
      "cell_type": "markdown",
      "source": [
        "a) $\\displaystyle\\frac{1}{x^2}=\\mathcal{O}\\left(\\frac{1}{x}\\right)\\hspace{3cm} (x\\to 0)$"
      ],
      "metadata": {
        "id": "mJ1DEOi2jJtR"
      }
    },
    {
      "cell_type": "markdown",
      "source": [
        "Sean $f(x)=\\frac{1}{x^2}$ y $g(x)=\\frac{1}{x}$, entonces la igualdad  es cierta si y sólo si:\n",
        "\n",
        "$$\n",
        "\\lim_{x\\to 0} \\left|\\frac{f(x)}{g(x)}\\right|=\\lim_{x\\to0}\\left|\\frac{\\frac{1}{x^2}}{\\frac{1}{x}}\\right|\\leq c\n",
        "$$\n",
        "\n",
        "Con una $c>0$ finita. Pero:\n",
        "\n",
        "\\begin{align*}\n",
        "\\lim_{x\\to 0} \\left|\\frac{\\frac{1}{x^2}}{\\frac{1}{x}}\\right| &= \\lim_{x\\to 0} \\left|\\frac{x}{x^2}\\right|\\\\  &=  \\lim_{x\\to 0} \\left|\\frac{1}{x}\\right| \\\\ &= ∞\n",
        "\\end{align*}\n",
        "\n",
        "Con lo cual la igualdad no puede ser cierta."
      ],
      "metadata": {
        "id": "Ija607tyt2aY"
      }
    },
    {
      "cell_type": "markdown",
      "source": [
        "\n",
        "\n",
        "---\n",
        "\n"
      ],
      "metadata": {
        "id": "qk2FnIJ_tGhu"
      }
    },
    {
      "cell_type": "markdown",
      "source": [
        "b) $\\displaystyle\\frac{n+1}{n^2}=\\mathcal{O}\\left(\\frac{1}{n}\\right)\\hspace{3cm}(n\\to∞)$"
      ],
      "metadata": {
        "id": "DTRjC308tH1A"
      }
    },
    {
      "cell_type": "markdown",
      "source": [
        "Tenemos:\n",
        "\n",
        "\\begin{align*}\n",
        "\\lim_{n\\to∞} \\left|\\frac{\\frac{n+1}{n^2}}{\\frac{1}{n}}\\right| &= \\lim_{n\\to∞} \\left|\\frac{n+1}{n}\\right| \\\\ &= \\lim_{n\\to∞}\\left(1+\\frac{1}{n} \\right) \\\\ &= 1\n",
        "\\end{align*}\n",
        "\n",
        "Con lo cual la definción se cumple."
      ],
      "metadata": {
        "id": "o6aimAJ7wMNN"
      }
    },
    {
      "cell_type": "markdown",
      "source": [
        "\n",
        "\n",
        "---\n",
        "\n"
      ],
      "metadata": {
        "id": "WpjYD_Wsx3Ka"
      }
    },
    {
      "cell_type": "markdown",
      "source": [
        "c) $\\displaystyle\\frac{1}{x}=o\\left(\\frac{1}{x^2}\\right)\\hspace{3cm}(x\\to0)$"
      ],
      "metadata": {
        "id": "UeT6GLsbx4tf"
      }
    },
    {
      "cell_type": "markdown",
      "source": [
        "Tenemos:\n",
        "\n",
        "\\begin{align*}\n",
        "\\lim_{x\\to 0}\\left|\\frac{\\frac{1}{x}}{\\frac{1}{x^2}}\\right| &= \\lim_{x\\to0}\\left|\\frac{x^2}{x}\\right| \\\\ &= \\lim_{x\\to0}|x| \\\\ &=∞\n",
        "\\end{align*}\n",
        "\n",
        "Con lo cual la igualdad no es verdadera.\n",
        "\n"
      ],
      "metadata": {
        "id": "HnB5KPzLzsl9"
      }
    },
    {
      "cell_type": "markdown",
      "source": [
        "\n",
        "\n",
        "---\n",
        "\n"
      ],
      "metadata": {
        "id": "hjMR7Fnj00J8"
      }
    },
    {
      "cell_type": "markdown",
      "source": [
        "d) $\\displaystyle\\cos(x)=1-\\frac{x^2}{2}+\\mathcal{O}(x^4)\\hspace{3cm}(x\\to0)$"
      ],
      "metadata": {
        "id": "hGD10lco01f7"
      }
    },
    {
      "cell_type": "markdown",
      "source": [
        "Recordemos el desarrollo en serie de Taylor de $\\cos(x)$ alrededor de $a=0$:\n",
        "\n",
        "\\begin{align}\n",
        "\\cos(x)&=\\sum_{n=0}^{∞}(-1)^n\\frac{x^{2n}}{(2n)!}\n",
        "\\end{align}\n",
        "\n",
        "Por lo tanto, desarrollando la serie hasta $n=2$ término:\n",
        "\n",
        "\\begin{align}\n",
        "\\cos(x)&≈\\sum_{n=0}^{2}(-1)^n\\frac{x^{2n}}{(2n)!}\\\\\n",
        "&=1-\\frac{x^2}{2}+\\frac{x^4}{24}\n",
        "\\end{align}\n",
        "\n",
        "Donde\n",
        "\n",
        "$$\n",
        "\\left|\\frac{x^4}{24}\\right|\\leq 1⋅\\left|x^4\\right|⇒\\frac{x^4}{24}=\\mathcal{O}(x^4)\n",
        "$$\n",
        "\n",
        "Luego:\n",
        "\n",
        "$$\n",
        "\\cos(x)=1-\\frac{x^2}{2}+O(x^4)\n",
        "$$"
      ],
      "metadata": {
        "id": "f9Pz5fqKT3--"
      }
    },
    {
      "cell_type": "markdown",
      "source": [
        "## Sistema de punto flotante"
      ],
      "metadata": {
        "id": "5v3aY_MM4r9K"
      }
    },
    {
      "cell_type": "markdown",
      "source": [
        "### Ejercicio 11:\n",
        "\n",
        "Considerar los siguientes números reales: $u = 3.721478693$ y $v = 3.720230572$. La resta $u − v$ es\n",
        "igual a $0.001248121$. Si los cálculos se efectúan en un sistema de punto flotante en base $10$ y con\n",
        "$5$ dígitos decimales, verificar que el error relativo de la resta es del $4 \\%$ aproximadamente."
      ],
      "metadata": {
        "id": "YgG95xES6xEb"
      }
    },
    {
      "cell_type": "markdown",
      "source": [
        "En un sistema de punto flotante con base $10$ y con $5$ dígitos decimales, el número $d_1d_2...d_n$ se escribe como:\n",
        "\n",
        "$$\n",
        "0.d_1 d_2 d_3d_4d_5\\times10^n\n",
        "$$\n",
        "\n",
        "Redondeando $d_5$ según $d_6$.\n",
        "Entonces los números $v$ y $u$ en este sistema son:\n",
        "\n",
        "$$\n",
        "fl(u)=fl(3.721478693)=0.37215\\times10^1 \\\\\n",
        "fl(v)=fl(3.720230572) =0.37202\\times 10^1\n",
        "$$\n",
        "\n",
        "Luego, la resta $u-v$ en este sistema es representada por:\n",
        "\n",
        "\\begin{align*}\n",
        "fl(fl(u)-fl(v))&=fl(0.37215\\times10^1 - 0.37202\\times 10^1) \\\\\n",
        "&= fl(0.00013\\times10^1) \\\\ &= 0.13000\\times10^{-2}\n",
        "\\end{align*}\n",
        "\n",
        "Ahora, recordemos que dado un número $x$ y su representación en un sistema de punto flotante $x_r$, el error relativo de la representación es:\n",
        "\n",
        "$$\n",
        "δ_x = \\frac{|x_r-x|}{|x|}\n",
        "$$\n",
        "\n",
        "En nuestro caso:\n",
        "\n",
        "\\begin{align*}\n",
        "\\delta_{u-v}&= \\frac{|0.13000\\times10^{-2}-0.001248121|}{|0.001248121|}\\\\\n",
        "&= \\frac{0.0013-0.01248121}{0.001248121} \\\\ &=0.04156568153 \\\\ &≈0.04\n",
        "\\end{align*}\n",
        "\n",
        "como queríamos comprobar.\n",
        "\n"
      ],
      "metadata": {
        "id": "PxB67CRKwGdQ"
      }
    },
    {
      "cell_type": "markdown",
      "source": [
        "###Ejercicio 12:\n",
        "\n",
        "En un sistema de punto flotante en base $10$ y con $5$ dígitos decimales, ¿qué números reales $x$ cumplen $fl(1.0 + x) = 1.0$?"
      ],
      "metadata": {
        "id": "AYW8yCIj24Yb"
      }
    },
    {
      "cell_type": "markdown",
      "source": [
        "Cualquier número real menor a $10^5$, es decir cualquier número:\n",
        "\n",
        "$$\n",
        "d_1, d_2 d_3 ...d_n\n",
        "$$\n",
        "\n",
        "con $d_1...d_5=0$, ya que su representación en este sistema sería indistinguible del $0$."
      ],
      "metadata": {
        "id": "ATlsw-Wa3wXZ"
      }
    },
    {
      "cell_type": "markdown",
      "source": [
        "### Ejercicio 13:\n",
        "\n",
        "Dar una forma alternativa para realizar las siguientes operaciones evitando la pérdida de dígitos\n",
        "significativos, para $x$ próximo a $0$:"
      ],
      "metadata": {
        "id": "frvFULKS4fmV"
      }
    },
    {
      "cell_type": "markdown",
      "source": [
        "\n",
        "\n",
        "---\n",
        "\n"
      ],
      "metadata": {
        "id": "CdoSm78q196J"
      }
    },
    {
      "cell_type": "markdown",
      "source": [
        "a) $(\\alpha + x)^n-\\alpha^n$, para $\\alpha >0$, $x>0$"
      ],
      "metadata": {
        "id": "f_POfym643CR"
      }
    },
    {
      "cell_type": "markdown",
      "source": [
        "Si consideramos $x$ muy proximo a $0$ en la operación como está expresada tendríamos:\n",
        "\n",
        "$$\n",
        "(α+x)^n ≈α^n ⇒(\\alpha+x)^n - \\alpha^n≈0\n",
        "$$\n",
        "\n",
        "La solución a este inconveniente es reescribir la operación usando el binomio de Newton:\n",
        "\n",
        "$$\n",
        "(\\alpha+x)^n - \\alpha^n= \\sum_{k=0}^n\\binom{n}{k}\\alpha^{n-k}x^k\\hspace{0.1cm}-α^n\n",
        "$$\n",
        "\n",
        "Para ver porqué, consideremos un ejemplo con $n=2$, $\\alpha=50$ y $x=0.005$ un sistema de punto flotante con 2 decimales. El resultado exacto de la operación es:\n",
        "\n",
        "$$\n",
        "(50+0.005)^2-50^2= 0.500025\n",
        "$$\n",
        "\n",
        "Utilizando el sistema de punto flotante tenemos:\n",
        "\n",
        "$$\n",
        "fl(α)=fl(50)= 0.50\\times10^2\\\\\n",
        "fl(x)=fl(0.005)=0.50\\times10^{-2}\n",
        "$$\n",
        "\n",
        "Luego\n",
        "\n",
        "\\begin{align*}\n",
        "fl(α+x) &= fl(0.5\\times10^2+0.5×10^{-2}) = fl(0.5\\times10^2+0.00005×10^2) \\\\\n",
        "&= fl((0.5+0.00005)\\times10^2) = fl(0.50005\\times10^n) \\\\ &= 0.5\\times10^2 = fl(α)\n",
        "\\end{align*}\n",
        "\n",
        "Es decir, en este sistema $\\alpha+x=\\alpha$ con lo cual:\n",
        "\n",
        "\\begin{align*}\n",
        "fl((\\alpha+x)^n-α^n)= fl(\\alpha^n-\\alpha^n) = fl(0) = 0.00×10^0\n",
        "\\end{align*}\n",
        "\n",
        "La pérdida de digitos significativos es evidente.\n",
        "\n",
        "Ahora, si usamos la expresión del binomio de Newton, tenemos:\n",
        "\n",
        "\\begin{align*}\n",
        "(\\alpha+x)^2 &= \\sum_{k=0}^2\\binom{2}{k}\\alpha^{2-k}x^k \\\\\n",
        "&= \\binom{2}{0}\\alpha^2+x^0+\\binom{2}{1}\\alpha^1x^1+\\binom{2}{2}\\alpha^0x^2\\\\\n",
        "&= α^2+2αx+x^2\n",
        "\\end{align*}\n",
        "\n",
        "En este caso:\n",
        "\n",
        "$$\n",
        "fl(2\\alpha) = fl(0.2\\times10^1\\cdot 0.5\\times10^2) =\n",
        "$$"
      ],
      "metadata": {
        "id": "JCy6Hb0U5b56"
      }
    },
    {
      "cell_type": "markdown",
      "source": [
        "\n",
        "\n",
        "---\n",
        "\n"
      ],
      "metadata": {
        "id": "ahkKlI0X12Qq"
      }
    },
    {
      "cell_type": "markdown",
      "source": [
        "b) $\\alpha-\\sqrt{\\alpha^2-x}$"
      ],
      "metadata": {
        "id": "qKZKcO5wzCA7"
      }
    },
    {
      "cell_type": "markdown",
      "source": [
        "Podemos reescribir:\n",
        "\n",
        "\\begin{align*}\n",
        "\\alpha-\\sqrt{\\alpha^2-x} &= \\left(\\alpha-\\sqrt{\\alpha^2-x}\\right)\\left(\\frac{\\alpha+\\sqrt{\\alpha^2-x}}{\\alpha+\\sqrt{\\alpha^2-x}}\\right) \\\\ &=\\frac{x}{\\alpha+\\sqrt{\\alpha^2-x}}\n",
        "\\end{align*}\n",
        "\n"
      ],
      "metadata": {
        "id": "hLiR5q2Iz5HL"
      }
    },
    {
      "cell_type": "markdown",
      "source": [
        "\n",
        "\n",
        "---\n",
        "\n"
      ],
      "metadata": {
        "id": "WqyVR-ZH11JO"
      }
    },
    {
      "cell_type": "markdown",
      "source": [
        "c) $\\ln(\\alpha+x)-\\ln(\\alpha)$ para $\\alpha >0$"
      ],
      "metadata": {
        "id": "szvveyZF14u2"
      }
    },
    {
      "cell_type": "markdown",
      "source": [
        "Reescribimos:\n",
        "\n",
        "\\begin{align*}\n",
        "\\ln(\\alpha+x)-\\ln(\\alpha) &= \\ln\\left(\\frac{\\alpha+x}{\\alpha}\\right) \\\\\n",
        "&= \\ln\\left(1+\\frac{x}{\\alpha}\\right)\n",
        "\\end{align*}"
      ],
      "metadata": {
        "id": "VT53s9np2UHe"
      }
    },
    {
      "cell_type": "markdown",
      "source": [
        "\n",
        "\n",
        "---\n",
        "\n"
      ],
      "metadata": {
        "id": "_JGfWIvNPyvq"
      }
    },
    {
      "cell_type": "markdown",
      "source": [
        "d) $\\sin(\\alpha+x)-\\sin(\\alpha-x)$"
      ],
      "metadata": {
        "id": "Lk4njTufP1Ow"
      }
    },
    {
      "cell_type": "markdown",
      "source": [
        "Podemos usar la siguiente identidad:\n",
        "\n",
        "$$\n",
        "\\sin(\\theta_1\\pmθ_2)= \\sin(\\theta_1)\\cos(\\theta_2)\\pm\\cos(\\theta_1)\\sin(θ_2)\n",
        "$$\n",
        "\n",
        "Así:\n",
        "\n",
        "\\begin{align*}\n",
        "\\sin(\\alpha+x)-\\sin(\\alpha-x) &= \\sin(\\alpha)\\cos(x)+\\cos(\\alpha)\\sin(x) - (\\sin(\\alpha)\\cos(x)-\\cos(\\alpha)\\sin(x)) \\\\\n",
        "&=2\\cos(\\alpha)\\sin(x)\n",
        "\\end{align*}"
      ],
      "metadata": {
        "id": "xMgmssBXQKJk"
      }
    },
    {
      "cell_type": "markdown",
      "source": [
        "### Ejericicio 14\n",
        "\n",
        "Considerar los siguientes números: $x_1 = 1.234 × 10^1$, $x_2 = 3.453 × 10^0$, $x_3 = 3.441 × 10^{−2}$, $x_4 =\n",
        "4.667 × 10^{−3}$, $x_5 = 9.876 × 10^{−4}$. Realizar la suma $x_1 + . . . + x_5$ en el sistema de punto flotante\n",
        "con base $10$ y $4$ dígitos decimales en orden creciente y decreciente. ¿Cuál será más conveniente?\n",
        "(El resultado correcto es $15.8330646$)."
      ],
      "metadata": {
        "id": "AFpyLXlrR5bR"
      }
    },
    {
      "cell_type": "markdown",
      "source": [
        "Tenemos:\n",
        "\n",
        "\\begin{align*}\n",
        "fl(x_1)&= fl(1.234\\times10^1) =0.1234\\times10^2\\\\\n",
        "fl(x_2) &= fl(3.453\\times10^0)=0.3453\\times10^1 \\\\\n",
        "fl(x_3)&= fl(3.441\\times10^{-2}) = 0.3441\\times10^{-1}\\\\\n",
        "fl(x_4) &= fl(4.667\\times10^{-3})= 0.4667×10^{-2}\\\\\n",
        "fl(x_5) &= fl(9.876\\times10^{-4})= 0.9876×10^{-3}\n",
        "\\end{align*}\n",
        "\n",
        "En orden decreciente:\n",
        "\n",
        "\\begin{align*}\n",
        "x_1⊕x_2= fl(fl(x_1)+fl(x_2))&= fl(0.1234\\times10^2+0.3453\\times10^1) \\\\\n",
        "&=fl(0.1234\\times10^2+0.03453\\times10^2) \\\\\n",
        "&=fl(0.15793\\times10^2)\\\\\n",
        "&= 0.1579\\times10^2\n",
        "\\end{align*}\n",
        "\n",
        "\\begin{align*}\n",
        "x_1⊕x_2⊕x_3 &= fl(0.1579\\times10^2+0.3441\\times10^{-1})\\\\\n",
        "&=fl(0.1579\\times10^2+0.0003441×10^2)\\\\\n",
        "&=fl(0.1582441\\times10^2) \\\\\n",
        "&= 0.1582\\times10^2\n",
        "\\end{align*}\n",
        "\n",
        "\\begin{align*}\n",
        "x_1⊕x_2⊕x_3⊕x_4 &= fl(0.1582\\times10^2+0.4667\\times10^{-2})\\\\\n",
        "&= fl(0.1582\\times10^2+0.00004667\\times10^2)\\\\\n",
        "&=fl(0.15824667\\times10^2)\\\\\n",
        "&= 0.1582\\times10^2\n",
        "\\end{align*}\n",
        "\n",
        "$$\n",
        "x_1⊕x_2⊕x_3⊕x_4⊕x_5= 0.1582\\times10^2\n",
        "$$\n",
        "\n",
        "En orden creciente:\n",
        "\n",
        "\\begin{align*}\n",
        "x_5⊕x_4 = fl(fl(x_5)+fl(x_4)) &= fl(0.9876\\times10^{-3}+0.4667\\times10^{-2})\\\\\n",
        "&= fl(0.09876\\times10^{-2}+0.4667\\times10^{-2}) \\\\\n",
        "&= fl(0.56546\\times10^{-2})\\\\\n",
        "&= 0.5654\\times10^{-2}\n",
        "\\end{align*}\n",
        "\n",
        "\\begin{align*}\n",
        "x_5⊕x_4⊕x_3 &=\n",
        "\\end{align*}"
      ],
      "metadata": {
        "id": "XAyRZfcRSwEd"
      }
    }
  ]
}