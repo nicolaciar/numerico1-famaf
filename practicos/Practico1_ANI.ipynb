{
  "nbformat": 4,
  "nbformat_minor": 0,
  "metadata": {
    "colab": {
      "provenance": [],
      "authorship_tag": "ABX9TyOHuGtgVkMUoiRuznAfyb1F"
    },
    "kernelspec": {
      "name": "python3",
      "display_name": "Python 3"
    },
    "language_info": {
      "name": "python"
    }
  },
  "cells": [
    {
      "cell_type": "markdown",
      "source": [
        "# Práctico 1 - Análisis Numérico 1 - FaMAF\n",
        "## Preliminares matemáticos \n",
        "Error absoluto y relativo, sistema de punto flotante, velocidad de convergencia, notación $\\mathcal{O}$ y $o$."
      ],
      "metadata": {
        "id": "dW2IQm_E8qPA"
      }
    },
    {
      "cell_type": "markdown",
      "source": [
        "## Series de potencias y de Taylor\n"
      ],
      "metadata": {
        "id": "R3e2xEw0-eWP"
      }
    },
    {
      "cell_type": "markdown",
      "source": [
        "### Ejercicio 1:\n",
        "* a) Obtener la serie de Taylor centrada en $0$ para la función $f(x) = \\ln(x + 1)$. Escribir la serie usando la notación de sumatorias. Dar una expresión para el resto cuando la serie es\n",
        "truncada en $k$ términos.\n",
        "\n",
        "* b) Estimar el número de términos que deberían incluirse en la serie para aproximar $\\ln(1.5)$ con\n",
        "un margen de error no mayor que $10^{−10}$\n",
        "."
      ],
      "metadata": {
        "id": "l8CvXHce-lCX"
      }
    },
    {
      "cell_type": "markdown",
      "source": [
        "### Ejercicio 2:\n",
        "Si la serie para $\\ln(x)$ centrada en $x = 1$ se corta después del término que comprende a $(x−1)^{1000}$ y después se utiliza para calcular $\\ln(2)$ ¿Qué cota se puede imponer al error?\n"
      ],
      "metadata": {
        "id": "juadJX7v_gaj"
      }
    },
    {
      "cell_type": "markdown",
      "source": [
        "### Ejercicio 3:\n",
        " Verificar la siguiente igualdad y mostrar que la serie converge en el intervalo $−e < x ≤ e$.\n",
        " \n",
        "$$\n",
        "\\ln(e+x) = 1 + \\sum_{k=1}^∞ \\frac{(-1)^{k-1}}{k}(\\frac{x}{e})^k\n",
        "$$"
      ],
      "metadata": {
        "id": "txCGzrluAzRA"
      }
    },
    {
      "cell_type": "markdown",
      "source": [
        "### Ejercicio 4:\n",
        "\n",
        "Desarrollar la función $\\sqrt{x}$ en serie de potencias centrada en $x = 1$ y verifique que utilizando la aproximación lineal de dicha función se puede aproximar $\\sqrt{0.9999999995}$ con un error no mayor que $10^{-10}$.\n"
      ],
      "metadata": {
        "id": "PRL48nGvCEPo"
      }
    },
    {
      "cell_type": "markdown",
      "source": [
        "## Notación $\\mathcal{O}$ y $o$"
      ],
      "metadata": {
        "id": "H6czMsmHCrC4"
      }
    },
    {
      "cell_type": "markdown",
      "source": [
        "### Ejercicio 5:\n",
        "Verificar que las siguientes sucesiones convergen a $1$ y analizar su velocidad de convergencia:\n",
        "\n",
        "* a) $x_n = 1 + (\\frac{1}{2})^n$\n",
        "\n",
        "* b) $x_n = 1+ \\frac{1}{2^{2^n}}$\n",
        "\n",
        "* c) $x_n = 1 + \\frac{1}{n^n}$"
      ],
      "metadata": {
        "id": "cDEKjNAgC39Y"
      }
    },
    {
      "cell_type": "markdown",
      "source": [],
      "metadata": {
        "id": "2E6UyiEFDXJg"
      }
    }
  ]
}