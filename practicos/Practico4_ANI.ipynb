{
  "nbformat": 4,
  "nbformat_minor": 0,
  "metadata": {
    "colab": {
      "provenance": [],
      "toc_visible": true,
      "authorship_tag": "ABX9TyNtV8kE58wEFQ2ygTQNfweY",
      "include_colab_link": true
    },
    "kernelspec": {
      "name": "python3",
      "display_name": "Python 3"
    },
    "language_info": {
      "name": "python"
    }
  },
  "cells": [
    {
      "cell_type": "markdown",
      "metadata": {
        "id": "view-in-github",
        "colab_type": "text"
      },
      "source": [
        "<a href=\"https://colab.research.google.com/github/nicolaciar/numerico1-famaf/blob/main/practicos/Practico4_ANI.ipynb\" target=\"_parent\"><img src=\"https://colab.research.google.com/assets/colab-badge.svg\" alt=\"Open In Colab\"/></a>"
      ]
    },
    {
      "cell_type": "markdown",
      "source": [
        "# Práctico 4 - Análisis Numérico I - FaMAF (2024)\n",
        ">## Aproximación de Funciones\n",
        " Aproximación por Cuadrados Mínimos."
      ],
      "metadata": {
        "id": "dW2IQm_E8qPA"
      }
    },
    {
      "cell_type": "markdown",
      "source": [
        "### Ejercicio 1\n",
        "\n",
        "Obtener el polinomio que mejor aproxima en el sentido de cuadrados mínimos del grado indicado en cada caso:\n",
        "\n",
        "* a) polinomio de grado $1$, para la siguiente tabla de datos:\n",
        "\n",
        "\n",
        "\n",
        "\\begin{array} {|r|r|r|r|r|r|r|r|r|r|r|r|}\n",
        "  \\hline x & 0 & 1 & 2 & 3 & 4 & 5 & 6 & 7 & 8 & 9 \\\\\n",
        "  \\hline y & -0.1 & 1.1 & 1.9 & 3.2 & 3.8 & 5.0 & 6.0 & 7.3 & 8.1 & 8.9 \\\\\n",
        "  \\hline\n",
        "\\end{array}\n",
        "\n",
        "* b) polinomio de grado $2$, para la siguiente tabla de datos:\n",
        "\n",
        "\\begin{array} {|r|r|r|r|r|r|}\n",
        "  \\hline x & -1 & 0 & 1 & 3 & 6  \\\\\n",
        "  \\hline y & 6.1 & 2.8 & 2.2 & 6 & 26.9 \\\\\n",
        "  \\hline\n",
        "  \\end{array}"
      ],
      "metadata": {
        "id": "jVGMyU41kHev"
      }
    },
    {
      "cell_type": "markdown",
      "source": [
        "\n",
        "\n",
        "---\n",
        "\n"
      ],
      "metadata": {
        "id": "Zlo2FfornBQM"
      }
    },
    {
      "cell_type": "markdown",
      "source": [
        "**(a)** Un polinomio de grado $1$ es una recta, con lo cual se nos pide la mejor recta que aproxime los puntos en el sentido de cuadrados mínimos.\n",
        "\n",
        "Esto último significa que el error relacionado a la aproximación  es la suma de los cuadrados de las diferencias entre los valores $y$, en la recta de aproximación $a_0x_i+a_0$ y los valores $y_i$ proporcionados. Por lo tanto debemos encontrar constantes $a_0$ y $a_1$, que minimizan el error de mínimos cuadrados:\n",
        "\n",
        "$$\n",
        "E_2(a_0,a_1)=\\sum_{i=1}^{10}[y_i-(a_1x_i+a_0)]^2\n",
        "$$\n",
        "\n",
        "Del teórico de la materia, sabemos que:\n",
        "\n",
        "$$\n",
        "a_0=\\frac{\\displaystyle\\sum_{i=1}^{10}x_i^2\\sum_{i=1}^{10}y_i-\\sum_{i=1}^{10}x_iy_i\\sum_{i=1}^{10}x_i}{10\\left(\\displaystyle\\sum_{i=1}^{10}x_i^2\\right)-\\left(\\displaystyle\\sum_{i=1}^{10}x_i\\right)^2}\n",
        "$$\n",
        "\n",
        "y\n",
        "\n",
        "$$\n",
        "a_1=\\frac{10\\displaystyle\\sum_{i=1}^{10}x_iy_i-\\sum_{i=1}^{10}x_i\\sum_{i=1}^{10}y_i}{10\\left(\\displaystyle\\sum_{i=1}^{10}x_i^2\\right)-\\left(\\displaystyle\\sum_{i=1}^{10}x_i\\right)^2}\n",
        "$$"
      ],
      "metadata": {
        "id": "QWdr2XoanexD"
      }
    },
    {
      "cell_type": "markdown",
      "source": [
        "Donde:\n",
        "\n",
        "\\begin{align}\n",
        "\\sum_{i=1}^{10}x_i^2&=\\sum_{i=1}^9i^2\\\\\n",
        "&=\\frac{9(9+1)(2⋅9+1)}{6}\\\\\n",
        "&=285\n",
        "\\end{align}\n",
        "\n",
        "\\begin{align}\n",
        "\\sum_{i=1}^{10}y_i&=-0.1 + 1.1 + 1.9 + 3.2 + 3.8 + 5.0 + 6.0 + 7.3 + 8.1 + 8.9\\\\\n",
        "&=45.2\n",
        "\\end{align}\n",
        "\n",
        "\\begin{align}\n",
        "\\sum_{i=1}^{10}x_i&= \\sum_{i=1}^{9}i\\\\\n",
        "&=\\frac{9(9+1)}{2}\\\\\n",
        "&=45\n",
        "\\end{align}\n",
        "\n",
        "\\begin{align}\n",
        "\\sum_{i=1}^{10}x_iy_i=…=286.7\n",
        "\\end{align}\n",
        "\n"
      ],
      "metadata": {
        "id": "J7HdKsQ2wmtk"
      }
    },
    {
      "cell_type": "markdown",
      "source": [
        "Con lo cual:\n",
        "\n",
        "\n",
        "\\begin{align}\n",
        "a_0&=\\frac{285⋅(45.2)-(286.7)\\cdot 45}{10⋅285-45^2}\n",
        "\\\\\n",
        "&\\approx -0.02363\\\\\n",
        "\\end{align}\n",
        "\n",
        "\n",
        "\\begin{align}\n",
        "a_1&=\\frac{10⋅286.7-45⋅45.2\\cdot 45}{10⋅285-45^2}\n",
        "\\\\\n",
        "&=\\frac{833}{825}\\\\\n",
        "&≈ 1.00969\n",
        "\\end{align}\n",
        "\n"
      ],
      "metadata": {
        "id": "xnlI1VarP4u0"
      }
    },
    {
      "cell_type": "code",
      "source": [
        "# @title\n",
        "import matplotlib.pyplot as plt\n",
        "import numpy as np\n",
        "y_i=[-0.1 , 1.1 , 1.9 , 3.2 , 3.8 , 5.0 , 6.0 , 7.3, 8.1, 8.9]\n",
        "x_i=[n for n in range (0,10)]\n",
        "a_0=-0.02363\n",
        "a_1=833/825\n",
        "x_s=np.arange(0,10,0.1)\n",
        "\n",
        "plt.figure()\n",
        "plt.plot(x_i,y_i,'.', label=\"puntos $(x_i,y_i)$\")\n",
        "plt.plot(x_s, a_1*x_s+a_0, label='$y=a_1x+a_0$')\n",
        "plt.xlabel('x')\n",
        "plt.ylabel('y')\n",
        "plt.legend()\n",
        "plt.show()"
      ],
      "metadata": {
        "colab": {
          "base_uri": "https://localhost:8080/",
          "height": 449
        },
        "cellView": "form",
        "id": "9D8cOsI-Qajb",
        "outputId": "9d66b59e-4e83-434c-f110-ba2f7d32287c"
      },
      "execution_count": 15,
      "outputs": [
        {
          "output_type": "display_data",
          "data": {
            "text/plain": [
              "<Figure size 640x480 with 1 Axes>"
            ],
            "image/png": "[encoded data removed]"
          },
          "metadata": {}
        }
      ]
    },
    {
      "cell_type": "markdown",
      "source": [
        "\n",
        "\n",
        "---\n",
        "\n"
      ],
      "metadata": {
        "id": "X6Ng2AGEYBBS"
      }
    },
    {
      "cell_type": "markdown",
      "source": [
        "**(b)**"
      ],
      "metadata": {
        "id": "D2JHs0VfYRpR"
      }
    }
  ]
}