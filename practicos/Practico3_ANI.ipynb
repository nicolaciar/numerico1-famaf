{
  "nbformat": 4,
  "nbformat_minor": 0,
  "metadata": {
    "colab": {
      "provenance": [],
      "toc_visible": true,
      "collapsed_sections": [
        "eOtyckG7RWck"
      ],
      "authorship_tag": "ABX9TyMB7BhmTwRVrNWdCMgQBJTV",
      "include_colab_link": true
    },
    "kernelspec": {
      "name": "python3",
      "display_name": "Python 3"
    },
    "language_info": {
      "name": "python"
    }
  },
  "cells": [
    {
      "cell_type": "markdown",
      "metadata": {
        "id": "view-in-github",
        "colab_type": "text"
      },
      "source": [
        "<a href=\"https://colab.research.google.com/github/nicolaciar/numerico1-famaf/blob/main/practicos/Practico3_ANI.ipynb\" target=\"_parent\"><img src=\"https://colab.research.google.com/assets/colab-badge.svg\" alt=\"Open In Colab\"/></a>"
      ]
    },
    {
      "cell_type": "markdown",
      "source": [
        "# Práctico 3 - Análisis Numérico I - FaMAF (2024)\n",
        ">## Interpolación polinomial\n",
        " Método de Newton y de Lagrange, Error del polinomio interpolante, Splines."
      ],
      "metadata": {
        "id": "dW2IQm_E8qPA"
      }
    },
    {
      "cell_type": "markdown",
      "source": [
        "### Ejercicio 1\n",
        "\n",
        "a) Para la función $f(x)=\\frac{1}{x}$, construir el polinomio interpolante de Lagrange $p$ y el polinomio interpolante de Newton $q$. Usar como nodos los puntos $x_0=2,\\,x_1=2.5,\\,x_2=4.$\n",
        "\n",
        "* i) Comparar los polinomios $p$ y $q$ y dar sus grados.\n",
        "\n",
        "* ii) Calcular $p(3)$.\n",
        "\n",
        "* iii) Graficar $f(x)$ y $p(x)$.\n",
        "\n",
        "* iv) Analizar los resultados.\n",
        "\n",
        "b) Construir los polinomio de Taylor $p_n$ de grado $n=0,1,2,3$ de la función  $f(x)=\\frac{1}{x}$ alrededor de $x_*=1$-\n",
        "\n",
        "* i) Calcular $p_n(3)$.\n",
        "* ii) Graficar $p_n(x)$\n",
        "\n",
        "c) Comparar los valores $p(3)$ y $p_n(3)$."
      ],
      "metadata": {
        "id": "eOtyckG7RWck"
      }
    },
    {
      "cell_type": "markdown",
      "source": [
        "\n",
        "\n",
        "---\n",
        "\n"
      ],
      "metadata": {
        "id": "S5n-eeaRWV9S"
      }
    },
    {
      "cell_type": "markdown",
      "source": [
        "**(a)** La **forma de Newton** del polinomio interpolante utilizando las *diferencias divididas* es\n",
        "\n",
        "$$\n",
        "q_k(x)=\\sum_{i=0}^kf[x_0,x_1,…,x_j]\\prod_{j=0}^{i-1}(x-x_j)\n",
        "$$\n",
        "\n",
        "Utilizamos el siguiente resultado para calcular las $f[x_0,x_1,…,x_n]$:\n",
        "\n",
        "$$\\tag{1}\n",
        "f[x_0,x_1,…,x_n]=\\frac{f[x_1,x_2,…,x_n]-f[x_0,x_1,…,x_{n-1}]}{x_n-x_0}\n",
        "$$\n",
        "\n",
        "Es decir, calculamos las sucesivas diferencias divididas hasta $x_n$. En nuestro caso debemos calcular las diferencias hasta el orden $f[x_0,x_1,x_2]$."
      ],
      "metadata": {
        "id": "9n1c51Lbd0lN"
      }
    },
    {
      "cell_type": "markdown",
      "source": [
        "Las diferencias divididas de primer orden son:\n",
        "\n",
        "\\begin{align}\n",
        "f[x_0]&=f(x_0)=f(2)=\\frac{1}{2}\\\\\n",
        "f[x_1]&=f(x_1)=f(2.5)=\\frac{2}{5}\\\\\n",
        "f[x_2]&=f(x_2)=f(4)=\\frac{1}{4}\n",
        "\\end{align}\n",
        "\n",
        "Con esto y según $(1)$, las diferencias divididas de segundo orden son:\n",
        "\n",
        "\\begin{align}\n",
        "f[x_0,x_1]&=\\frac{f[x_1]-f[x_0]}{x_1-x_0}=\\frac{\\frac{2}{5}-\\frac{1}{2}}{2.5-2}=-\\frac{1}{5}\\\\\n",
        "f[x_1,x_2]&=\\frac{f[x_2]-f[x_1]}{x_2-x_1}=\\frac{\\frac{1}{4}-\\frac{2}{5}}{4-2.5}=-\\frac{1}{10}\n",
        "\\end{align}\n",
        "\n",
        "y finalmente:\n",
        "\n",
        "\\begin{align}\n",
        "f[x_0,x_1,x_2]&=\\frac{f[x_1,x_2]-f[x_0,x_1]}{x_2-x_0}=\\frac{-\\frac{1}{10}+\\frac{1}{5}}{4-2}=\\frac{1}{20}\n",
        "\\end{align}\n",
        "\n",
        "Con estos calculos, el polinomio interpolante de Newton queda determinado:\n",
        "\n",
        "\\begin{align}\n",
        "q(x)&=f[x_0]+f[x_0,x_1](x-x_0)+f[x_0,x_1,x_2](x-x_1)(x-x_0)\\\\\n",
        "&=\\frac{1}{2}-\\frac{1}{5}⋅(x-2)+\\frac{1}{20}\\left(x-\\frac{5}{2}\\right)(x-2)\n",
        "\\end{align}"
      ],
      "metadata": {
        "id": "OiTKiouVQeC8"
      }
    },
    {
      "cell_type": "markdown",
      "source": [
        "La **forma de Lagrange** del polinomio interpolante está dada por:\n",
        "\n",
        "$$\n",
        "p(x)=\\sum_{i=0}^ny_i\\,l_i(x)\n",
        "$$\n",
        "\n",
        "donde\n",
        "\n",
        "$$\\tag{para $i=0,\\dots,n$}\n",
        "l_i(x)=\\prod_{j=0\\\\j\\neq i}^n\\frac{(x-x_j)}{(x_i-x_j)}\n",
        "$$\n",
        "\n",
        "son los polinomio básicos de Lagrange asociados a los puntos distintos $x_0,x_1,…,x_n$. Calculamos estos:\n",
        "\n",
        "\\begin{align}\n",
        "l_0(x)&=\\prod_{j=0}^2\\frac{(x-x_j)}{(x_0-x_j)}=\\frac{(x-x_1)}{(x_0-x_1)}⋅\\frac{(x-x_2)}{(x_0-x_2)}\\\\\n",
        "&=\\frac{(x-2.5)}{(2-2.5)}⋅\\frac{(x-4)}{(2-4)}\\\\\n",
        "&=\\left(x-\\frac{5}{2}\\right)(x-4)\\\\\n",
        "&=x^2-\\frac{13}{2}x+10\n",
        "\\end{align}\n",
        "\n",
        "\\begin{align}\n",
        "l_1(x)&=\\prod_{j=0}^2\\frac{(x-x_j)}{(x_1-x_j)}=\\frac{(x-x_0)}{(x_1-x_0)}⋅\\frac{(x-x_2)}{(x_1-x_2)}\\\\\n",
        "&=\\frac{(x-2)}{(2.5-2)}⋅\\frac{(x-4)}{(2.5-4)}\\\\\n",
        "&=-\\frac{4}{3}(x-2)(x-4)\\\\\n",
        "&=-\\frac{4}{3}x^2+8x-\\frac{32}{3}\n",
        "\\end{align}\n",
        "\n",
        "\\begin{align}\n",
        "l_2(x)&=\\prod_{j=0}^2\\frac{(x-x_j)}{(x_2-x_j)}=\\frac{(x-x_0)}{(x_2-x_0)}⋅\\frac{(x-x_1)}{(x_2-x_1)}\\\\\n",
        "&=\\frac{(x-2)}{(4-2)}⋅\\frac{(x-2.5)}{(4-2.5)}\\\\\n",
        "&=\\frac{1}{3}(x-2)\\left(x+\\frac{5}{2}\\right)\\\\\n",
        "&=\\frac{1}{3}x^2-\\frac{3}{2}x+\\frac{5}{3}\n",
        "\\end{align}\n",
        "\n",
        "De donde:\n",
        "\n",
        "\\begin{align}\n",
        "p(x)&=\\sum_{i=0}^ny_i\\,l_i(x)\\\\\n",
        "&=f(x_0)l_0(x)+f(x_1)l_1(x)+f(x_2)l_2(x)\\\\\n",
        "&=\\frac{1}{2}\\left(x^2-\\frac{13}{2}x+10\\right)+\\frac{2}{5}\\left(-\\frac{4}{3}x^2+8x-\\frac{32}{3}\\right)+\\frac{1}{4}\\left(\\frac{1}{3}x^2-\\frac{3}{2}x+\\frac{5}{3}\\right)\\\\\n",
        "&=\\frac{1}{2}x^2-\\frac{13}{4}x+5-\\frac{8}{15}x^2+\\frac{16}{5}x-\\frac{64}{15}+\\frac{1}{12}x^2-\\frac{3}{8}x+\\frac{5}{12}\\\\\n",
        "&=\\frac{1}{20}x^2-\\frac{17}{40}x+\\frac{23}{20}\n",
        "\\end{align}"
      ],
      "metadata": {
        "id": "gIouUxHvagZ0"
      }
    },
    {
      "cell_type": "markdown",
      "source": [
        "**i)** Si comparamos ambos polinomios vemos que:\n",
        "\n",
        "\n",
        "\\begin{align}\n",
        "q(x)&= \\frac{1}{2}-\\frac{1}{5}⋅(x-2)+\\frac{1}{20}\\left(x-\\frac{5}{2}\\right)(x-2)\\\\\n",
        "&=\\frac{1}{2}-\\frac{x}{5}+\\frac{2}{5}+\\frac{1}{20}\\left(x^2-\\frac{9}{2}x+5\\right)\\\\\n",
        "&=\\frac{9}{10}-\\frac{x}{5}+\\frac{x^2}{20}-\\frac{9}{40}x+\\frac{1}{4}\\\\\n",
        "&=\\frac{1}{20}x^2-\\frac{17}{40}x+\\frac{23}{20}\\\\\n",
        "&=p(x)\n",
        "\\end{align}\n",
        "\n",
        "Ambos son el mismo polinomio en concordancia con el Teorema 1 de la clase 7. Su grado es $n=2$."
      ],
      "metadata": {
        "id": "r-BHFulpiFSA"
      }
    },
    {
      "cell_type": "markdown",
      "source": [
        "**ii)** Tenemos:\n",
        "\n",
        "\\begin{align}\n",
        "p(3)&=\\frac{1}{20}(3)^2-\\frac{17}{40}(3)+\\frac{23}{20}\\\\\n",
        "&=\\frac{9}{20}-\\frac{51}{40}+\\frac{23}{20}\\\\\n",
        "&=\\frac{13}{40}=0.325\n",
        "\\end{align}"
      ],
      "metadata": {
        "id": "Z9FUsagCmBRG"
      }
    },
    {
      "cell_type": "markdown",
      "source": [
        "**iii)** Tenemos:"
      ],
      "metadata": {
        "id": "7e-O4uDcoCUZ"
      }
    },
    {
      "cell_type": "markdown",
      "source": [
        "![imagen.png](data:image/png;base64,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)"
      ],
      "metadata": {
        "id": "2w768cAioGrz"
      }
    },
    {
      "cell_type": "markdown",
      "source": [
        "\n",
        "\n",
        "---\n",
        "\n"
      ],
      "metadata": {
        "id": "o3Mmdw2ioKzY"
      }
    },
    {
      "cell_type": "markdown",
      "source": [
        "### Ejercicio 2\n",
        "\n",
        "Demostrar que si $f$ es un polinomio de grado menor o igual que $n$ entonces el polinomio de grado menor o igual que $n$ que interpola a $f$ en $x_0,x_1,…,x_n$ es $f$."
      ],
      "metadata": {
        "id": "3XH2NcTZoaDz"
      }
    },
    {
      "cell_type": "markdown",
      "source": [
        "\n",
        "\n",
        "---\n",
        "\n"
      ],
      "metadata": {
        "id": "FGL7jaiKNLcw"
      }
    },
    {
      "cell_type": "markdown",
      "source": [
        "Según el Teorema $1$ de la clase $7$, dados $x_0,x_1,\\dots,x_n$ y sus respectivos valores $f(x_0),f(x_1),\\dots,f(x_n)$ entonces el polinomio que interpola a $f$ en dichos puntos, de grado menor o igual que $n$, es **único**. Como $f$ es un polinomio de grado menor o igual que $n$ entonces $f$ es el polinomio que se interpola a si mismo."
      ],
      "metadata": {
        "id": "WqmxxwQ9wpVE"
      }
    },
    {
      "cell_type": "markdown",
      "source": [
        "\n",
        "\n",
        "---\n",
        "\n"
      ],
      "metadata": {
        "id": "qsKQPZiPNL8N"
      }
    },
    {
      "cell_type": "markdown",
      "source": [
        "### Ejercicio 3\n",
        "\n",
        "Mostrar que si $g(x)$ interpola a $f(x)$ en los puntos $x_0,x_1,…,x_{n-1}$ y $h(x)$ interpola a $f(x)$ en los puntos $x_1,x_2,…,x_{n}$, entonces\n",
        "\n",
        "$$\n",
        "p(x)=g(x)+\\frac{x_0-x}{x_n-x_0}(g(x)-h(x))\n",
        "$$\n",
        "\n",
        "interpola a $f(x)$ en $x_0,x_1,…,x_n.$"
      ],
      "metadata": {
        "id": "IlpQ5LXKLVOH"
      }
    },
    {
      "cell_type": "markdown",
      "source": [
        "\n",
        "\n",
        "---\n",
        "\n"
      ],
      "metadata": {
        "id": "pxcvKSpqM9y-"
      }
    },
    {
      "cell_type": "markdown",
      "source": [
        "Si $g(x)$ interpola a $f$ en los puntos $x_0,x_1,\\dots,x_{n-1}$, entonces\n",
        "\n",
        "$$\n",
        "g(x)=\\sum_{i=0}^{n-1}f(x_i)l_i(x)\n",
        "$$\n",
        "\n",
        "Si $h(x)$ interpola a $f$ en los puntos $x_1,x_2,…,x_n$, entonces:\n",
        "\n",
        "$$\n",
        "h(x)=\\sum_{i=1}^{n}f(x_i)l_i(x)\n",
        "$$\n",
        "\n",
        "Observemos que\n",
        "\n",
        "\\begin{align}\n",
        "g(x)-h(x)&=\\sum_{i=0}^{n-1}f(x_i)l_i(x)-\\sum_{i=1}^nf(x_i)l_i(x)\\\\\n",
        "&=f(x_0)l_0(x)-f(x_n)l_n(x)\\\\\n",
        "&=f(x_0)\\prod_{j=1}^n\\frac{x-x_j}{x_0-x_j}-f(x_n)\\prod_{j=0}^{n-1}\\frac{x-x_j}{x_n-x_j}\n",
        "\\end{align}\n",
        "\n",
        "\n",
        "\n"
      ],
      "metadata": {
        "id": "dBTqLEcjzCKT"
      }
    }
  ]
}