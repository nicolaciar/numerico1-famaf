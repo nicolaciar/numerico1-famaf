{
  "nbformat": 4,
  "nbformat_minor": 0,
  "metadata": {
    "colab": {
      "provenance": [],
      "collapsed_sections": [
        "dDQa9JgQcGKk",
        "cDwDA9igEzxg",
        "Li-6knXBPb5s",
        "pbbNmMZZhL6a",
        "FzNfV6aGDWz_",
        "ErNot_rnrI2Q",
        "hzVZMpcolPmn",
        "dhbdJ_RCosiF"
      ],
      "authorship_tag": "ABX9TyO2dbA1quqULb2k7GGYBkuE",
      "include_colab_link": true
    },
    "kernelspec": {
      "name": "python3",
      "display_name": "Python 3"
    },
    "language_info": {
      "name": "python"
    }
  },
  "cells": [
    {
      "cell_type": "markdown",
      "metadata": {
        "id": "view-in-github",
        "colab_type": "text"
      },
      "source": [
        "<a href=\"https://colab.research.google.com/github/nicolaciar/numerico1-famaf/blob/main/Practicos/Practico5_ANI.ipynb\" target=\"_parent\"><img src=\"https://colab.research.google.com/assets/colab-badge.svg\" alt=\"Open In Colab\"/></a>"
      ]
    },
    {
      "cell_type": "markdown",
      "source": [
        "# Práctico 5 - Análisis Numérico I - FaMAF\n",
        ">## Integración numérica\n",
        "Reglas simples y compuestas: rectángulo, punto medio, trapecio y Simpson. Reglas\n",
        "Gaussianas.\n"
      ],
      "metadata": {
        "id": "dW2IQm_E8qPA"
      }
    },
    {
      "cell_type": "markdown",
      "source": [
        "## Ejercicio 1\n",
        "\n",
        "Usando la interpolación polinomial deducir la regla de Simpson calculando\n",
        "\n",
        "$$\n",
        "I(p_2)=\\int_a^bp_2(x)\\,dx\n",
        "$$\n",
        "\n",
        "donde $p_2$ es el polinomio que interpola $f$ en los puntos $x_0=a,x_1=\\frac{a+b}{2},x_2=b$."
      ],
      "metadata": {
        "id": "dDQa9JgQcGKk"
      }
    },
    {
      "cell_type": "markdown",
      "source": [
        "\n",
        "\n",
        "---\n",
        "\n"
      ],
      "metadata": {
        "id": "clXCTgBadFmd"
      }
    },
    {
      "cell_type": "markdown",
      "source": [
        "Recordemos que el polinomio de Lagrange $p_2(x)$ que interpola a $f$ en los puntos $x_0,x_1$ y $x_2$ es:\n",
        "\n"
      ],
      "metadata": {
        "id": "Bl2ShnCCpIJh"
      }
    },
    {
      "cell_type": "markdown",
      "source": [
        "$$\n",
        "P_2(x)=\\sum_{i=0}^2f(x_i)l_{i}(x)=f(x_0)l_0(x)+f(x_1)l_1(x)+f(x_2)l_2(x)\n",
        "$$"
      ],
      "metadata": {
        "id": "x7qTlcmoqfIv"
      }
    },
    {
      "cell_type": "markdown",
      "source": [
        "Si integramos respecto a $x$, en el intervalo $[a,b]$ obtenemos:"
      ],
      "metadata": {
        "id": "6sJwkf_Wqfmd"
      }
    },
    {
      "cell_type": "markdown",
      "source": [
        "\\begin{align*}\n",
        "\\int_a^bP_2(x)\\,dx&=\\int_a^bf(x_0)l_0(x)\\,dx+\\int_a^bf(x_1)l_1(x)\\,dx+\\int_a^bf(x_2)l_2(x)\\,dx\\\\\n",
        "&=f(x_0)\\int_a^bl_0(x)\\,dx+f(x_1)\\int_a^bl_1(x)\\,dx+f(x_2)\\int_a^bl_2(x)\\,dx\n",
        "\\end{align*}"
      ],
      "metadata": {
        "id": "ubTjrE9_qzsM"
      }
    },
    {
      "cell_type": "markdown",
      "source": [
        "Donde:\n",
        "\n",
        "\\begin{align*}\n",
        "\\int_a^bl_0(x)\\,dx&=\\int_a^b\\frac{(x-x_1)}{(x_0-x_1)}\\frac{(x-x_2)}{(x_0-x_2)}\\,dx\\\\\n",
        "&=\\int_a^b\\frac{(x-\\frac{a+b}{2})}{(a-\\frac{a+b}{2})}\\frac{(x-b)}{(a-b)}\\,dx\\\\\n",
        "&=\\frac{1}{(a-\\frac{a+b}{2})(a-b)}∫_a^b\\left(x-\\frac{a+b}{2}\\right)(x-b)dx\\\\\n",
        "&=\\frac{2}{(a-b)^2}\\int_a^b\\left(x^2-x\\left(\\frac{a+3b}{2}\\right)+\\frac{b(a+b)}{2}\\right)dx\\\\\n",
        "&=\\frac{2}{(a-b)^2}\\left(\\frac{x^3}{3}-x^2\\left(\\frac{a+3b}{4}\\right)+x\\frac{b(a+b)}{2}\\right)\\Bigg|_a^b\\\\\n",
        "&=\\frac{2}{(a-b)^2}\\left[\\left(\\frac{b^3}{3}-b^2\\left(\\frac{a+3b}{4}\\right)+b\\frac{b(a+b)}{2}\\right)-\\left(\\frac{a^3}{3}-a^2\\left(\\frac{a+3b}{4}\\right)+a\\frac{b(a+b)}{2}\\right)\\right]\\\\\n",
        "&=\n",
        "\\end{align*}"
      ],
      "metadata": {
        "id": "t11he3lesAz4"
      }
    },
    {
      "cell_type": "markdown",
      "source": [
        "## Ejercicio 2\n",
        "\n",
        "La funcion $f$ se define en el intervalo $[0,1]$ como sigue:\n",
        "\n",
        "$$\n",
        "f(x)=\\begin{cases}x, &0\\leq x\\leq\\frac{1}{2}\\\\1-x,&\\frac{1}{2}\\leq x\\leq1\\end{cases}\n",
        "$$\n",
        "\n",
        "Calcular los resultados de aplicar las siguientes reglas para hallar $\\int_0^1f(x)\\,dx:$\n",
        "\n",
        "$\\hspace{0.5cm}\\text{a)}$ La regla del trapecio sobre el intervalo $[0,1]$\n",
        "\n",
        "$\\hspace{0.5cm}\\text{b})$ La regla del trapecio, primero sobre el intervalo $[0,\\frac{1}{2}]$ y luego sobre el intervalo $[\\frac{1}{2},1]$\n",
        "\n",
        "$\\hspace{0.5cm}\\text{b})$ La regla de Simpson sobre el intervalo $[0,1]$\n",
        "\n",
        "$\\hspace{0.5cm}\\text{b})$ ¿Qué se puede concluir de los resultados obtenidos en los tres items anteriores?"
      ],
      "metadata": {
        "id": "cDwDA9igEzxg"
      }
    },
    {
      "cell_type": "markdown",
      "source": [
        "\n",
        "\n",
        "---\n",
        "\n"
      ],
      "metadata": {
        "id": "nFtfC5SPG0lA"
      }
    },
    {
      "cell_type": "markdown",
      "source": [
        "$\\textbf{(a)}$ La regla del trapecio establece:\n",
        "\n",
        "\\begin{align*}\n",
        "∫_a^bf(x)\\,dx≈\\frac{h}{2}(f(a)-f(b))=\\frac{b-a}{2}(f(a)-f(b))\n",
        "\\end{align*}\n",
        "\n",
        "Con lo cual, en nuestro caso,\n",
        "\n",
        "\\begin{align*}\n",
        "\\int_0^1f(x)\\,dx≈\\frac{0-1}{2}(0-(1-1))=0\n",
        "\\end{align*}"
      ],
      "metadata": {
        "id": "MvJWPzLcG3Mr"
      }
    },
    {
      "cell_type": "markdown",
      "source": [
        "\n",
        "\n",
        "---\n",
        "\n"
      ],
      "metadata": {
        "id": "e6wQbELaJbh7"
      }
    },
    {
      "cell_type": "markdown",
      "source": [
        "$\\textbf{(b)}$ En este caso:\n",
        "\n",
        "\\begin{align*}\n",
        "\\int_0^1f(x)\\,dx&=\\int_0^{\\frac{1}{2}}f(x)\\,dx+\\int_\\frac{1}{2}^1f(x)\\,dx\\\\\n",
        "&=\\int_0^{\\frac{1}{2}}x\\,dx+\\int_\\frac{1}{2}^1(1-x)\\,dx\n",
        "\\end{align*}\n",
        "\n",
        "Aplicando la regla del trapecio:\n",
        "\n",
        "\\begin{align*}\n",
        "\\int_0^1f(x)\\,dx&≈\\frac{\\frac{1}{2}-0}{2}\\left(\\frac{1}{2}+0\\right)+\\frac{1-\\frac{1}{2}}{2}\\left(1-1+1-\\frac{1}{2}\\right)\\\\\n",
        "&=\\frac{1}{8}+\\frac{1}{4}\\left(\\frac{1}{2}\\right)\\\\\n",
        "&=\\frac{1}{4}\n",
        "\\end{align*}"
      ],
      "metadata": {
        "id": "n6b9fkdVJcFW"
      }
    },
    {
      "cell_type": "markdown",
      "source": [
        "\n",
        "\n",
        "---\n",
        "\n"
      ],
      "metadata": {
        "id": "Fk_fLheDNP2G"
      }
    },
    {
      "cell_type": "markdown",
      "source": [
        "$\\textbf{(c)}$ Para aplicar la regla de Simpson sobre el intervalo $[0, 1]$ para aproximar la integral $\\int_0^1 f(x) \\, dx$, necesitamos evaluar la función en tres puntos: los extremos del intervalo $a$ y $b$, y el punto medio $\\frac{a + b}{2}$. La fórmula de la regla de Simpson es:\n",
        "\n",
        "$$\n",
        "\\int_a^b f(x) \\, dx \\approx \\frac{b - a}{6} \\left[ f(a) + 4f\\left(\\frac{a + b}{2}\\right) + f(b) \\right]\n",
        "$$\n",
        "\n",
        "Para nuestro caso:\n",
        "\n",
        "$$\n",
        "a = 0, \\quad b = 1, \\quad \\text{y} \\quad \\frac{a + b}{2} = \\frac{0 + 1}{2} = \\frac{1}{2}\n",
        "$$\n",
        "\n",
        "Evaluamos la función $f(x)$ en estos puntos:\n",
        "\n",
        "- $f(0)$: Como $0 \\leq 0 \\leq \\frac{1}{2}$, usamos la primera parte de la función, por lo que $f(0) = 0$.\n",
        "\n",
        "- $f(1)$: Como $\\frac{1}{2} \\leq 1 \\leq 1$, usamos la segunda parte de la función, por lo que $f(1) = 1 - 1 = 0$.\n",
        "- $f\\left(\\frac{1}{2}\\right)$: Aquí podemos usar cualquiera de las dos definiciones, ya que en $x = \\frac{1}{2}$, $f\\left(\\frac{1}{2}\\right) = \\frac{1}{2}$.\n",
        "\n",
        "Luego, la aproximación de la integral usando la regla de Simpson es:\n",
        "\n",
        "$$\n",
        "\\int_0^1 f(x) \\, dx \\approx \\frac{1 - 0}{6} \\left[ f(0) + 4f\\left(\\frac{1}{2}\\right) + f(1) \\right]\n",
        "$$\n",
        "\n",
        "Sustituyendo los valores:\n",
        "\n",
        "$$\n",
        "\\int_0^1 f(x) \\, dx \\approx \\frac{1}{6} \\left[ 0 + 4 \\cdot \\frac{1}{2} + 0 \\right] = \\frac{1}{6} \\left[ 0 + 2 + 0 \\right] = \\frac{1}{6} \\cdot 2 = \\frac{2}{6} = \\frac{1}{3}\n",
        "$$\n",
        "\n",
        "Por lo tanto, la aproximación de $\\int_0^1 f(x) \\, dx$ usando la regla de Simpson es $\\frac{1}{3}$."
      ],
      "metadata": {
        "id": "ByGyn68BNQl3"
      }
    },
    {
      "cell_type": "markdown",
      "source": [
        "\n",
        "\n",
        "---\n",
        "\n"
      ],
      "metadata": {
        "id": "-pNM2rNaPNHQ"
      }
    },
    {
      "cell_type": "markdown",
      "source": [
        "## Ejercicio 3\n",
        "\n",
        "Se desea emparejar el siguiente terreno de $12\\, metros \\times 10\\, metros$:\n",
        "\n",
        "![imagen.png](data:image/png;base64,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)\n",
        "\n",
        "$\\hspace{0.5cm}a)$ Usando la Regla de Simspon, dar una estimación de los metros cúbicos de tierra que posee el terreno.\n",
        "\n",
        "$\\hspace{0.5cm}b)$ Estimar la altura $x$ que tendrá el terreno si lo emparejamos sin remover nada de tierra."
      ],
      "metadata": {
        "id": "Li-6knXBPb5s"
      }
    },
    {
      "cell_type": "markdown",
      "source": [
        "\n",
        "\n",
        "---\n",
        "\n"
      ],
      "metadata": {
        "id": "xC-qWlaHRt33"
      }
    },
    {
      "cell_type": "markdown",
      "source": [
        "$\\textbf{(a)}$ Podemos suponer que $f(x)$ describe la  curva contenida en la superficie del terreno, el intervalo de integración será entonces $[0,12]$ y observando el gráfico:\n",
        "\n",
        "\\begin{align*}\n",
        "a&=0, &b=12, &&\\frac{a+b}{2}=6\\\\\n",
        "f(a)&=2, &f(b)=1, &&f\\left(\\frac{a+b}{2}\\right)=0\n",
        "\\end{align*}\n",
        "\n",
        "Aplicando la regla de Simpson:\n",
        "\n",
        "\\begin{align*}\n",
        "\\int_a^b f(x) \\, dx &\\approx \\frac{b - a}{6} \\left[ f(a) + 4f\\left(\\frac{a + b}{2}\\right) + f(b) \\right]\\\\\n",
        "&=\\frac{6-0}{3}\\left(2+4⋅0+1\\right)\\\\\n",
        "&=6\\,\\text{m}^2\n",
        "\\end{align*}\n",
        "\n",
        "Este es el área aproximada de la sección transversal del terreno, multiplicandola por la profundidad del mismo $(10 \\text{m})$ obtenemos una aproximación de los metros cúbicos de tierra que posee el mismo:\n",
        "\n",
        "$$\n",
        "\\text{m}^3\\text{ de tierra del terreno}=6\\,\\text{m}^2\\times10\\,\\text{m}=60\\,\\text{m}^3\n",
        "$$"
      ],
      "metadata": {
        "id": "fOr6EKBSRyB3"
      }
    },
    {
      "cell_type": "markdown",
      "source": [
        "\n",
        "\n",
        "---\n",
        "\n"
      ],
      "metadata": {
        "id": "ep0ma9URWizP"
      }
    },
    {
      "cell_type": "markdown",
      "source": [
        "$\\textbf{(b)}$ Para emparejar el terreno sin remover tierra, debemos contruir un rectángulo de $12$ metro de largo, $10$ metro de profundidad y $x$ altura, cuyo volumen es de $60$ metro cuadrados. Esto es:\n",
        "\n",
        "\\begin{align*}\\tag{m}\n",
        "10⋅12⋅x=60⇔120x=60⇔x=\\frac{1}{2}\n",
        "\\end{align*}"
      ],
      "metadata": {
        "id": "c6785bFQWkHr"
      }
    },
    {
      "cell_type": "markdown",
      "source": [
        "## Ejercicio 4\n",
        "\n",
        "$a)$ Construir una regla de la forma:\n",
        "\n",
        "$$\n",
        "\\int_{-1}^1f(x)\\,dx≈A_0f(-0.5)+A_1f(0)+A_2f(0.5)\n",
        "$$\n",
        "\n",
        "que sea exacta para todos los polinomios de grado menor o igual que $2$.\n",
        "\n",
        "$b)$ Determinar el grado de precisión de la fórmula para\n",
        "\n",
        "$$\n",
        "\\int_{-1}^1f(x)\\,dx≈\\frac{4}{3}f(-0.5)-\\frac{2}{3}f(0)+\\frac{4}{3}f(0.5)\n",
        "$$"
      ],
      "metadata": {
        "id": "pbbNmMZZhL6a"
      }
    },
    {
      "cell_type": "markdown",
      "source": [
        "\n",
        "\n",
        "---\n",
        "\n"
      ],
      "metadata": {
        "id": "g0qfj3i_kK3q"
      }
    },
    {
      "cell_type": "markdown",
      "source": [
        "$(a)$ Para que una regla de la forma dada, sea exacta, debe cumplirse la igualdad para cualquier polinomio $p_n$ de grado $n\\leq2$.\n",
        "\n",
        "\n",
        "Cualquier polinomio de grado al menos dos, $p_2$, pertenece al espacio de polinomios $\\mathbb{R}_2[x]$. Si pensamos a la regla como una transformación en el espacio de polinomios, entonces está definida por su acción en los vectores de la base canónica $\\{1,x,x^2\\}$. En otras palabras, debe cumplirse que:\n",
        "\n",
        "\\begin{align*}\n",
        "\\int_{-1}^1p_i(x)\\,dx&=\n",
        "A_0p_i(-0.5)-A_1p_i(0)+A_2p_i(0.5)\n",
        "\\end{align*}\n",
        "\n",
        "Donde $p_0(x)=1,p_1(x)=x$ y $p_2(x)=x^2$, lo que nos da un sistema de 3 ecuaciones y 3 icongnitas, la primer ecuación es:\n",
        "\n",
        "\\begin{align*}\n",
        "\\int_{-1}^1p_0(x)\\,dx&=\n",
        "A_0p_0(-0.5)-A_1p_0(0)+A_2p_0(0.5)\\\\\n",
        "\\int_{-1}^11\\,dx&=A_0(1)-A_1(1)+A_2(1)\\\\\n",
        "1-(-1)&=A_0-A_1+A_2\\\\\n",
        "2&=A_0-A_1+A_2\n",
        "\\end{align*}\n",
        "\n",
        "La segunda ecuación:\n",
        "\n",
        "\\begin{align*}\n",
        "\\int_{-1}^1p_1(x)\\,dx&=\n",
        "A_0p_1(-0.5)-A_1p_1(0)+A_2p_1(0.5)\\\\\n",
        "\\int_{-1}^1x\\,dx&=A_0(-0.5)-A_1(0)+A_2(0.5)\\\\\n",
        "\\frac{1}{2}-\\frac{(-1)^2}{2}&=-\\frac{A_0}{2}+\\frac{A_2}{2}\\\\\n",
        "0&=-\\frac{A_0}{2}+\\frac{A_2}{2}\n",
        "\\end{align*}\n",
        "\n",
        "Y la tercera ecuación\n",
        "\n",
        "\\begin{align*}\n",
        "\\int_{-1}^1p_2(x)\\,dx&=\n",
        "A_0p_2(-0.5)-A_1p_2(0)+A_2p_2(0.5)\\\\\n",
        "\\int_{-1}^1x^2\\,dx&=A_0(-0.5)^2-A_1(0)^2+A_2(0.5)^2\\\\\n",
        "\\frac{1}{3}-\\frac{(-1)^3}{3}&=\\frac{A_0}{4}+\\frac{A_2}{4}\\\\\n",
        "\\frac{2}{3}&=\\frac{A_0}{4}+\\frac{A_2}{4}\n",
        "\\end{align*}"
      ],
      "metadata": {
        "id": "S8YRiyaemZ1y"
      }
    },
    {
      "cell_type": "markdown",
      "source": [
        "De la segunda ecuación $A_0=A_2$, reemplazando en la tercera ecuación:\n",
        "\n",
        "\\begin{align*}\n",
        "\\frac{2}{3}=\\frac{A_0}{4}+\\frac{A_2}{4}&⇔\\frac{2}{3}=\\frac{A_0}{4}+\\frac{A_0}{4}\\\\\n",
        "&⇔\\frac{2}{3}=\\frac{A_0}{2}\\\\\n",
        "&⇔A_0=\\frac{4}{3}\n",
        "\\end{align*}"
      ],
      "metadata": {
        "id": "yvReKq4f3wvP"
      }
    },
    {
      "cell_type": "markdown",
      "source": [
        "Con lo cual $A_2=\\frac{4}{3}$, reemplazando en la primera ecuación:\n",
        "\n",
        "\\begin{align*}\n",
        "2=A_0-A_1+A_2&⇔A_1=A_0+A_2-2\\\\\n",
        "&⇔A_1=\\frac{4}{3}+\\frac{4}{3}-2\\\\\n",
        "&⇔A_1=\\frac{8}{3}-\\frac{6}{3}\\\\\n",
        "&⇔A_1=\\frac{2}{3}\n",
        "\\end{align*}"
      ],
      "metadata": {
        "id": "YR8IHZvf6DbG"
      }
    },
    {
      "cell_type": "markdown",
      "source": [
        "Con los coeficientes determinados, la regla queda definida\n",
        "\n"
      ],
      "metadata": {
        "id": "uT_Vryy27ZJR"
      }
    },
    {
      "cell_type": "markdown",
      "source": [
        "$$\n",
        "\\int_{-1}^1f(x)\\,dx≈\\frac{4}{3}f(-0.5)-\\frac{2}{3}f(0)+\\frac{4}{3}f(0.5)\n",
        "$$\n",
        "\n",
        "La cual es exacta si $f(x)=p_n(x)$ con $n\\leq2$."
      ],
      "metadata": {
        "id": "Hg4976rW7w9k"
      }
    },
    {
      "cell_type": "markdown",
      "source": [
        "\n",
        "\n",
        "---\n",
        "\n"
      ],
      "metadata": {
        "id": "E1EypApw8Akl"
      }
    },
    {
      "cell_type": "markdown",
      "source": [
        "$(b)$ Damos la siguiente definición:\n",
        "\n",
        "> El ***grado de Exactitud*** de una fórmula de integración numérica o fórmula de cuadratura es el número natural $n$ tal que para todo polinomio $P_i(x)$ de grado $i\\leq n$, el error $E[P_i(x)]$ es cero y existe $P_{n+1}(x)$ de grado $n+1$ con $E[P_{n+1}(x)]\\neq0$\n",
        "\n",
        "Más concretamente, el **grado de exactitud** o de precisión es el entero positivo $i$ tal que la fórmula de integración es extacta para $x^i$, con $i=0,1,2,\\dots,n$."
      ],
      "metadata": {
        "id": "bbmFXcXs8Bep"
      }
    },
    {
      "cell_type": "markdown",
      "source": [
        "Por construcción, nuestra fórmula es exacta para $i=0,1,2$. Hallemos el entero $i$ tal que el error:\n",
        "\n",
        "$$\n",
        "E[P_i(x)]=\\int_{-1}^1P_i(x)\\,dx-\\left(\\frac{4}{3}P_i(-0.5)-\\frac{2}{3}P_i(0)+\\frac{4}{3}P_i(0.5)\\right)\n",
        "$$\n",
        "\n",
        "es distinto de cero, con $P_i(x)=x^i$. Para $i=3$ tenemos:\n",
        "\n",
        "\\begin{align*}\n",
        "\\int_{-1}^1x^3\\,dx-\\left(\\frac{4}{3}(-0.5)^3-\\frac{2}{3}(0)^3+\\frac{4}{3}(0.5)^3\\right)&=\\frac{1}{4}-\\frac{(-1)^4}{4}+\\frac{4}{3}\\frac{1}{8}-\\frac{4}{3}\\frac{1}{8}\\\\\n",
        "&=0\n",
        "\\end{align*}\n",
        "\n",
        "Con lo cual la fórmula también es exacta para $i=3$. Para $i=4$ tenemos:\n",
        "\n",
        "\\begin{align*}\n",
        "\\int_{-1}^1x^4\\,dx-\\left(\\frac{4}{3}(-0.5)^4-\\frac{2}{3}(0)^4+\\frac{4}{3}(0.5)^4\\right)&=\\frac{1}{5}-\\frac{(-1)^5}{5}-\\frac{4}{3}\\frac{1}{16}-\\frac{4}{3}\\frac{1}{16}\\\\\n",
        "&=\\frac{2}{5}-\\frac{1}{6}\\\\\n",
        "&\\neq0\n",
        "\\end{align*}\n",
        "\n",
        "El error no es cero para $i=4$, con lo cual la fórmula tiene grado exactitud 3."
      ],
      "metadata": {
        "id": "ruUoa4f0LB4y"
      }
    },
    {
      "cell_type": "markdown",
      "source": [
        "\n",
        "\n",
        "---\n",
        "\n"
      ],
      "metadata": {
        "id": "7c7CMSy6DWF5"
      }
    },
    {
      "cell_type": "markdown",
      "source": [
        "## Ejercicio 5\n",
        "\n",
        "Determinar el número de subintervalos $n$ de modo que la regla del trapecio compuesta aproxime el valor $\\int_0^1e^{-x^2}\\,dx$ con un error menor que $\\frac{1}{2}10^{-6}$, suponiendo que $e^{-x^2}$ se puede calcular de manera precisa.\n",
        "\n",
        "Repetir este ejercicio para la regla de Simpson compuesta."
      ],
      "metadata": {
        "id": "FzNfV6aGDWz_"
      }
    },
    {
      "cell_type": "markdown",
      "source": [
        "El error en la regla del trapecio compuesta está dado por:\n",
        "\n",
        "$$\n",
        "|E_T|=\\frac{(b-a)h^2}{12}|f''(c)|\n",
        "$$\n",
        "\n",
        "para algún $c\\in(a,b)$ y siendo $h=\\frac{b-a}{n}$. Primero acotemos $|f''(c)|$, tenemos:\n",
        "\n",
        "\\begin{align*}\n",
        "f(x)&=e^{-x^2}\\\\\n",
        "f'(x)&=-2xe^{-x^2}\\\\\n",
        "f''(x)&=2e^{-x^2}(2x^2-1)\\\\\n",
        "f'''(x)&=4xe^{-x^2}(3-2x^2)\\\\\n",
        "\\end{align*}\n",
        "\n",
        "Observamos que $f''$ es creciente en el intervalo $[0,1]$, ya que $f'''$ es positiva en dicho intervalo. Con lo cual, alcanza su máximo en $f''(1)=2e^{-1}$ y su mínimo en $f''(0)=-2$, entonces en valor absoluto:\n",
        "\n",
        "$$\n",
        "|f''(c)|\\leq2\n",
        "$$\n",
        "\n",
        "para $c\\in[0,1]$. Así:\n",
        "\n",
        "\\begin{align*}\n",
        "|E_T|<\\frac{10^{-6}}{2}&⇔\\frac{(b-a)h^2}{12}|f''(c)|<\\frac{10^{-6}}{2}\\\\\n",
        "&⇔\\frac{(b-a)^3}{12n^2}2<\\frac{10^{-6}}{2}\\\\\n",
        "&⇔\\frac{(1-0)^3}{3n^2}<10^{-6}\\\\\n",
        "&⇔\\frac{1}{n^2}<3⋅10^{-6}\\\\\n",
        "&⇔n^2>\\frac{1}{3⋅10^{-6}}=\\frac{1000000}{3}\\\\\n",
        "&⇔n>\\frac{1000}{\\sqrt{3}}≈577.35\\\\\n",
        "&⇔n=578\n",
        "\\end{align*}\n"
      ],
      "metadata": {
        "id": "rPmcOhpODYxC"
      }
    },
    {
      "cell_type": "markdown",
      "source": [
        "\n",
        "\n",
        "---\n",
        "\n"
      ],
      "metadata": {
        "id": "8GTVoxgAQTyp"
      }
    },
    {
      "cell_type": "markdown",
      "source": [
        "El error en al regla de Simpson compuesta es\n",
        "\n",
        "$$\n",
        "E_T=\\frac{(b-a)}{180}h^4f^{(4)}(μ)\n",
        "$$\n",
        "\n",
        "para $μ\\in(a,b)=(0,1)$. Calculamos:\n",
        "\n",
        "$$\n",
        "f^{(4)}(x)=4e^{-x^2}\\left(4x^4-12x^2+3\\right)\n",
        "$$\n",
        "\n"
      ],
      "metadata": {
        "id": "eNmNzJCmrQvz"
      }
    },
    {
      "cell_type": "markdown",
      "source": [
        "## Ejercicio 6\n",
        "\n",
        "Un automóvil recorre una pista en $24$ segundos. Su velocidad se determina cada $6$ segundos mediante una pistola de radar y está dada, en metros/segundos $[\\text{m}/\\text{s}]$, desde el principio del recorrido, por los datos de la siguiente tabla:\n",
        "\n",
        "\\begin{array} {|r|r|r|r|r|r|}\n",
        "  \\hline \\text{Tiempo} & 0 & 6 & 12 & 18 & 24  \\\\\n",
        "  \\hline \\text{Velocidad} & 38 & 41 & 46 & 48 & 45 \\\\\n",
        "  \\hline\n",
        "\\end{array}\n",
        "\n",
        "¿Cuál es la longitud aproximada de la pista?\n",
        "\n",
        "*Ayuda: Usar la regla del trapecio y recordad que $v(t)=\\frac{dx}{dt}(t)$, donde $v(t)$ y $x(t)$ son la velocidad y posición del tiempo $t$.*"
      ],
      "metadata": {
        "id": "ErNot_rnrI2Q"
      }
    },
    {
      "cell_type": "markdown",
      "source": [
        "\n",
        "\n",
        "---\n",
        "\n"
      ],
      "metadata": {
        "id": "k7z3LUd3ethI"
      }
    },
    {
      "cell_type": "markdown",
      "source": [
        "**Contexto: Regla Compuesta del Trapecio**"
      ],
      "metadata": {
        "id": "-yj0nMlBkNTs"
      }
    },
    {
      "cell_type": "markdown",
      "source": [
        "Sea $P=\\{x_0,x_1,x_2,\\dots,x_n\\}$, una partición de un invervalo cerrado $[a,b]$, tal que $x_k=x_0+hk,\\, h=\\frac{b-a}{n},\\, k=0,1,2,\\dots,n$, entonces:\n",
        "\n",
        "$$\n",
        "\\int_a^bf(x)\\,dx≈\\frac{h}{2}\\left[f(a)+f(b)+2\\sum_k=1^{n-1}f(x_k)\\right]\n",
        "$$\n",
        "\n",
        "con $a=x_0$ y $b=x_n$. Esta ecuación se conoce como la *regla compuesta del trapecio*."
      ],
      "metadata": {
        "id": "BEXK_CEOkT25"
      }
    },
    {
      "cell_type": "markdown",
      "source": [
        "\n",
        "\n",
        "---\n",
        "\n"
      ],
      "metadata": {
        "id": "eb4Q9xDBkTQP"
      }
    },
    {
      "cell_type": "markdown",
      "source": [
        "Recordemos que:\n",
        "\n",
        "\\begin{align*}\n",
        "v(t)=\\frac{dx}{dt}⇔∫dx=∫v(t)\\,dt=\\text{distancia recorrida}\n",
        "\\end{align*}\n",
        "\n",
        "Utilizamos la regla del trapecio compuesta para calcular la integral $∫v(t)\\,dt$ con los puntos $n+1$ puntos $P=\\{t_0,…,t_4\\}$ de la tabla:\n",
        "\n",
        "$$\n",
        "\\int_0^{24}v(t)\\,dt≈\\frac{h}{2}\\left[v(t_0)+v(t_4)+2\\sum_{k=1}^3v(t_k)\\right]\n",
        "$$\n",
        "\n",
        "donde:\n",
        "\n",
        "$$\n",
        "h=\\frac{b-a}{n}=\\frac{24-0}{4}=6⇒\\frac{h}{2}=3\n",
        "$$\n",
        "\n",
        "Luego:\n",
        "\n",
        "\\begin{align*}\n",
        "\\int_0^{24}v(t)\\,dt&≈\\frac{h}{2}\\left[v(t_0)+v(t_4)+2\\sum_{k=1}^3v(t_k)\\right]\\\\\n",
        "&=3\\left[38+45+2(41+46+48)\\right]\\\\\n",
        "&=3(353)\\\\\n",
        "&=1059 \\,\\text{m}\n",
        "\\end{align*}"
      ],
      "metadata": {
        "id": "tQwubnDPfctA"
      }
    },
    {
      "cell_type": "markdown",
      "source": [
        "\n",
        "\n",
        "---\n",
        "\n"
      ],
      "metadata": {
        "id": "pmGnp8XTlOxB"
      }
    },
    {
      "cell_type": "markdown",
      "source": [
        "## Ejercicio 7\n",
        "\n",
        "Calcular $\\int_{-1}^1f(x)\\,dx$ mediante una regla de cuadratura de la forma\n",
        "\n",
        "$$\n",
        "\\int_{-1}^1f(x)\\,dx≈A_1f(x_1)+A_2f(x_2)+A_3f(x_3)\n",
        "$$\n",
        "\n",
        "que sea exacta para polinomio de grado menor o igual que $5$. Aplicar la regla $f(x)=\\cos(x)$ y comprar con el valor real de la integral."
      ],
      "metadata": {
        "id": "hzVZMpcolPmn"
      }
    },
    {
      "cell_type": "markdown",
      "source": [
        "\n",
        "\n",
        "---\n",
        "\n"
      ],
      "metadata": {
        "id": "S6rBL_w9pFmx"
      }
    },
    {
      "cell_type": "markdown",
      "source": [
        "Utilizamos una cuadratura de Gauss-Legendre: aproximamos la integral de una función en el intervalo $[-1,1]$ mediante una suma ponderada:\n",
        "\n",
        "$$\n",
        "\\int_{-1}^1f(x)\\,dx≈\\sum_{i=1}^nA_if(x_i)\n",
        "$$\n",
        "\n",
        "donde $x_i$ son los puntos de cuadratura y $A_i$ son los pesos. Esta aproximación es exacta para polinomios de grado $2n-1$.\n",
        "\n",
        "\n"
      ],
      "metadata": {
        "id": "02_jPFaiujWI"
      }
    },
    {
      "cell_type": "markdown",
      "source": [
        "Como se nos pide que la regla sea exacta para polinomio de grado $5$, entonces necesitamos $2n-1=5⇒n=3$ puntos. Los puntos $x_i$ son las raíces del polinomio de Legendre $P_n$, para $n=3$ es:\n",
        "\n",
        "\\begin{align*}\n",
        "P_3(x)=\\frac{1}{2}(5x^3-3x)\n",
        "\\end{align*}\n",
        "\n",
        "Y las raíces son:\n",
        "\n",
        "$$\n",
        "x_1=-\\sqrt{\\frac{3}{5}},\\hspace{1cm}x_2=0,\\hspace{1cm}x_3=\\sqrt{\\frac{3}{5}}\n",
        "$$"
      ],
      "metadata": {
        "id": "t1EjHygmMdky"
      }
    },
    {
      "cell_type": "markdown",
      "source": [
        "Los pesos para los puntos de Gauss-Legendre pueden ser utilizados usando la fórmula:\n",
        "\n",
        "$$\n",
        "A_i=∫_{-1}^1\\prod_{j\\neq i}\\frac{x-x_j}{x_i-x_j}\\,dx\n",
        "$$\n",
        "\n",
        "Para $i=1$ tenemos:\n",
        "\n",
        "\\begin{align*}\n",
        "A_1&=∫_{-1}^1\\frac{x-x_2}{x_1-x_2}\\cdot\\frac{x-x_3}{x_1-x_3}\\,dx\\\\\n",
        "&=\\int_{-1}^1\\frac{x-0}{-\\sqrt{\\frac{3}{5}}-0}⋅\\frac{x-\\sqrt{\\frac{3}{5}}}{-\\sqrt{\\frac{3}{5}}-\\sqrt{\\frac{3}{5}}}\\,dx\\\\\n",
        "&=\\int_{-1}^1\\sqrt{\\frac{5}{3}}x\\left(\\frac{1}{2}\\sqrt{\\frac{5}{3}}x-\\frac{1}{2}\\right)dx\\\\\n",
        "&=\\frac{1}{2}\\int_{-1}^1\\left(\\frac{5}{3}x^2-\\sqrt{\\frac{5}{3}}x\\right)dx\\\\\n",
        "&=\\frac{1}{2}\\left(\\frac{5}{9}x^3-\\frac{1}{2}\\sqrt{\\frac{5}{3}}x^2\\right)\\Bigg|_{-1}^1\\\\\n",
        "&=\\frac{1}{2}\\left(\\frac{5}{9}-\\frac{1}{2}\\sqrt{\\frac{5}{3}}+\\frac{5}{9}+\\frac{1}{2}\\sqrt{\\frac{5}{3}}\\right)\\\\\n",
        "&=\\frac{5}{9}\n",
        "\\end{align*}"
      ],
      "metadata": {
        "id": "61Iu4vZ3OV85"
      }
    },
    {
      "cell_type": "markdown",
      "source": [
        "Para $i=2$:\n",
        "\n",
        "\\begin{align*}\n",
        "A_2&=∫_{-1}^1\\frac{x-x_1}{x_2-x_1}\\cdot\\frac{x-x_3}{x_2-x_3}\\,dx\\\\\n",
        "&=∫_{-1}^1\\frac{x+\\sqrt{\\frac{3}{5}}}{0+\\sqrt{\\frac{3}{5}}}\\cdot\\frac{x-\\sqrt{\\frac{3}{5}}}{0-\\sqrt{\\frac{3}{5}}}\\,dx\\\\\n",
        "&=-\\frac{5}{3}\\int_{-1}^1\\left(x^2-\\frac{3}{5}\\right)dx\\\\\n",
        "&=-\\frac{5}{3}\\left(\\frac{x^3}{3}-\\frac{3}{5}x\\right)\\Bigg|_{-1}^1\\\\\n",
        "&=-\\frac{5}{3}\\left(\\frac{1}{3}-\\frac{3}{5}+\\frac{1}{3}-\\frac{3}{5}\\right)\\\\\n",
        "&=-\\frac{5}{3}\\left(\\frac{2}{3}-\\frac{6}{5}\\right)\\\\\n",
        "&=\\frac{8}{9}\n",
        "\\end{align*}"
      ],
      "metadata": {
        "id": "-aXIo8KUUqP3"
      }
    },
    {
      "cell_type": "markdown",
      "source": [
        "Para $i=3$:\n",
        "\n",
        "\\begin{align*}\n",
        "A_3&=∫_{-1}^1\\frac{x-x_1}{x_3-x_1}\\cdot\\frac{x-x_2}{x_3-x_2}\\,dx\\\\\n",
        "&=\\int_{-1}^1\\frac{x+\\sqrt{\\frac{3}{5}}}{\\sqrt{\\frac{3}{5}}+\\sqrt{\\frac{3}{5}}}\\cdot\\frac{x}{\\sqrt{\\frac{3}{5}}}\\,dx\\\\\n",
        "&\\hspace{0.3cm}\\vdots\\\\\n",
        "&=\\frac{5}{9}\n",
        "\\end{align*}"
      ],
      "metadata": {
        "id": "gNco2A1vZL2f"
      }
    },
    {
      "cell_type": "markdown",
      "source": [
        "Así, nuestra regla de cuadratura queda:\n",
        "\n",
        "\n",
        "$$\n",
        "\\int_{-1}^1f(x)\\,dx≈\\frac{5}{9}f\\left(-\\sqrt{\\frac{3}{5}}\\right)+\\frac{8}{9}f(0)+\\frac{5}{9}f\\left(\\sqrt{\\frac{3}{5}}\\right)\n",
        "$$\n",
        "\n",
        "la cual es exacta para polinomios de grado igual o menor que $5$."
      ],
      "metadata": {
        "id": "Gta8ggsda2-K"
      }
    },
    {
      "cell_type": "markdown",
      "source": [
        "Para $f(x)=\\cos(x)$ tenemos:\n",
        "\n",
        "\n",
        "\\begin{align*}\n",
        "\\int_{-1}^1\\cos(x)\\,dx&≈\\frac{5}{9}\\cos\\left(-\\sqrt{\\frac{3}{5}}\\right)+\\frac{8}{9}\\cos(0)+\\frac{5}{9}\\cos\\left(\\sqrt{\\frac{3}{5}}\\right)\\\\\n",
        "&≈1.683\n",
        "\\end{align*}\n",
        "\n",
        "La cual es muy cercana a la solución real:\n",
        "\n",
        "$$\n",
        "2\\sin(1)≈1.68294197...\n",
        "$$"
      ],
      "metadata": {
        "id": "JYBxGrynbejs"
      }
    },
    {
      "cell_type": "markdown",
      "source": [
        "\n",
        "\n",
        "---\n",
        "\n"
      ],
      "metadata": {
        "id": "-IyBamh_ornq"
      }
    },
    {
      "cell_type": "markdown",
      "source": [
        "## Ejercicio 8\n",
        "\n",
        "Calcular $\\int_{-1}^1f(x)x^2\\,dx$ mediante una regla de cuadratura de la forma\n",
        "\n",
        "$$\n",
        "\\int_{-1}^1f(x)x^2dx≈A_1f(x_1)+A_2f(x_2)\n",
        "$$\n",
        "\n",
        "que sea exacta para polinomios de grado menor o igual que $3$.\n",
        "\n",
        "*Ayuda: Utilizar el ejercicio 11 del práctico 4*."
      ],
      "metadata": {
        "id": "dhbdJ_RCosiF"
      }
    },
    {
      "cell_type": "markdown",
      "source": [
        "\n",
        "\n",
        "---\n",
        "\n"
      ],
      "metadata": {
        "id": "mGMen1y5pZX0"
      }
    },
    {
      "cell_type": "markdown",
      "source": [
        "En este caso el integrando está modificado por el peso $x^2$. Usamos el Teorema 1 del clase 15:\n",
        "\n",
        "Sea $w$ una función de peso positiva definida en $[a,b]$ y $q$ un polinomio no nulo de grado exactamente $(n+1)$ que es ortogonal a todo polinomio $p$ de grado $\\leq n$ (con respecto a $w$), es decir:\n",
        "\n",
        "$$\n",
        "\\int_a^bq(x)p(x)w(x)\\,dx=0\n",
        "$$\n",
        "\n",
        "Si $x_0,x_1,\\dots,x_n$ son las $(n+1)$ raíces de $q$, entonces la fórmula\n",
        "\n",
        "$$\n",
        "\\int_a^bf(x)w(x)\\,dx≈\\sum_{i=0}^na_if(x_i)\n",
        "$$\n",
        "\n",
        "con\n",
        "\n",
        "$$\n",
        "a_i=\\int_a^bw(x)\\prod_{j=0\\\\j\\neq0}^n\\frac{x-x_j}{x_i-x_j}dx\n",
        "$$\n",
        "\n",
        "será exacta para todo polinomio $f$ de grado $\\leq2n+1$."
      ],
      "metadata": {
        "id": "LxYgvPC-pdu7"
      }
    },
    {
      "cell_type": "markdown",
      "source": [
        "Como se nos pide exactitud para todo polinomio de grado $\\leq3$, tenemos $2n+1=3⇒n=1$ puntos. Los puntos están dados por la raíces del polinomio de Legendre, para $n=1$:\n"
      ],
      "metadata": {
        "id": "YhGOvyFAxyey"
      }
    }
  ]
}