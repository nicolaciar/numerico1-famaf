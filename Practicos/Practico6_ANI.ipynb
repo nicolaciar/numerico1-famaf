{
  "nbformat": 4,
  "nbformat_minor": 0,
  "metadata": {
    "colab": {
      "provenance": [],
      "toc_visible": true,
      "collapsed_sections": [
        "xTD0p51V5f_D",
        "DMEqxBNgjHAf",
        "xuyHiyHJwk0f"
      ],
      "authorship_tag": "ABX9TyM6krQZDSbq9tybeYCYmExC",
      "include_colab_link": true
    },
    "kernelspec": {
      "name": "python3",
      "display_name": "Python 3"
    },
    "language_info": {
      "name": "python"
    }
  },
  "cells": [
    {
      "cell_type": "markdown",
      "metadata": {
        "id": "view-in-github",
        "colab_type": "text"
      },
      "source": [
        "<a href=\"https://colab.research.google.com/github/nicolaciar/numerico1-famaf/blob/main/Practicos/Practico6_ANI.ipynb\" target=\"_parent\"><img src=\"https://colab.research.google.com/assets/colab-badge.svg\" alt=\"Open In Colab\"/></a>"
      ]
    },
    {
      "cell_type": "markdown",
      "source": [
        "# Práctico 6 - Análisis Numérico I - FaMAF\n",
        ">## Sistemas Lineales\n",
        "Eliminación Gaussiana y factorización LU. Métodos iterativos: Jacobi y Gauss-\n",
        "Seidel."
      ],
      "metadata": {
        "id": "dW2IQm_E8qPA"
      }
    },
    {
      "cell_type": "markdown",
      "source": [
        "## Ejercicio 1\n",
        "\n",
        "Resolver los sistemas lineales $Ax=b$ para los $A$ y $b$ dados, utilizando sustitución hacia atrás o hacia adelante según corresponda:"
      ],
      "metadata": {
        "id": "TILvPGeCkQcE"
      }
    },
    {
      "cell_type": "markdown",
      "source": [
        "\n",
        "\n",
        "---\n",
        "\n"
      ],
      "metadata": {
        "id": "TvVO6Fy8lVeS"
      }
    },
    {
      "cell_type": "markdown",
      "source": [
        "**Contexto**\n"
      ],
      "metadata": {
        "id": "Adlvw-royr9l"
      }
    },
    {
      "cell_type": "markdown",
      "source": [
        "> **Teorema de Sustitución Regresiva**. Si $AX=b$ es un sistema triangular superior de ecuaciones lineales y $a_{kk}\\neq0, ∀k=1,2,3,\\dots,n$, entonces el sistema tiene solución única.\n",
        "\n",
        "> **Teorema de Sustitución Progresiva**. Si $AX=b$ es un sistema triangular inferior de ecuaciones lineales y $a_{kk}\\neq0, ∀k=1,2,3,\\dots,n$, entonces el sistema tiene solución única."
      ],
      "metadata": {
        "id": "4MhQTRKKyw36"
      }
    },
    {
      "cell_type": "markdown",
      "source": [
        "Ambos teoremas pueden reformularse para que la hipótesis"
      ],
      "metadata": {
        "id": "dl6VfcX-1UCL"
      }
    },
    {
      "cell_type": "markdown",
      "source": [
        "\n",
        "\n",
        "---\n",
        "\n"
      ],
      "metadata": {
        "id": "mrOfmXm5yrZ8"
      }
    },
    {
      "cell_type": "markdown",
      "source": [
        "$(a)$ $A=\\begin{pmatrix}1 & 2 & 3 \\\\ 0 & 4 & 5\\\\ 0 & 0 & 6\\end{pmatrix},\\,b=\\begin{pmatrix}10 \\\\ 13 \\\\ 6\\end{pmatrix}$"
      ],
      "metadata": {
        "id": "gIhdrtTSlWGQ"
      }
    },
    {
      "cell_type": "markdown",
      "source": [
        "Observemos que $A$ es una matriz no triangular superior y $a_{ii}\\neq0$ para $i=1,2,3$ con lo cual el sistema"
      ],
      "metadata": {
        "id": "Lir1CDmcqPWt"
      }
    },
    {
      "cell_type": "markdown",
      "source": [
        "$$\n",
        "AX=b≡\\begin{pmatrix}1 & 2 & 3 \\\\ 0 & 4 & 5\\\\ 0 & 0 & 6\\end{pmatrix}\\begin{pmatrix}x_1\\\\x_2\\\\x_3\\end{pmatrix}=\\begin{pmatrix}10 \\\\ 13 \\\\ 6\\end{pmatrix}\n",
        "$$"
      ],
      "metadata": {
        "id": "NCAKxIzHz6BZ"
      }
    },
    {
      "cell_type": "markdown",
      "source": [
        "tiene solución única y lo obtenemos con el algoritmo de sustitución regresiva o hacia atrás; tenemos:"
      ],
      "metadata": {
        "id": "_kIuTV2m0nq6"
      }
    },
    {
      "cell_type": "markdown",
      "source": [
        "$$\n",
        "a_{33}x_3=b_3⇒x_3=\\frac{b_3}{x_3}=\\frac{6}{6}=1\n",
        "$$"
      ],
      "metadata": {
        "id": "RGVTFrcP0quB"
      }
    },
    {
      "cell_type": "markdown",
      "source": [
        "Para el siguiente paso tenemos:\n",
        "\n"
      ],
      "metadata": {
        "id": "HKxCT_s71HRr"
      }
    },
    {
      "cell_type": "markdown",
      "source": [
        "\\begin{align}\n",
        "a_{22}x_2+a_{23}x_3=b_2⇒x_2&=\\frac{b_2-a_{23}x_3}{a_{22}}=\\frac{13-5⋅1}{4}\\\\\n",
        "&=2\n",
        "\\end{align}"
      ],
      "metadata": {
        "id": "6EAuDY3-2fEx"
      }
    },
    {
      "cell_type": "markdown",
      "source": [
        "Y en el paso final:"
      ],
      "metadata": {
        "id": "b4Nr7B9i3lwv"
      }
    },
    {
      "cell_type": "markdown",
      "source": [
        "\\begin{align}\n",
        "a_{11}x_1+a_{12}x_2+a_{13}x_3=b_1⇒x_1&=\\frac{b_1-a_{12}x_2-a_{13}x_3}{a_{11}}\\\\\n",
        "&=\\frac{10-2⋅2-3⋅1}{1}\\\\\n",
        "&=3\n",
        "\\end{align}"
      ],
      "metadata": {
        "id": "f4RtgxtM3oSN"
      }
    },
    {
      "cell_type": "markdown",
      "source": [
        "Con lo cual:\n",
        "\n",
        "$$\\begin{pmatrix}x_1\\\\x_2\\\\x_3\\end{pmatrix}=\\begin{pmatrix}3\\\\2\\\\1\\end{pmatrix}$$"
      ],
      "metadata": {
        "id": "DIzufUbO40dJ"
      }
    },
    {
      "cell_type": "markdown",
      "source": [
        "\n",
        "\n",
        "---\n",
        "\n"
      ],
      "metadata": {
        "id": "1Ffc8ZNU5GA3"
      }
    },
    {
      "cell_type": "markdown",
      "source": [],
      "metadata": {
        "id": "sIiX5EVbq6ER"
      }
    },
    {
      "cell_type": "markdown",
      "source": [
        "## Ejercicio 3\n",
        "\n",
        "Mostrar que el costo de operaciones del método de eliminación gaussiana para resolver un sistema  $Ax=b$, con $A\\in \\mathbb{R}^{n×n}$ es $\\mathcal{O}\\left(\\frac{2}{3}n^3\\right)$ flops."
      ],
      "metadata": {
        "id": "xTD0p51V5f_D"
      }
    },
    {
      "cell_type": "markdown",
      "source": [
        "Recordemos el algoritmo de eliminación gaussiana, para una matriz triangular superior:"
      ],
      "metadata": {
        "id": "-IA21Cu_9-6O"
      }
    },
    {
      "cell_type": "markdown",
      "source": [
        "\\begin{align}\n",
        "&\\textbf{input }a,A,b\\\\\n",
        "&\\textbf{for }k=1,\\dots,n\\textbf{ do}\\\\\n",
        "&\\hspace{1cm}\\textbf{for }i=k+1,\\dots,n\\textbf{ do}\\\\\n",
        "&\\hspace{2cm}\\textbf{if }(a_{kk}=0)\\text{ STOP!}\\\\\n",
        "&\\hspace{2cm}m←a_{ik}/a_{kk}\\\\\n",
        "&\\hspace{2cm}\\textbf{for }j=k+1,\\dots,n\\textbf{ do}\\\\\n",
        "&\\hspace{3cm}a_{ij}←a_{ij}-ma_{kj}\\\\\n",
        "&\\hspace{2cm}\\textbf{end for }(j)\\\\\n",
        "&\\hspace{2cm}b_i←a_{ij}-mb_k\n",
        "&\\hspace{1cm}\\textbf{end for }(i)\\\\\n",
        "&\\textbf{end for }(k)\\\\\n",
        "&\\textbf{output }A,b\\\\\n",
        "&\\textbf{end}\n",
        "\\end{align}"
      ],
      "metadata": {
        "id": "ekfu1sDfJ_o7"
      }
    },
    {
      "cell_type": "markdown",
      "source": [
        "Dentro del $\\verb|for|\\,j$ tenemos $2$ operaciones, el producto y la resta $a_{ij}-a_{ij}-ma_{kj}$, el cual se realiza $n-k$ veces, con lo cual, en este $\\verb|for|$ se realizan $2(n-k)$ operaciones."
      ],
      "metadata": {
        "id": "AYx4wRd4M8Zv"
      }
    },
    {
      "cell_type": "markdown",
      "source": [
        "Dentro del $\\verb|for|\\,i$ hay tres operaciones y las $2(n-k)$ operaciones del $\\verb|for|\\,j$, que se repiten $(n-k)$ veces es decir:\n",
        "\n",
        "$$\n",
        "(3+2(n-k))(n-k)\n",
        "$$"
      ],
      "metadata": {
        "id": "2VZHYmPjN7Of"
      }
    },
    {
      "cell_type": "markdown",
      "source": [
        "Y dentro del último $\\verb|for|\\,k$ tenemos las operaciones anteriores que se realizan desde $k$ hasta $n-1$:\n",
        "\n",
        "$$\n",
        "\\sum_{k=1}^{n-1}\n",
        "(3+2(n-k))(n-k)\n",
        "$$\n",
        "\n",
        "Realizando el cambio de variables $s=n-k$:\n",
        "\n",
        "\\begin{align}\n",
        "\\sum_{s=1}^{n-1}(3+2s)(s)&=\\sum_{s=1}^{n-1}(3s+2s^2)\\\\\n",
        "&=3\\sum_{s=1}^{n-1}s+2\\sum_{s=1}^{n-1}s^2\\\\\n",
        "&=3\\frac{(n-1)n}{2}+2\\frac{(n-1)(2n-1)n}{6}\\\\\n",
        "&=\\mathcal{O}\\left(\\frac{3}{2}n^2\\right)+\\frac{(n^2-n)(2n-1)}{3}\\\\\n",
        "&=\\frac{2n^3-3n^2-n}{3}+\\mathcal{O}\\left(\\frac{3}{2}n^2\\right)\\\\\n",
        "&=\\mathcal{O}\\left(\\frac{2}{3}n^3\\right)+\\mathcal{O}\\left(\\frac{3}{2}n^2\\right)\\\\\n",
        "&=\\mathcal{O}\\left(\\frac{2}{3}n^3\\right)\n",
        "\\end{align}\n"
      ],
      "metadata": {
        "id": "aat7bWVyZTPP"
      }
    },
    {
      "cell_type": "markdown",
      "source": [
        "## Ejercicio 4\n",
        "\n",
        "Considerar el sistema lineal $Ax=b$, donde\n",
        "\n",
        "$$\n",
        "A=\\begin{pmatrix}2 & -2 & 1\\\\1 & 1 & 3\\\\0 & 4 & 1\\end{pmatrix},\\quad\n",
        "b=\\begin{pmatrix}-1 \\\\ 6\\\\9\\end{pmatrix}\n",
        "$$\n",
        "\n",
        "a) Encontrar una solución usando el método de eliminación Gaussiana.\n",
        "\n",
        "b) Encontrar una solución usando descomposición $\\text{LU}$.\n",
        "\n",
        "c) Repetir los items anteriores para\n",
        "\n",
        "$$\n",
        "b=\\begin{pmatrix}-2 \\\\ 1\\\\4\\end{pmatrix}\\quad\\text{ y }\\quad\n",
        "b=\\begin{pmatrix}-10 \\\\ 4\\\\8\\end{pmatrix}\n",
        "$$\n",
        "\n",
        "Analizar las ventajas de utilizar descomposición LU en lugar de eliminación Gaussiana."
      ],
      "metadata": {
        "id": "YL269maZZ1fl"
      }
    },
    {
      "cell_type": "markdown",
      "source": [
        "\n",
        "\n",
        "---\n",
        "\n"
      ],
      "metadata": {
        "id": "Q_WmrXDzVDYl"
      }
    },
    {
      "cell_type": "markdown",
      "source": [
        "**(a)** Para la eliminación Gaussiana, planteamos la matriz ampliada y utilizamos operaciones elementarles por filas hasta obtener una matriz triangular superior:\n",
        "\n",
        "\n",
        "\\begin{align}\n",
        "(A|b)=\\left(\\begin{array}{ccc|c}\n",
        "2 & -2 & 1 &-1\\\\\n",
        "1 & 1 & 3 & 6\\\\\n",
        "0 & 4 & 1 & 9\n",
        "\\end{array}\\right)\\xrightarrow{F_2-F_1/2}\n",
        "\\left(\\begin{array}{ccc|c}\n",
        "2 & -2 & 1 &-1\\\\\n",
        "0 & 2 & 5/2 & 13/2\\\\\n",
        "0 & 4 & 1 & 9\n",
        "\\end{array}\\right)\\xrightarrow{F_3-2F_2}\n",
        "\\left(\\begin{array}{ccc|c}\n",
        "2 & -2 & 1 &-1\\\\\n",
        "0 & 2 & 5/2 & 13/2\\\\\n",
        "0 & 0 & -4 & -4\n",
        "\\end{array}\\right)\n",
        "\\end{align}\n",
        "\n",
        "En este punto, aplicamos eliminación hacia atrás: tenemos:\n",
        "\n",
        "$$\n",
        "-4x_3=-4⇔ x_3=1\n",
        "$$\n",
        "\n",
        "Luego:\n",
        "\n",
        "\\begin{align}\n",
        "2x_2+\\frac{5}{2}x_3=\\frac{13}{2}&⇔ 2x_2+\\frac{5}{2}=\\frac{13}{2}\\\\\n",
        "&⇔ 2x_2=4\\\\\n",
        "&⇔ x_2=2\n",
        "\\end{align}\n",
        "\n",
        "Por último:\n",
        "\n",
        "\\begin{align}\n",
        "2x_1-2x_2+x_3=-1&⇔2x_1-4+1=-1\\\\\n",
        "&⇔2x_1=2\\\\\n",
        "&⇔x_1=1\n",
        "\\end{align}\n",
        "\n",
        "Así:\n",
        "\n",
        "$$\n",
        "\\begin{pmatrix}\n",
        "x_1 \\\\ x_2 \\\\ x_3\n",
        "\\end{pmatrix}=\n",
        "\\begin{pmatrix}\n",
        "1 \\\\ 2 \\\\ 1\n",
        "\\end{pmatrix}\n",
        "$$"
      ],
      "metadata": {
        "id": "b_7nTuF2VFlq"
      }
    },
    {
      "cell_type": "markdown",
      "source": [
        "\n",
        "\n",
        "---\n",
        "\n"
      ],
      "metadata": {
        "id": "PkiWk0Bz2nF5"
      }
    },
    {
      "cell_type": "markdown",
      "source": [
        "**(b)** Comenzamos descomponiendo la matriz $A$ en el producto de dos matrices triangulares $L$ y $U$, de la forma:\n",
        "\n",
        "$$\n",
        "\\begin{align}\n",
        "L=\\begin{pmatrix}\n",
        "1 & 0 & 0\\\\\n",
        "l_{21} & 1 & 0\\\\\n",
        "l_{31} & l_{32} & 1\n",
        "\\end{pmatrix},\\quad\n",
        "U=\\begin{pmatrix}\n",
        "u_{11} & u_{12} & u_{13}\\\\\n",
        "0 & u_{22} & u_{23}\\\\\n",
        "0 & 0 & u_{33}\n",
        "\\end{pmatrix}\n",
        "\\end{align}\n",
        "$$\n",
        "\n",
        "Para calcular los elementos de $L$ y $U$, hacemos, para $k$ desde $1$ hasta $3$ (dimensión de la matriz):"
      ],
      "metadata": {
        "id": "IQrppb0-2otG"
      }
    },
    {
      "cell_type": "markdown",
      "source": [
        "* Para cada $j$ desde $k$ hasta $3$:\n",
        "$$\n",
        "u_{kj}=a_{kj}-\\sum_{s=1}^{k-1}l_{ks}u_{sj}\n",
        "$$\n",
        "\n",
        "* Para cada $i$ desde $k+1$ hasta $3$:\n",
        "$$\n",
        "l_{ik}=\\frac{1}{u_{kk}}\\left(a_{ik}-\\sum_{s=1}^{k-1}l_{is}u_{sk}\\right)\n",
        "$$\n",
        "\n"
      ],
      "metadata": {
        "id": "VnB9LOmq3Yke"
      }
    },
    {
      "cell_type": "markdown",
      "source": [
        "En nuestro caso, siendo:\n",
        "\n",
        "$$\n",
        "A=\\begin{pmatrix}2 & -2 & 1\\\\1 & 1 & 3\\\\0 & 4 & 1\\end{pmatrix}=\\begin{pmatrix}a_{11} & a_{12} & a_{13}\\\\a_{21} & a_{22} & a_{23}\\\\a_{31} & a_{32} & a_{33}\\end{pmatrix}\n",
        "$$\n",
        "\n",
        "\n"
      ],
      "metadata": {
        "id": "BjKYmG6N4kDP"
      }
    },
    {
      "cell_type": "markdown",
      "source": [
        "Para $k=1$, debemos calcular:\n",
        "\n",
        "\\begin{align}\n",
        "u_{1j}=a_{1j}-\\sum_{s=1}^{1-1=0}l_{1s}u_{sj}=a_{1j}\n",
        "\\end{align}\n",
        "\n",
        "Es decir:\n",
        "\n",
        "\\begin{align}\\tag{$j=1$}\n",
        "u_{11}&=a_{11}=2\\\\\\tag{$j=2$}\n",
        "u_{12}&=a_{12}=-2\\\\\\tag{$j=3$}\n",
        "u_{13}&=a_{13}=1\n",
        "\\end{align}\n",
        "\n",
        "Por otro lado:\n",
        "\n",
        "$$\n",
        "l_{i1}=\\frac{1}{u_{11}}\\left(a_{i1}-\\sum_{s=1}^{1-1=0}l_{is}u_{sk}\\right)=\\frac{a_{i1}}{u_{11}}\n",
        "$$\n",
        "\n",
        "Es decir:\n",
        "\n",
        "\\begin{align}\\tag{$i=2$}\n",
        "l_{21}&=\\frac{a_{21}}{u_{11}}=\\frac{1}{2}\\\\\\tag{$i=3$}\n",
        "l_{31}&=\\frac{a_{31}}{u_{11}}=0\n",
        "\\end{align}\n",
        "\n"
      ],
      "metadata": {
        "id": "HZoamr9260gZ"
      }
    },
    {
      "cell_type": "markdown",
      "source": [
        "Para $k=2$:\n",
        "\n",
        "\\begin{align}\n",
        "u_{2j}=a_{2j}-\\sum_{s=1}^{2-1=1}l_{2s}u_{sj}=a_{2j}-l_{21}u_{1j}\n",
        "\\end{align}\n",
        "\n",
        "Es decir:\n",
        "\n",
        "\\begin{align}\\tag{$j=2$}\n",
        "u_{22}=a_{22}-l_{21}u_{12}=1-\\frac{1}{2}(-2)=2\\\\\\tag{$j=3$}\n",
        "u_{23}=a_{23}-l_{21}u_{13}=3-\\frac{1}{2}(1)=\\frac{5}{2}\n",
        "\\end{align}\n",
        "\n",
        "Por otro lado:\n",
        "\n",
        "$$\n",
        "l_{i2}=\\frac{1}{u_{22}}\\left(a_{i2}-\\sum_{s=1}^{1}l_{is}u_{s2}\\right)=\\frac{1}{u_{22}}(a_{i2}-l_{i1}u_{12})\n",
        "$$\n",
        "\n",
        "Es decir:\n",
        "\n",
        "$$\\tag{$i=3$}\n",
        "l_{32}=\\frac{1}{u_{22}}(a_{32}-l_{31}u_{12})=\\frac{1}{2}(4-0⋅(-2))=2\n",
        "$$"
      ],
      "metadata": {
        "id": "qoxUyJFG8--m"
      }
    },
    {
      "cell_type": "markdown",
      "source": [
        "Finalmente, para $k=3$:\n",
        "\n",
        "\\begin{align}\\tag{$j=3$}\n",
        "u_{33}&=a_{33}-\\sum_{s=1}^{2}l_{3s}u_{s3}=a_{33}-l_{31}u_{13}-l_{32}u_{23}\\\\\n",
        "&=1-0⋅1-2⋅\\frac{5}{2}\\\\\n",
        "&=-4\n",
        "\\end{align}\n"
      ],
      "metadata": {
        "id": "_Bk0Gs9DDP4z"
      }
    },
    {
      "cell_type": "markdown",
      "source": [
        "Así, hemos determinado todos los coefiicientes de las matrices $L$ y $U$:\n",
        "\n",
        "\n",
        "$$\n",
        "\\begin{align}\n",
        "L=\\begin{pmatrix}\n",
        "1 & 0 & 0\\\\\n",
        "\\frac{1}{2} & 1 & 0\\\\\n",
        "0 & 2 & 1\n",
        "\\end{pmatrix},\\quad\n",
        "U=\\begin{pmatrix}\n",
        "2 & -2 & 1\\\\\n",
        "0 & 2 & \\frac{5}{2}\\\\\n",
        "0 & 0 & -4\n",
        "\\end{pmatrix}\n",
        "\\end{align}\n",
        "$$"
      ],
      "metadata": {
        "id": "hJoEefaoF79O"
      }
    },
    {
      "cell_type": "markdown",
      "source": [
        "El siguiente paso consiste en resolver los sistemas triangulares, primero $Ly=b$ y luego $Ux=y$. La solución final del ejercicio será el vector $x$.\n",
        "\n"
      ],
      "metadata": {
        "id": "vTyRSe31HANj"
      }
    },
    {
      "cell_type": "markdown",
      "source": [
        "Entonces:\n",
        "\n",
        "$$\n",
        "Ly=b⇔\\begin{pmatrix}\n",
        "1 & 0 & 0\\\\\n",
        "\\frac{1}{2} & 1 & 0\\\\\n",
        "0 & 2 & 1\n",
        "\\end{pmatrix}\\begin{pmatrix}y_1\\\\y_2\\\\y_3\\end{pmatrix}=\\begin{pmatrix}-1 \\\\ 6\\\\9\\end{pmatrix}\n",
        "$$\n",
        "\n",
        "Realizando eliminación hacia adelante:\n",
        "\n",
        "\\begin{align}\n",
        "y_1=-1\n",
        "\\end{align}\n",
        "\n",
        "\\begin{align}\n",
        "\\frac{1}{2}y_1+y_2=6&⇔\\frac{1}{2}(-1)+y_2=6\\\\\n",
        "&⇔y_2=\\frac{13}{2}\n",
        "\\end{align}\n",
        "\n",
        "\\begin{align}\n",
        "2y_2+y_3=9&⇔2⋅\\frac{13}{2}+y_3=9\\\\\n",
        "&⇔y_3=-4\n",
        "\\end{align}\n",
        "\n",
        "Así:\n",
        "\n",
        "$$\n",
        "Ux=y⇔\\begin{pmatrix}\n",
        "2 & -2 & 1\\\\\n",
        "0 & 2 & \\frac{5}{2}\\\\\n",
        "0 & 0 & -4\n",
        "\\end{pmatrix}\\begin{pmatrix}x_1\\\\x_2\\\\x_3\\end{pmatrix}=\\begin{pmatrix}-1 \\\\ \\frac{13}{2}\\\\-4\\end{pmatrix}\n",
        "$$\n",
        "\n",
        "\n",
        "Realizando sustitución hacia atrás:\n",
        "\n",
        "\\begin{align}\n",
        "-4x_1=-4&⇔ x_1=1\n",
        "\\end{align}\n",
        "\n",
        "\\begin{align}\n",
        "2x_2+\\frac{5}{2}x_3=\\frac{13}{2}&⇔2x_2+\\frac{5}{2}=\\frac{13}{2}\\\\\n",
        "&⇔x_2=2\n",
        "\\end{align}\n",
        "\n",
        "\\begin{align}\n",
        "2x_1-2x_2+x_3=-1&⇔2-4+x_3=-1\\\\\n",
        "&⇔x_3=1\n",
        "\\end{align}\n",
        "\n"
      ],
      "metadata": {
        "id": "-bUOX-gQMBCM"
      }
    },
    {
      "cell_type": "markdown",
      "source": [
        "Y así\n",
        "\n",
        "$$\n",
        "\\begin{pmatrix}\n",
        "x_1 \\\\ x_2 \\\\ x_3\n",
        "\\end{pmatrix}=\n",
        "\\begin{pmatrix}\n",
        "1 \\\\ 2 \\\\ 1\n",
        "\\end{pmatrix}\n",
        "$$"
      ],
      "metadata": {
        "id": "W6ijD4UgTUlN"
      }
    },
    {
      "cell_type": "markdown",
      "source": [
        "\n",
        "\n",
        "---\n",
        "\n"
      ],
      "metadata": {
        "id": "-ozQcqLjTdBb"
      }
    },
    {
      "cell_type": "markdown",
      "source": [
        "**(c)** Para resolver los sistemas con los nuevos $b$, con la eliminación de gauss debemos repetir el método para el sistema entero $Ax=b$, mientras que con la descomposición $LU$ sólo debemos resolver los sistemas triangular $Ly=b$ y $Ux=y$ para los nuevos $b$, ya que la descomposción está hecha."
      ],
      "metadata": {
        "id": "KHhrZuRuUJZH"
      }
    },
    {
      "cell_type": "markdown",
      "source": [
        "\n",
        "\n",
        "---\n",
        "\n"
      ],
      "metadata": {
        "id": "maQZF8LtUuYe"
      }
    },
    {
      "cell_type": "markdown",
      "source": [
        "## Ejercicio 8\n",
        "\n",
        "Considerar el sistema\n",
        "\n",
        "$$\n",
        "\\begin{cases}\n",
        "x-y=0\\\\\n",
        "x+y=0\n",
        "\\end{cases}\n",
        "$$\n",
        "\n",
        "Obtener los autovalores y autovectores de la matriz de iteración asociada al método de Gauss-Seidel para deducir si el método es convergente independientemente del punto inicial $x_0$. Sin hacer cálculos, predecir el comportamiento de las sucesiones que se obtienen con los siguientes valores iniciales:\n",
        "\n",
        "$$\n",
        "(\\text{a})\\,x_0=(2,0),\\hspace{1cm}(\\text{b})\\,x_0=(-0.03,0.03)\\hspace{1cm}(\\text{b})\\,x_0=(0,1)\n",
        "$$\n",
        "\n",
        "Decidir si en estos casos el método de Jacobi resulta convergente."
      ],
      "metadata": {
        "id": "DMEqxBNgjHAf"
      }
    },
    {
      "cell_type": "markdown",
      "source": [
        "El sistema que se nos plantea es $Ax=b$ con:\n",
        "\n",
        "$$\n",
        "A=\\begin{pmatrix}1 & -1\\\\ 1 & 1\\end{pmatrix},\\hspace{1cm}b=\\begin{pmatrix}0\\\\0 \\end{pmatrix}\n",
        "$$"
      ],
      "metadata": {
        "id": "F8_oj_GLCgxr"
      }
    },
    {
      "cell_type": "markdown",
      "source": [
        "Descomponemos a la matriz $A=M-N$ donde:\n",
        "\n",
        "$$\n",
        "M=L+D=\\begin{pmatrix}\n",
        "1 & 0 \\\\\n",
        "1 & 1\n",
        "\\end{pmatrix},\\hspace{1cm}\n",
        "N=-U=\\begin{pmatrix}\n",
        "0 & 1 \\\\\n",
        "0 & 0\n",
        "\\end{pmatrix}\n",
        "$$\n",
        "\n",
        "La matriz de iteración es $M^{-1}N$. Calculamos $M^{-1}$:\n",
        "\n",
        "\\begin{align}\n",
        "(M|Id)=\\left( \\begin{array}{cc|cc}\n",
        "1 & 0 & 1 & 0 \\\\\n",
        "1 & 1 & 0 & 1 \\\\\n",
        "\\end{array} \\right)→\n",
        "\\left( \\begin{array}{cc|cc}\n",
        "1 & 0 & 1 & 0 \\\\\n",
        "0 & 1 & -1 & 1 \\\\\n",
        "\\end{array} \\right)=(Id|M^{-1})\n",
        "\\end{align}\n",
        "\n",
        "Luego:\n",
        "\n",
        "\\begin{align}\n",
        "M^{-1}N=\\begin{pmatrix}\n",
        "1 & 0\\\\\n",
        "-1 & 1\n",
        "\\end{pmatrix}\n",
        "\\begin{pmatrix}\n",
        "0 & 1\\\\\n",
        "0 & 0\n",
        "\\end{pmatrix}=\n",
        "\\begin{pmatrix}\n",
        "0 & 1\\\\\n",
        "0 & -1\n",
        "\\end{pmatrix}\n",
        "\\end{align}\n",
        "\n",
        "Ahora calculamos los autovalores de $, buscando las raíces de su polinomio característico:\n",
        "\n",
        "\\begin{align}\n",
        "\\det(M^{-1}N-λ\\,Id)=0&⇔\\det\\begin{pmatrix}\n",
        "-λ & 1\\\\\n",
        "0 & -1-λ\n",
        "\\end{pmatrix}=0\\\\\n",
        "&⇔λ(λ+1)=0\\\\\n",
        "&⇔λ=0\\,\\text{ o }\\,λ=-1\n",
        "\\end{align}\n",
        "\n",
        "\n"
      ],
      "metadata": {
        "id": "WNcj9xRUFRFm"
      }
    },
    {
      "cell_type": "markdown",
      "source": [
        "Para que el método de Gauss-Seidel converga independientemente del punto inicial $x_0$ de la iteración, debe cumplirse que el radio espectral $ρ(M^{-1}N)<1$, sin embargo en nuestro caso $ρ(M^{-1}N)=1$, con lo cual la convergencia del método **no es independiente del punto inicial $x_0$** de la iteración, más no significa que el método no converga para algún punto inicial $x_0'$.\n",
        "\n",
        "Más precisamente significa que el método diverge para algún $x_0$."
      ],
      "metadata": {
        "id": "3fvjkaXpwgZz"
      }
    },
    {
      "cell_type": "markdown",
      "source": [
        "## Ejercicio 9\n",
        "\n",
        "Dado el sistema $Ax=b$, donde\n",
        "\n",
        "$$\n",
        "A=\\begin{pmatrix}3&2\\\\1&2\\end{pmatrix},\\hspace{1cm}b=\\begin{pmatrix}5\\\\3\\end{pmatrix}\n",
        "$$\n",
        "\n",
        "$\\hspace{0.7cm}(\\text{a})$ Deducir la iteración de Jacobi y la de Gauss-Seidel para resolver el sistema lineal $Ax=b$.\n",
        "\n",
        "$\\hspace{0.7cm}(\\text{b})$ Determinar si la sucesión $\\{x^{(k)}\\}$ generada\n",
        "por el método de Jacobi es convergente, justificando su respuesta."
      ],
      "metadata": {
        "id": "xuyHiyHJwk0f"
      }
    },
    {
      "cell_type": "markdown",
      "source": [
        "\n",
        "\n",
        "---\n",
        "\n"
      ],
      "metadata": {
        "id": "0-i1IcuxvkPq"
      }
    },
    {
      "cell_type": "markdown",
      "source": [],
      "metadata": {
        "id": "efhE7oeUv0Cm"
      }
    }
  ]
}