{
  "nbformat": 4,
  "nbformat_minor": 0,
  "metadata": {
    "colab": {
      "provenance": [],
      "toc_visible": true,
      "authorship_tag": "ABX9TyPnsYnHLz4PNP/YXR93aO0u",
      "include_colab_link": true
    },
    "kernelspec": {
      "name": "python3",
      "display_name": "Python 3"
    },
    "language_info": {
      "name": "python"
    }
  },
  "cells": [
    {
      "cell_type": "markdown",
      "metadata": {
        "id": "view-in-github",
        "colab_type": "text"
      },
      "source": [
        "<a href=\"https://colab.research.google.com/github/nicolaciar/numerico1-famaf/blob/main/Practicos/Practico6_ANI.ipynb\" target=\"_parent\"><img src=\"https://colab.research.google.com/assets/colab-badge.svg\" alt=\"Open In Colab\"/></a>"
      ]
    },
    {
      "cell_type": "markdown",
      "source": [
        "# Práctico 6 - Análisis Numérico I - FaMAF\n",
        ">## Sistemas Lineales\n",
        "Eliminación Gaussiana y factorización LU. Métodos iterativos: Jacobi y Gauss-\n",
        "Seidel."
      ],
      "metadata": {
        "id": "dW2IQm_E8qPA"
      }
    },
    {
      "cell_type": "markdown",
      "source": [
        "## Ejercicio 1\n",
        "\n",
        "Resolver los sistemas lineales $Ax=b$ para los $A$ y $b$ dados, utilizando sustitución hacia atrás o hacia adelante según corresponda:"
      ],
      "metadata": {
        "id": "TILvPGeCkQcE"
      }
    },
    {
      "cell_type": "markdown",
      "source": [
        "\n",
        "\n",
        "---\n",
        "\n"
      ],
      "metadata": {
        "id": "TvVO6Fy8lVeS"
      }
    },
    {
      "cell_type": "markdown",
      "source": [
        "**Contexto**\n"
      ],
      "metadata": {
        "id": "Adlvw-royr9l"
      }
    },
    {
      "cell_type": "markdown",
      "source": [
        "> **Teorema de Sustitución Regresiva**. Si $AX=b$ es un sistema triangular superior de ecuaciones lineales y $a_{kk}\\neq0, ∀k=1,2,3,\\dots,n$, entonces el sistema tiene solución única.\n",
        "\n",
        "> **Teorema de Sustitución Progresiva**. Si $AX=b$ es un sistema triangular inferior de ecuaciones lineales y $a_{kk}\\neq0, ∀k=1,2,3,\\dots,n$, entonces el sistema tiene solución única."
      ],
      "metadata": {
        "id": "4MhQTRKKyw36"
      }
    },
    {
      "cell_type": "markdown",
      "source": [
        "Ambos teoremas pueden reformularse para que la hipótesis"
      ],
      "metadata": {
        "id": "dl6VfcX-1UCL"
      }
    },
    {
      "cell_type": "markdown",
      "source": [
        "\n",
        "\n",
        "---\n",
        "\n"
      ],
      "metadata": {
        "id": "mrOfmXm5yrZ8"
      }
    },
    {
      "cell_type": "markdown",
      "source": [
        "$(a)$ $A=\\begin{pmatrix}1 & 2 & 3 \\\\ 0 & 4 & 5\\\\ 0 & 0 & 6\\end{pmatrix},\\,b=\\begin{pmatrix}10 \\\\ 13 \\\\ 6\\end{pmatrix}$"
      ],
      "metadata": {
        "id": "gIhdrtTSlWGQ"
      }
    },
    {
      "cell_type": "markdown",
      "source": [
        "Observemos que $A$ es una matriz no triangular superior y $a_{ii}\\neq0$ para $i=1,2,3$ con lo cual el sistema"
      ],
      "metadata": {
        "id": "Lir1CDmcqPWt"
      }
    },
    {
      "cell_type": "markdown",
      "source": [
        "$$\n",
        "AX=b≡\\begin{pmatrix}1 & 2 & 3 \\\\ 0 & 4 & 5\\\\ 0 & 0 & 6\\end{pmatrix}\\begin{pmatrix}x_1\\\\x_2\\\\x_3\\end{pmatrix}=\\begin{pmatrix}10 \\\\ 13 \\\\ 6\\end{pmatrix}\n",
        "$$"
      ],
      "metadata": {
        "id": "NCAKxIzHz6BZ"
      }
    },
    {
      "cell_type": "markdown",
      "source": [
        "tiene solución única y lo obtenemos con el algoritmo de sustitución regresiva o hacia atrás; tenemos:"
      ],
      "metadata": {
        "id": "_kIuTV2m0nq6"
      }
    },
    {
      "cell_type": "markdown",
      "source": [
        "$$\n",
        "a_{33}x_3=b_3⇒x_3=\\frac{b_3}{x_3}=\\frac{6}{6}=1\n",
        "$$"
      ],
      "metadata": {
        "id": "RGVTFrcP0quB"
      }
    },
    {
      "cell_type": "markdown",
      "source": [
        "Para el siguiente paso tenemos:\n",
        "\n"
      ],
      "metadata": {
        "id": "HKxCT_s71HRr"
      }
    },
    {
      "cell_type": "markdown",
      "source": [
        "\\begin{align}\n",
        "a_{22}x_2+a_{23}x_3=b_2⇒x_2&=\\frac{b_2-a_{23}x_3}{a_{22}}=\\frac{13-5⋅1}{4}\\\\\n",
        "&=2\n",
        "\\end{align}"
      ],
      "metadata": {
        "id": "6EAuDY3-2fEx"
      }
    },
    {
      "cell_type": "markdown",
      "source": [
        "Y en el paso final:"
      ],
      "metadata": {
        "id": "b4Nr7B9i3lwv"
      }
    },
    {
      "cell_type": "markdown",
      "source": [
        "\\begin{align}\n",
        "a_{11}x_1+a_{12}x_2+a_{13}x_3=b_1⇒x_1&=\\frac{b_1-a_{12}x_2-a_{13}x_3}{a_{11}}\\\\\n",
        "&=\\frac{10-2⋅2-3⋅1}{1}\\\\\n",
        "&=3\n",
        "\\end{align}"
      ],
      "metadata": {
        "id": "f4RtgxtM3oSN"
      }
    },
    {
      "cell_type": "markdown",
      "source": [
        "Con lo cual:\n",
        "\n",
        "$$\\begin{pmatrix}x_1\\\\x_2\\\\x_3\\end{pmatrix}=\\begin{pmatrix}3\\\\2\\\\1\\end{pmatrix}$$"
      ],
      "metadata": {
        "id": "DIzufUbO40dJ"
      }
    },
    {
      "cell_type": "markdown",
      "source": [
        "\n",
        "\n",
        "---\n",
        "\n"
      ],
      "metadata": {
        "id": "1Ffc8ZNU5GA3"
      }
    },
    {
      "cell_type": "markdown",
      "source": [
        "## Ejercicio 3\n",
        "\n",
        "Mostrar que el costo de operaciones del método de eliminación gaussiana para resolver un sistema  $Ax=b$, con $A\\in \\mathbb{R}^{n×n}$ es $\\mathcal{O}\\left(\\frac{2}{3}n^3\\right)$ flops."
      ],
      "metadata": {
        "id": "xTD0p51V5f_D"
      }
    },
    {
      "cell_type": "markdown",
      "source": [
        "Recordemos el algoritmo de eliminación gaussiana, para una matriz triangular superior:"
      ],
      "metadata": {
        "id": "-IA21Cu_9-6O"
      }
    },
    {
      "cell_type": "markdown",
      "source": [
        "\\begin{align}\n",
        "&\\textbf{input }a,A,b\\\\\n",
        "&\\textbf{for }k=1,\\dots,n\\textbf{ do}\\\\\n",
        "&\\hspace{1cm}\\textbf{for }i=k+1,\\dots,n\\textbf{ do}\\\\\n",
        "&\\hspace{2cm}\\textbf{if }(a_{kk}=0)\\text{ STOP!}\\\\\n",
        "&\\hspace{2cm}m←a_{ik}/a_{kk}\\\\\n",
        "&\\hspace{2cm}\\textbf{for }j=k+1,\\dots,n\\textbf{ do}\\\\\n",
        "&\\hspace{3cm}a_{ij}←a_{ij}-ma_{kj}\\\\\n",
        "&\\hspace{2cm}\\textbf{end for }(j)\\\\\n",
        "&\\hspace{2cm}b_i←a_{ij}-mb_k\n",
        "&\\hspace{1cm}\\textbf{end for }(i)\\\\\n",
        "&\\textbf{end for }(k)\\\\\n",
        "&\\textbf{output }A,b\\\\\n",
        "&\\textbf{end}\n",
        "\\end{align}"
      ],
      "metadata": {
        "id": "ekfu1sDfJ_o7"
      }
    },
    {
      "cell_type": "markdown",
      "source": [
        "Dentro del $\\verb|for|\\,j$ tenemos $2$ operaciones, el producto y la resta $a_{ij}-a_{ij}-ma_{kj}$, el cual se realiza $n-k$ veces, con lo cual, en este $\\verb|for|$ se realizan $2(n-k)$ operaciones."
      ],
      "metadata": {
        "id": "AYx4wRd4M8Zv"
      }
    },
    {
      "cell_type": "markdown",
      "source": [
        "Dentro del $\\verb|for|\\,i$ hay tres operaciones y las $2(n-k)$ operaciones del $\\verb|for|\\,j$, que se repiten $(n-k)$ veces es decir:\n",
        "\n",
        "$$\n",
        "(3+2(n-k))(n-k)\n",
        "$$"
      ],
      "metadata": {
        "id": "2VZHYmPjN7Of"
      }
    },
    {
      "cell_type": "markdown",
      "source": [
        "Y dentro del último $\\verb|for|\\,k$ tenemos las operaciones anteriores que se realizan desde $k$ hasta $n-1$:\n",
        "\n",
        "$$\n",
        "\\sum_{k=1}^{n-1}\n",
        "(3+2(n-k))(n-k)\n",
        "$$\n",
        "\n",
        "Realizando el cambio de variables $s=n-k$:\n",
        "\n",
        "\\begin{align}\n",
        "\\sum_{s=1}^{n-1}(3+2s)(s)&=\\sum_{s=1}^{n-1}(3s+2s^2)\\\\\n",
        "&=3\\sum_{s=1}^{n-1}s+2\\sum_{s=1}^{n-1}s^2\\\\\n",
        "&=3\\frac{(n-1)n}{2}+2\\frac{(n-1)(2n-1)n}{6}\\\\\n",
        "&=\\mathcal{O}\\left(\\frac{3}{2}n^2\\right)+\\frac{(n^2-n)(2n-1)}{3}\\\\\n",
        "&=\\frac{2n^3-3n^2-n}{3}+\\mathcal{O}\\left(\\frac{3}{2}n^2\\right)\\\\\n",
        "&=\\mathcal{O}\\left(\\frac{2}{3}n^3\\right)+\\mathcal{O}\\left(\\frac{3}{2}n^2\\right)\\\\\n",
        "&=\\mathcal{O}\\left(\\frac{2}{3}n^3\\right)\n",
        "\\end{align}\n"
      ],
      "metadata": {
        "id": "aat7bWVyZTPP"
      }
    },
    {
      "cell_type": "markdown",
      "source": [
        "## Ejercicio 4\n",
        "\n",
        "Considerar el sistema lineal $Ax=b$, donde\n",
        "\n",
        "$$\n",
        "\\begin{pmatrix}\\end{pmatrix}\n",
        "$$"
      ],
      "metadata": {
        "id": "YL269maZZ1fl"
      }
    },
    {
      "cell_type": "markdown",
      "source": [
        "## Ejercicio 8\n",
        "\n",
        "Considerar el sistema\n",
        "\n",
        "$$\n",
        "\\begin{cases}\n",
        "x-y=0\\\\\n",
        "x+y=0\n",
        "\\end{cases}\n",
        "$$\n",
        "\n",
        "Obtener los autovalores y autovectores de la matriz de iteración asociada al método de Gauss-Seidel para deducir si el método es convergente independientemente del punto inicial $x_0$. Sin hacer cálculos, predecir el comportamiento de las sucesiones que se obtienen con los siguientes valores iniciales:\n",
        "\n",
        "$$\n",
        "(\\text{a})\\,x_0=(2,0),\\hspace{1cm}(\\text{b})\\,x_0=(-0.03,0.03)\\hspace{1cm}(\\text{b})\\,x_0=(0,1)\n",
        "$$\n",
        "\n",
        "Decidir si en estos casos el método de Jacobi resulta convergente."
      ],
      "metadata": {
        "id": "DMEqxBNgjHAf"
      }
    },
    {
      "cell_type": "markdown",
      "source": [
        "El sistema que se nos plantea es $Ax=b$ con:\n",
        "\n",
        "$$\n",
        "A=\\begin{pmatrix}1 & -1\\\\ 1 & 1\\end{pmatrix},\\hspace{1cm}b=\\begin{pmatrix}0\\\\0 \\end{pmatrix}\n",
        "$$"
      ],
      "metadata": {
        "id": "F8_oj_GLCgxr"
      }
    },
    {
      "cell_type": "markdown",
      "source": [
        "Descomponemos a la matriz $A=M-N$ donde:\n",
        "\n",
        "$$\n",
        "M=L+D=\\begin{pmatrix}\n",
        "1 & 0 \\\\\n",
        "1 & 1\n",
        "\\end{pmatrix},\\hspace{1cm}\n",
        "N=-U=\\begin{pmatrix}\n",
        "0 & 1 \\\\\n",
        "0 & 0\n",
        "\\end{pmatrix}\n",
        "$$\n",
        "\n",
        "La matriz de iteración es $M^{-1}N$. Calculamos $M^{-1}$:\n",
        "\n",
        "\\begin{align}\n",
        "(M|Id)=\\left( \\begin{array}{cc|cc}\n",
        "1 & 0 & 1 & 0 \\\\\n",
        "1 & 1 & 0 & 1 \\\\\n",
        "\\end{array} \\right)→\n",
        "\\left( \\begin{array}{cc|cc}\n",
        "1 & 0 & 1 & 0 \\\\\n",
        "0 & 1 & -1 & 1 \\\\\n",
        "\\end{array} \\right)=(Id|M^{-1})\n",
        "\\end{align}\n",
        "\n",
        "Luego:\n",
        "\n",
        "\\begin{align}\n",
        "M^{-1}N=\\begin{pmatrix}\n",
        "1 & 0\\\\\n",
        "-1 & 1\n",
        "\\end{pmatrix}\n",
        "\\begin{pmatrix}\n",
        "0 & 1\\\\\n",
        "0 & 0\n",
        "\\end{pmatrix}=\n",
        "\\begin{pmatrix}\n",
        "0 & 1\\\\\n",
        "0 & -1\n",
        "\\end{pmatrix}\n",
        "\\end{align}\n",
        "\n",
        "Ahora calculamos los autovalores de $, buscando las raíces de su polinomio característico:\n",
        "\n",
        "\\begin{align}\n",
        "\\det(M^{-1}N-λ\\,Id)=0&⇔\\det\\begin{pmatrix}\n",
        "-λ & 1\\\\\n",
        "0 & -1-λ\n",
        "\\end{pmatrix}=0\\\\\n",
        "&⇔λ(λ+1)=0\\\\\n",
        "&⇔λ=0\\,\\text{ o }\\,λ=-1\n",
        "\\end{align}\n",
        "\n",
        "\n"
      ],
      "metadata": {
        "id": "WNcj9xRUFRFm"
      }
    },
    {
      "cell_type": "markdown",
      "source": [
        "Para que el método de Gauss-Seidel converga independientemente del punto inicial $x_0$ de la iteración, debe cumplirse que el radio espectral $ρ(M^{-1}N)<1$, sin embargo en nuestro caso $ρ(M^{-1}N)=1$, con lo cual la convergencia del método **no es independiente del punto inicial $x_0$** de la iteración, más no significa que el método no converga para algún punto inicial $x_0'$.\n",
        "\n",
        "Más precisamente significa que el método diverge para algún $x_0$."
      ],
      "metadata": {
        "id": "3fvjkaXpwgZz"
      }
    },
    {
      "cell_type": "markdown",
      "source": [
        "## Ejercicio 9\n",
        "\n",
        "Dado el sistema $Ax=b$, donde\n",
        "\n",
        "$$\n",
        "A=\\begin{pmatrix}3&2\\\\1&2\\end{pmatrix},\\hspace{1cm}b=\\begin{pmatrix}5\\\\3\\end{pmatrix}\n",
        "$$\n",
        "\n",
        "$\\hspace{0.7cm}(\\text{a})$ Deducir la iteración de Jacobi y la de Gauss-Seidel para resolver el sistema lineal $Ax=b$.\n",
        "\n",
        "$\\hspace{0.7cm}(\\text{b})$ Determinar si la sucesión $\\{x^{(k)}\\}$ generada\n",
        "por el método de Jacobi es convergente, justificando su respuesta."
      ],
      "metadata": {
        "id": "xuyHiyHJwk0f"
      }
    },
    {
      "cell_type": "markdown",
      "source": [
        "\n",
        "\n",
        "---\n",
        "\n"
      ],
      "metadata": {
        "id": "0-i1IcuxvkPq"
      }
    },
    {
      "cell_type": "markdown",
      "source": [],
      "metadata": {
        "id": "efhE7oeUv0Cm"
      }
    }
  ]
}