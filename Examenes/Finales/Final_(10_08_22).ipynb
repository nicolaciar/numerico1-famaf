{
  "nbformat": 4,
  "nbformat_minor": 0,
  "metadata": {
    "colab": {
      "provenance": []
    },
    "kernelspec": {
      "name": "python3",
      "display_name": "Python 3"
    },
    "language_info": {
      "name": "python"
    }
  },
  "cells": [
    {
      "cell_type": "markdown",
      "source": [
        "# Final 10/08/22\n",
        "\n"
      ],
      "metadata": {
        "id": "PYCSrJ5MuMKs"
      }
    },
    {
      "cell_type": "markdown",
      "source": [
        "\n",
        "\n",
        "---\n",
        "\n"
      ],
      "metadata": {
        "id": "YVpRJIfLUYif"
      }
    },
    {
      "cell_type": "markdown",
      "source": [
        "## Ejercicio 1\n",
        "\n",
        "Si $x,y\\geq0$, demostrar que:\n",
        "\n",
        "$$\n",
        "\\Bigg|\\frac{x+y-fl(fl(x)+fl(y))}{x+y}\\Bigg|\\leq 2e+e^2\n",
        "$$\n",
        "\n",
        "donde $fl(x)=x(1+δ_x)$ y $|\\delta_x|\\leq e$."
      ],
      "metadata": {
        "id": "l24ZCK5RyFxx"
      }
    },
    {
      "cell_type": "markdown",
      "source": [
        "\n",
        "\n",
        "---\n",
        "\n"
      ],
      "metadata": {
        "id": "EvK12rpPUZ1m"
      }
    },
    {
      "cell_type": "markdown",
      "source": [
        "Tenemos:\n",
        "\n",
        "$$\n",
        "fl(x)=x(1+δ_x),\\quad fl(y)=y(1+\\delta_y)\n",
        "$$\n",
        "\n",
        "Luego:\n",
        "\n",
        "\\begin{align*}\n",
        "fl(fl(x)+fl(y))&=fl(x(1+δ_x)+y(1+δ_y))\\\\\n",
        "&=(x(1+δ_x)+y(1+\\delta_y))(1+δ_s)\\\\\n",
        "&=x+y+x\\delta_x+y\\delta_y+δ_s(x+y)+δ_s(x\\delta_x+y\\delta_y)\n",
        "\\end{align*}\n",
        "\n",
        "De donde:\n",
        "\n",
        "\\begin{align*}\n",
        "|x+y-fl(fl(x)+fl(y))|&=|-(x\\delta_x+y\\delta_y+δ_s(x+y)+δ_s(x\\delta_x+y\\delta_y))|\\\\\n",
        "&=|x\\delta_x+y\\delta_y+δ_s(x+y)+δ_s(x\\delta_x+y\\delta_y)|\n",
        "\\end{align*}\n",
        "\n",
        "Así:\n",
        "\n",
        "\\begin{align*}\n",
        "\\Bigg|\\frac{x+y-fl(fl(x)+fl(y))}{x+y}\\Bigg|&=\\frac{|x+y-fl(fl(x)+fl(y))|}{|x+y|}\\\\\n",
        "&=\\frac{|x\\delta_x+y\\delta_y+δ_s(x+y)+δ_s(x\\delta_x+y\\delta_y)|}{|x+y|}\\\\\n",
        "&=\\frac{|x\\delta_x+y\\delta_y|}{|x+y|}+|δ_s|+|δ_s|\\frac{|x\\delta_x+y\\delta_y|}{|x+y|}\\\\\n",
        "&\\leq\\frac{x|\\delta_x|+y|\\delta_y|}{x+y}+|δ_s|+|δ_s|\\frac{x|\\delta_x|+y|\\delta_y|}{x+y}\\\\\n",
        "&\\leq\\frac{xe+ye}{x+y}+e+e\\frac{xe+ye}{x+y}\\\\\n",
        "&=\\frac{e(x+y)}{x+y}+e+e\\frac{e(x+y)}{x+y}\\\\\n",
        "&=e+e+e⋅e\\\\\n",
        "&=2e+e^2\n",
        "\\end{align*}"
      ],
      "metadata": {
        "id": "B96EF66nCuRH"
      }
    },
    {
      "cell_type": "markdown",
      "source": [
        "\n",
        "\n",
        "---\n",
        "\n"
      ],
      "metadata": {
        "id": "O6pPQtExUbjl"
      }
    },
    {
      "cell_type": "markdown",
      "source": [
        "## Ejercicio 2\n",
        "\n",
        "Sea desea encontrar la raíz de $f(x)=1-\\ln(x)$. Si usamos el método de Newton, demuestre que para cualquier punto inicial $x_0\\in(0,e)$ vale:\n",
        "\n",
        "a) $0\\leq x_n\\leq x_{n+1}$ y $x_n\\leq e$\n",
        "\n",
        "b) $\\{x_n\\}$ converge a $e$"
      ],
      "metadata": {
        "id": "64RbkGEqYKz3"
      }
    },
    {
      "cell_type": "markdown",
      "source": [
        "\n",
        "\n",
        "---\n",
        "\n"
      ],
      "metadata": {
        "id": "Stl3VSA-sObR"
      }
    },
    {
      "cell_type": "markdown",
      "source": [
        "**(a)** Rcordemos que, comenzando con una aproximación $x_0$ de $r$ (la raíz de $f$), la iteración de Newton consiste en calcular:\n",
        "\n",
        "$$\n",
        "x_{n+1}=x_n-\\frac{f(x_n)}{f'(x_n)}\n",
        "$$\n",
        "\n",
        "En nuestro caso:\n",
        "\n",
        "$$\n",
        "f(x_n)=1-\\ln(x_n),\\quad f'(x_n)=-\\frac{1}{x_n}\n",
        "$$\n",
        "\n",
        "Con lo cual:\n",
        "\n",
        "$$\n",
        "x_{n+1}=x_n+(1-\\ln(x_n))x_n=x_n(2-\\ln(x_n))\n",
        "$$"
      ],
      "metadata": {
        "id": "okWZNyN-bc9i"
      }
    },
    {
      "cell_type": "markdown",
      "source": [
        "Para probar que $0\\leq x_n\\leq x_{n+1}$, observemos que para cualquier punto inicial $x_0\\in(0,e)$ se tiene:\n",
        "\n",
        "\\begin{align*}\n",
        "x_0\\leq e⇔\\ln(x_0)\\leq1&⇔-\\ln(x_0)\\geq 1\\\\\n",
        "&⇔2-\\ln(x_0)\\geq1\n",
        "\\end{align*}\n",
        "\n",
        "Luego:\n",
        "\n",
        "$$\n",
        "x_1=x_0(2-\\ln(x_0))\\geq x_0\n",
        "$$\n",
        "\n",
        "Luego, por inducción en $n$ si:\n",
        "\n",
        "$$\n",
        "x_{n+1}=x_n(2-\\ln(x_n))\\geq x_n\n",
        "$$\n",
        "\n",
        "Tenemos:\n",
        "\n",
        "$$\n",
        "x_{n+2}\\geq x_{n+1}(2-\\ln(x_{n+1}))\\geq x_{n+1}\n",
        "$$"
      ],
      "metadata": {
        "id": "oq1zOHnMgwUH"
      }
    },
    {
      "cell_type": "markdown",
      "source": [
        "Para ver que $x_n\\leq e$, también lo hacemos por inducción, como\n",
        "\n",
        "$$\n",
        "x_0∈(0,e)⇒x_0\\leq e\n",
        "$$\n",
        "\n",
        "Luego si\n",
        "\n",
        "$$\n",
        "x_n\\leq e\n",
        "$$\n",
        "\n",
        "Tenemos\n",
        "\n",
        "$$\n",
        "x_{n+1}=x_n(2-\\ln(x_n))\\leq e(2-\\ln(e))=e(2-1)=e\n",
        "$$"
      ],
      "metadata": {
        "id": "WDMjhEo7riAU"
      }
    },
    {
      "cell_type": "markdown",
      "source": [
        "\n",
        "\n",
        "---\n",
        "\n"
      ],
      "metadata": {
        "id": "a2gRq8h0sM9z"
      }
    },
    {
      "cell_type": "markdown",
      "source": [
        "**(b)** Por el inciso anterior, podemos ver que $\\{x_n\\}$ es creciente y acotada, por lo que converge.\n",
        "\n",
        "Ahora sea $\\ell$ el límite de la sucesión, entonces:\n",
        "\n",
        "\\begin{align*}\n",
        "\\lim_{n\\to∞}x_{n+1}=\\lim_{n\\to∞}x_n(2-\\ln(x_n))&⇔ℓ=ℓ(2-\\ln(ℓ))\\\\\n",
        "&⇔1=2-\\ln(\\ell)\\\\\n",
        "&⇔\\ln(ℓ)=1\\\\\n",
        "&⇔ℓ=e\n",
        "\\end{align*}"
      ],
      "metadata": {
        "id": "h8nRJovxsNn2"
      }
    },
    {
      "cell_type": "markdown",
      "source": [
        "\n",
        "\n",
        "---\n",
        "\n"
      ],
      "metadata": {
        "id": "6n-JRoQdwjmS"
      }
    },
    {
      "cell_type": "markdown",
      "source": [
        "## Ejercicio 3\n",
        "\n",
        "Mostrar que la mejor parábola que aproxima  en el sentido de los cuadrados mínimos a los puntos $(-2,0),(0,-2),(2,1)$ y $(4,2)$ es\n",
        "\n",
        "$$\n",
        "y=\\frac{3}{16}x^2+\\frac{3}{40}x-\\frac{19}{20}\n",
        "$$"
      ],
      "metadata": {
        "id": "sGlnwZJiwkmS"
      }
    },
    {
      "cell_type": "markdown",
      "source": [
        "\n",
        "\n",
        "---\n",
        "\n"
      ],
      "metadata": {
        "id": "87DtVD-rUfz3"
      }
    },
    {
      "cell_type": "markdown",
      "source": [
        "Debemos probar que si $a,b,c$ son las constantes reales que minimizan el error:\n",
        "\n",
        "$$\n",
        "E(a,b,c)=\\sum_{i=1}^m(y_i-(ax_i^2+bx_i+c))^2\n",
        "$$\n",
        "\n",
        "Entonces:\n",
        "\n",
        "$$\n",
        "a=\\frac{3}{16},\\quad b=\\frac{3}{40},\\quad c=-\\frac{19}{20}\n",
        "$$"
      ],
      "metadata": {
        "id": "5UbMlwCryPYR"
      }
    },
    {
      "cell_type": "markdown",
      "source": [
        "Para minimizar el error $E$, calculamos sus derivadas parciales respecto a $a,b,c$, y las igualamos a $0$, esto es:\n",
        "\n",
        "\\begin{align*}\n",
        "\\frac{∂E(a,b,c)}{∂a}=0&⇔2\\sum_{i=1}^m(y_i-(ax_i^2+bx_i+c))(-x^2)=0\\\\\\tag{1}\n",
        "&⇔ a\\sum_{i=1}^mx_i^4+b\\sum_{i=1}^mx_i^3+c\\sum_{i=1}^mx_i^2=\\sum_{i=1}^my_ix_i^2\n",
        "\\end{align*}\n",
        "\n",
        "\\begin{align*}\n",
        "\\frac{∂E(a,b,c)}{∂b}=0&⇔2\\sum_{i=1}^m(y_i-(ax_i^2+bx_i+c))(-x_i)=0\\\\\\tag{2}\n",
        "&⇔ a\\sum_{i=1}^mx_i^3+b\\sum_{i=1}^mx_i^2+c\\sum_{i=1}^mx_i=\\sum_{i=1}^my_ix_i\n",
        "\\end{align*}\n",
        "\n",
        "\\begin{align*}\n",
        "\\frac{∂E(a,b,c)}{∂c}=0&⇔2\\sum_{i=1}^m(y_i-(ax_i^2+bx_i+c))(-1)=0\\\\\\tag{3}\n",
        "&⇔ a\\sum_{i=1}^mx_i^2+b\\sum_{i=1}^mx_i+c\\sum_{i=1}^m1=\\sum_{i=1}^ny_i\n",
        "\\end{align*}"
      ],
      "metadata": {
        "id": "hikLAHgM_9B5"
      }
    },
    {
      "cell_type": "markdown",
      "source": [
        "Donde $m=4$ puntos dados, luego\n",
        "\n",
        "$$\n",
        "\\sum_{i=1}^41=4,\\quad\\sum_{i=1}^4x_i=4,\\quad\\sum_{i=1}^mx_i^2=24,\\quad\\sum_{i=1}^4x_i^3=64,\\quad\\sum_{i=1}^mx_i^4=288\n",
        "$$\n",
        "\n",
        "$$\n",
        "\\sum_{i=1}^4y_i=1,\\quad\\sum_{i=1}^4x_iy_i=10,\\quad\\sum_{i=1}^4x_i^2y_i=36\n",
        "$$\n",
        "\n"
      ],
      "metadata": {
        "id": "gpjBhkCPEJu1"
      }
    },
    {
      "cell_type": "markdown",
      "source": [
        "Así, con estos valores y las ecuaciones $(1),(2),$ y $(3)$, se obtiene el sistema de ecuaciones:\n",
        "\n",
        "$$\n",
        "\\begin{cases}\n",
        "24a+4b+4c&=&1\\\\\n",
        "64a+24b+4c&=&10\\\\\n",
        "288a+64b+24c&=&36\n",
        "\\end{cases}\n",
        "$$\n",
        "\n",
        "Cuya solución es:\n",
        "\n",
        "$$\n",
        "a=\\frac{3}{16},\\quad b=\\frac{3}{40},\\quad c=-\\frac{19}{20}\n",
        "$$"
      ],
      "metadata": {
        "id": "RM93B7yiIpAl"
      }
    },
    {
      "cell_type": "markdown",
      "source": [
        "\n",
        "\n",
        "---\n",
        "\n"
      ],
      "metadata": {
        "id": "evU0RszkLxjU"
      }
    },
    {
      "cell_type": "markdown",
      "source": [
        "## Ejercicio 4\n",
        "\n",
        "Considere el sistema\n",
        "\n",
        "$$\n",
        "\\begin{cases}\n",
        "2x_1-x_2+x_3&=&0,\\\\\n",
        "2x_3+x_1&=&1+x_2,\\\\\n",
        "1+x_2&=&x_3\n",
        "\\end{cases}\n",
        "$$\n",
        "\n",
        "Resuleva usando factorización $LU$."
      ],
      "metadata": {
        "id": "axHN0JZxLyTa"
      }
    },
    {
      "cell_type": "markdown",
      "source": [
        "\n",
        "\n",
        "---\n",
        "\n"
      ],
      "metadata": {
        "id": "IcUIhPIoO55B"
      }
    },
    {
      "cell_type": "markdown",
      "source": [
        "Reescribimos:\n",
        "\n",
        "$$\n",
        "\\begin{cases}\n",
        "2x_1-x_2+x_3&=&0,\\\\\n",
        "x_1-x_2+2x_3&=&1,\\\\\n",
        "x_2-x_3&=&-1\n",
        "\\end{cases}\n",
        "$$\n",
        "\n",
        "Entonces, resolver este sistema equivale a resolver $Ax=b$, con:\n",
        "\n",
        "$$\n",
        "A=\\begin{pmatrix}2 & -1 & 1\\\\ 1 & -1 & 2\\\\0 & 1 &-1\\end{pmatrix}=\\begin{pmatrix}a_{11} & a_{12} & a_{13}\\\\ a_{21} & a_{22} & a_{23}\\\\a_{31} & a_{32} &a_{33}\\end{pmatrix},\\quad b=\\begin{pmatrix}0\\\\1\\\\-1\\end{pmatrix}\n",
        "$$"
      ],
      "metadata": {
        "id": "7NgcGt4NO9tw"
      }
    },
    {
      "cell_type": "markdown",
      "source": [
        "Descomponemos la matriz $A$ en un producto de dos matrices triangulares $L$ y $U$ de la forma:\n",
        "\n",
        "$$\n",
        "\\begin{align*}\n",
        "L=\\begin{pmatrix}\n",
        "1 & 0 & 0\\\\\n",
        "l_{21} & 1 & 0\\\\\n",
        "l_{31} & l_{32} & 1\n",
        "\\end{pmatrix},\\quad\n",
        "U=\\begin{pmatrix}\n",
        "u_{11} & u_{12} & u_{13}\\\\\n",
        "0 & u_{22} & u_{23}\\\\\n",
        "0 & 0 & u_{33}\n",
        "\\end{pmatrix}\n",
        "\\end{align*}\n",
        "$$"
      ],
      "metadata": {
        "id": "j37eK_UReoIV"
      }
    },
    {
      "cell_type": "markdown",
      "source": [
        "Donde, para $k$ desde $1$ hasta $3$, calculamos:\n",
        "\n",
        "$$\n",
        "u_{kj}=a_{kj}-\\sum_{s=1}^{k-1}l_{ks}u_{sj}\n",
        "$$\n",
        "\n",
        "$$\n",
        "l_{ik}=\\frac{1}{u_{kk}}\\left(a_{ik}-\\sum_{s=1}^{k-1}l_{is}u_{sk}\\right)\n",
        "$$"
      ],
      "metadata": {
        "id": "3Hz3Yzu7fHO-"
      }
    },
    {
      "cell_type": "markdown",
      "source": [
        "Para $k=1$:\n",
        "\n",
        "\\begin{align*}\n",
        "u_{11}&=a_{11}=2\\\\\n",
        "u_{12}&=a_{12}=-1\\\\\n",
        "u_{13}&=a_{13}=1\n",
        "\\end{align*}\n",
        "\n",
        "\\begin{align*}\n",
        "l_{21}&=\\frac{a_{21}}{u_{11}}=\\frac{1}{2}\\\\\n",
        "l_{31}&=\\frac{a_{31}}{u_{11}}=0\n",
        "\\end{align*}"
      ],
      "metadata": {
        "id": "lMdnMml3iIt6"
      }
    },
    {
      "cell_type": "markdown",
      "source": [
        "Para $k=2$:\n",
        "\n",
        "$$\n",
        "u_{22}=a_{22}-l_{21}u_{12}=-1-\\frac{1}{2}(-1)=-\\frac{1}{2}\\\\\n",
        "u_{23}=a_{23}-l_{21}u_{13}=2-\\frac{1}{2}⋅1=\\frac{3}{2}\n",
        "$$\n",
        "\n",
        "$$\n",
        "l_{32}=\\frac{1}{u_{22}}(a_{32}-l_{31}u_{12})=-2(1-0)=-2\n",
        "$$\n",
        "\n"
      ],
      "metadata": {
        "id": "FCwnVN_ZijE8"
      }
    },
    {
      "cell_type": "markdown",
      "source": [
        "Para $k=3$:\n",
        "\n",
        "\\begin{align*}\n",
        "u_{33}&=a_{33}-l_{31}u_{13}-l_{32}u_{23}\\\\\n",
        "&=-1-0+2⋅\\frac{3}{2}\\\\\n",
        "&=2\n",
        "\\end{align*}\n"
      ],
      "metadata": {
        "id": "bXoi-GQ7alPK"
      }
    },
    {
      "cell_type": "markdown",
      "source": [
        "Con todos los coeficientes determinado, resolvemos los sistemas; primer $Ly=b$ y luego $Ux=y$:\n",
        "\n",
        "\n",
        "$$\n",
        "Ly=b⇔\\begin{pmatrix}\n",
        "1 & 0 & 0\\\\\n",
        "\\frac{1}{2} & 1 & 0\\\\\n",
        "0 & -2 & 1\n",
        "\\end{pmatrix}\n",
        "\\begin{pmatrix}\n",
        "y_1\\\\y_2\\\\y_3\n",
        "\\end{pmatrix}=\n",
        "\\begin{pmatrix}\n",
        "0\\\\1\\\\ -1\n",
        "\\end{pmatrix}\n",
        "$$\n",
        "\n",
        "Haciendo sustitución hacia adelante:\n",
        "\n",
        "\\begin{align*}\n",
        "y_1=0\\\\\\\\\n",
        "\\end{align*}\n",
        "\n",
        "\\begin{align*}\n",
        "\\frac{y_1}{2}+y_2=1&⇔0+y_2=1\\\\\n",
        "&⇔y_2=1\\\\\\\\\n",
        "\\end{align*}\n",
        "\n",
        "\\begin{align*}\n",
        "-2y_2+y_3=-1&⇔-2⋅1+y_3=-1\\\\\n",
        "&⇔ y_3=1\n",
        "\\end{align*}\n",
        "\n"
      ],
      "metadata": {
        "id": "T2vCxfPOr3yS"
      }
    },
    {
      "cell_type": "markdown",
      "source": [
        "Por otro lado:\n",
        "\n",
        "$$\n",
        "Ux=y⇔\\begin{pmatrix}\n",
        "2 & -1 & 1\\\\\n",
        "0 & -\\frac{1}{2} & \\frac{3}{2}\\\\\n",
        "0 & 0 & -2\n",
        "\\end{pmatrix}\n",
        "\\begin{pmatrix}\n",
        "x_1\\\\x_2\\\\x_3\n",
        "\\end{pmatrix}=\n",
        "\\begin{pmatrix}\n",
        "0\\\\ 1\\\\ 1\n",
        "\\end{pmatrix}\n",
        "$$\n",
        "\n",
        "Haciendo sustitución hacia atrás:\n",
        "\n",
        "\\begin{align*}\n",
        "2x_3=1⇔x_3=\\frac{1}{2}\\\\\\\\\n",
        "\\end{align*}\n",
        "\n",
        "\\begin{align*}\n",
        "-\\frac{x_2}{2}+\\frac{3}{2}x_3=1&⇔-\\frac{x_2}{2}+\\frac{3}{4}=1\\\\\n",
        "&⇔x_2=-\\frac{1}{2}\\\\\\\\\n",
        "\\end{align*}\n",
        "\n",
        "\\begin{align*}\n",
        "2x_1-x_2+x_3=0&⇔2x_1+\\frac{1}{2}+\\frac{1}{2}=0\\\\\n",
        "&⇔x_3=-\\frac{1}{2}\\\\\n",
        "\\end{align*}\n",
        "\n",
        "\n",
        "\n"
      ],
      "metadata": {
        "id": "XltmJDD-uxjX"
      }
    },
    {
      "cell_type": "markdown",
      "source": [
        "Asi:\n",
        "\n",
        "\n",
        "$$\n",
        "\\begin{pmatrix}\n",
        "x_1\\\\x_2\\\\x_3\n",
        "\\end{pmatrix}=\n",
        "\\begin{pmatrix}\n",
        "-\\frac{1}{2}\\\\-\\frac{1}{2}\\\\\\frac{1}{2}\n",
        "\\end{pmatrix}\n",
        "$$"
      ],
      "metadata": {
        "id": "v0LklO-8JrHD"
      }
    },
    {
      "cell_type": "code",
      "source": [
        "# Comprobación\n",
        "import numpy as np\n",
        "\n",
        "A = np.array([[2,-1,1],[1,-1,2],[0,1,-1]])\n",
        "\n",
        "b = np.array([0,1,-1])\n",
        "\n",
        "print(np.linalg.solve(A,b))"
      ],
      "metadata": {
        "colab": {
          "base_uri": "https://localhost:8080/"
        },
        "id": "bH-iRQDvwYkr",
        "outputId": "d2c5a2ad-e242-4cf3-e4f0-9fcd16356f9f"
      },
      "execution_count": null,
      "outputs": [
        {
          "output_type": "stream",
          "name": "stdout",
          "text": [
            "[-0.5 -0.5  0.5]\n"
          ]
        }
      ]
    },
    {
      "cell_type": "markdown",
      "source": [
        "\n",
        "\n",
        "---\n",
        "\n"
      ],
      "metadata": {
        "id": "WpzMw1rMLckr"
      }
    },
    {
      "cell_type": "markdown",
      "source": [
        "## Ejercicio 5 (sólo libres)\n",
        "\n",
        "Se desea desarrollar un método de cuadratura para integrales, de la forma\n",
        "\n",
        "$$\n",
        "\\int_0^{2h}f(x)\\,dx\\approx h[c_1f(h)+c_2f(2h)]\n",
        "$$\n",
        "\n",
        "que sea exacta para todas las funciones de la forma\n",
        "\n",
        "$$\n",
        "f(x)=ax^{-\\frac{1}{2}}+bx^{\\frac{1}{2}}\n",
        "$$\n",
        "\n",
        "donde $a$ y $b$ son números reales arbitrarios. ¿Cómo deberían elegirase $c_1$ y $c_2$?"
      ],
      "metadata": {
        "id": "wRleo8bXKAia"
      }
    },
    {
      "cell_type": "markdown",
      "source": [
        "\n",
        "\n",
        "---\n",
        "\n"
      ],
      "metadata": {
        "id": "w3LsyAZ7LKVe"
      }
    },
    {
      "cell_type": "markdown",
      "source": [
        "Podemos pensar en la regla de cuadratura como una aplicación lineal en el espacio de polinomios generados por la base $\\left\\{x^{-\\frac{1}{2}},x^{\\frac{1}{2}}\\right\\}$. Como una aplicación lineal está determinada por su efecto sobre la base del espacio donde aplica, entonces basta con que la regla sea exacta para $x^{-\\frac{1}{2}}$ y $x^{\\frac{1}{2}}$ para que sea exacta para cualquier combinación lineal:\n",
        "\n",
        "$$\n",
        "ax^{-\\frac{1}{2}}+bx^{\\frac{1}{2}}\n",
        "$$\n",
        "\n",
        "tal que $a,b\\in\\mathbb{R}$.\n",
        "\n"
      ],
      "metadata": {
        "id": "4wBw-lqKLaZs"
      }
    },
    {
      "cell_type": "markdown",
      "source": [
        "Así, por un lado, debe cumplirse:\n",
        "\n",
        "\n",
        "\\begin{align*}\n",
        "\\int_0^{2h}x^{-1/2}\\,dx=h\\left[c_1h^{-1/2}+c_2(2h)^{-1/2}\\right]&⇔\\left[2x^{1/2}\\right]_0^{2h}=c_1h^{1/2}+\\frac{c_2}{\\sqrt{2}}h^{1/2}\\\\\n",
        "&⇔2\\sqrt{2}\\sqrt{h}=c_1\\sqrt{h}+\\frac{c_2}{\\sqrt{2}}\\sqrt{h}\\\\\n",
        "&⇔2\\sqrt{2}=c_1+\\frac{c_2}{\\sqrt{2}}\\\\\n",
        "&⇔c_1=2\\sqrt{2}-\\frac{c_2}{\\sqrt{2}}\n",
        "\\end{align*}"
      ],
      "metadata": {
        "id": "Ur6Ct8etworO"
      }
    },
    {
      "cell_type": "markdown",
      "source": [
        "Por otro lado:\n",
        "\n",
        "\\begin{align*}\n",
        "\\int_0^{2h}x^{1/2}\\,dx=h\\left[c_1h^{1/2}+c_2(2h)^{1/2}\\right]&⇔\\left[\\frac{2}{3}x^{3/2}\\right]_0^{2h}=h^{3/2}c_1+c_2\\sqrt{2}h^{3/2}\\\\\n",
        "&⇔\\frac{2}{3}2^{3/2}h^{3/2}=h^{3/2}c_1+c_2\\sqrt{2}h^{3/2}\\\\\n",
        "&⇔\\frac{2^{5/2}}{3}=c_1+\\sqrt{2}c_2\\\\\n",
        "&⇔\\frac{2^{5/2}}{3}=2\\sqrt{2}-\\frac{c_2}{\\sqrt{2}}+\\sqrt{2}c_2\\\\\n",
        "&⇔c_2=-\\frac{4}{3}\n",
        "\\end{align*}"
      ],
      "metadata": {
        "id": "YpAxoDbR2dqg"
      }
    },
    {
      "cell_type": "markdown",
      "source": [
        "De donde:\n",
        "\n",
        "\\begin{align*}\n",
        "c_1&=2\\sqrt{2}-\\frac{c_2}{\\sqrt{2}}\\\\\n",
        "&=2\\sqrt{2}+\\frac{4}{3\\sqrt{2}}\\\\\n",
        "&=2\\sqrt{2}+\\frac{2\\sqrt{2}}{3}\\\\\n",
        "&=\\frac{8\\sqrt{2}}{3}\n",
        "\\end{align*}"
      ],
      "metadata": {
        "id": "eWWAqQZV4h7Y"
      }
    },
    {
      "cell_type": "markdown",
      "source": [
        "Así, la regla de cuadratura queda determinada:\n",
        "\n",
        "$$\n",
        "\\int_{0}^{2h}f(x)\\,dx=h\\left[-\\frac{4}{3}f(h)+\\frac{8\\sqrt{2}}{3}f(2h)\\right]\n",
        "$$"
      ],
      "metadata": {
        "id": "D0zMsVBB6pFC"
      }
    },
    {
      "cell_type": "markdown",
      "source": [
        "\n",
        "\n",
        "---\n",
        "\n"
      ],
      "metadata": {
        "id": "PwfutR2y7C_m"
      }
    },
    {
      "cell_type": "markdown",
      "source": [
        "## Ejercicio 1 (Teórico)\n",
        "\n",
        "Dar la definición de convergencia lineal de una sucesión de una sucesión convergente de números reales. Mostrar un ejemplo."
      ],
      "metadata": {
        "id": "PLjd1btc7D2q"
      }
    },
    {
      "cell_type": "markdown",
      "source": [
        "\n",
        "\n",
        "---\n",
        "\n"
      ],
      "metadata": {
        "id": "DdO_YVaL-QEv"
      }
    },
    {
      "cell_type": "markdown",
      "source": [
        "Se dice que la sucesión $\\{x_n\\}$ tiene tasa convergencia (al menos) **lineal** si existe una constante $c$ tal que $0<c<1$ y un $N\\in\\mathbb{R}$ tal que\n",
        "\n",
        "$$\n",
        "|x_{n+1}-x_*|\\leq c|x_n-x_*|\n",
        "$$\n",
        "\n",
        "para todo $n\\geq N$. Equivalentemente:\n",
        "\n",
        "$$\n",
        "\\lim_{n\\to∞}\\frac{|x_{n+1}-x_*|}{|x_{n}-x_*|}=c\\in(0,1)\n",
        "$$\n",
        "\n"
      ],
      "metadata": {
        "id": "dh9Bu7t27j3J"
      }
    },
    {
      "cell_type": "markdown",
      "source": [
        "Por ejemplo, sea $\\{x_n\\}$ definida por\n",
        "\n",
        "$$\n",
        "x_n=\\frac{1}{3^n}\n",
        "$$\n",
        "\n",
        "Es claro que la sucesión converga a $x_*=0$ cuando $n$ tiende a $∞$. Luego:\n",
        "\n",
        "$$\n",
        "\\lim_{n\\to∞}\\frac{|x_{n+1}-0|}{|x_{n}-0|}=\\lim_{n\\to∞}\\frac{3^n}{3^{n+1}}=\\frac{1}{3}\n",
        "$$"
      ],
      "metadata": {
        "id": "suqWCuIK8u5y"
      }
    },
    {
      "cell_type": "markdown",
      "source": [
        "\n",
        "\n",
        "---\n",
        "\n"
      ],
      "metadata": {
        "id": "7H54d4XT-Q5y"
      }
    },
    {
      "cell_type": "markdown",
      "source": [
        "## Ejercicio 2 (Teórico)\n",
        "\n",
        "Dar la definición de solución básica factible en un problema de progamación lineal."
      ],
      "metadata": {
        "id": "H6QS6aQB-JcK"
      }
    },
    {
      "cell_type": "markdown",
      "source": [
        "\n",
        "\n",
        "---\n",
        "\n"
      ],
      "metadata": {
        "id": "81hjDRFlAfse"
      }
    },
    {
      "cell_type": "markdown",
      "source": [
        "Considerese un problema de programación lineal en su forma estándar:\n",
        "\n",
        "$$ \\text{Maximizar } \\mathbf{c}^T \\mathbf{x} $$\n",
        "$$ \\text{sujeto a } A \\mathbf{x} = \\mathbf{b} $$\n",
        "$$ \\mathbf{x} \\geq 0 $$\n",
        "\n",
        "donde $ \\mathbf{c} $ es un vector de coeficientes de la función objetivo, $ A $ es una matriz de coeficientes de las restricciones, $ \\mathbf{b} $ es un vector de términos independientes y $ \\mathbf{x} $ es el vector de variables.\n",
        "\n",
        "1. **Solución factible**: Un vector $ \\mathbf{x} $ es factible si satisface las restricciones del problema, es decir, $ A \\mathbf{x} = \\mathbf{b} $ y $ \\mathbf{x} \\geq 0 $.\n",
        "\n",
        "2. **Solución básica**: Una solución básica es una solución obtenida al seleccionar $ m $ variables (donde $ m $ es el número de restricciones) y resolver el sistema de ecuaciones resultante, fijando las restantes $ n - m $ variables a cero (donde $ n $ es el número total de variables). Las variables seleccionadas se denominan **variables básicas** y las fijadas a cero se denominan **variables no básicas**.\n",
        "\n",
        "Por lo tanto, una **solución básica factible** es una solución básica que también es factible, es decir, que satisface todas las restricciones del problema y las variables básicas son no negativas.\n",
        "\n"
      ],
      "metadata": {
        "id": "sPrBetBV_ree"
      }
    },
    {
      "cell_type": "markdown",
      "source": [
        "\n",
        "\n",
        "---\n",
        "\n"
      ],
      "metadata": {
        "id": "8J_fE5ePAgmx"
      }
    },
    {
      "cell_type": "markdown",
      "source": [
        "## Ejercicio 3 (Teórico)\n",
        "\n",
        "Enunciar y demostrar el teorema de convergencia del método de bisección."
      ],
      "metadata": {
        "id": "ujN8ftP2AhWz"
      }
    },
    {
      "cell_type": "markdown",
      "source": [
        "\n",
        "\n",
        "---\n",
        "\n"
      ],
      "metadata": {
        "id": "Gdi4AtQrMKxp"
      }
    },
    {
      "cell_type": "markdown",
      "source": [
        "Si $[a_0,b_0],[a_1,b_1],…,[a_,b_n]$ denotan los sucesivos intervalos en el método de bisección, entonces existen los límites: $\\displaystyle\\lim_{n\\to∞}a_n$ y $\\displaystyle\\lim_{n\\to∞}b_n$ son iguales y representan una raíz de $f$.\n",
        "\n",
        "Si\n",
        "$\n",
        "c_n=\\frac{1}{2}(a_n+b_n)\n",
        "$\n",
        "y\n",
        "$\n",
        "r = \\lim_{n\\to ∞}c_n\n",
        "$ entonces\n",
        "\n",
        "$$\n",
        "|r-c_n|\\leq\\frac{1}{2^{n+1}}(b_0-a_0)\n",
        "$$"
      ],
      "metadata": {
        "id": "-MLH_0p2MMCs"
      }
    },
    {
      "cell_type": "code",
      "execution_count": null,
      "metadata": {
        "id": "Hn2wPaQNTDg_"
      },
      "outputs": [],
      "source": []
    }
  ]
}