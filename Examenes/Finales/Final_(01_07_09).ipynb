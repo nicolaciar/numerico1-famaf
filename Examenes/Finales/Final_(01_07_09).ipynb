{
  "nbformat": 4,
  "nbformat_minor": 0,
  "metadata": {
    "colab": {
      "provenance": []
    },
    "kernelspec": {
      "name": "python3",
      "display_name": "Python 3"
    },
    "language_info": {
      "name": "python"
    }
  },
  "cells": [
    {
      "cell_type": "markdown",
      "source": [
        "# Final 01/07/09"
      ],
      "metadata": {
        "id": "C_7XI566r6GL"
      }
    },
    {
      "cell_type": "markdown",
      "source": [
        "\n",
        "\n",
        "---\n",
        "\n"
      ],
      "metadata": {
        "id": "sN6Z7DrfWlAi"
      }
    },
    {
      "cell_type": "markdown",
      "source": [
        "## Ejercicio 1\n",
        "\n",
        "La regla del trapecio aplicada a $\\displaystyle\\int_0^1f(x)\\,dx$ nos da el valor $5$, y la regla del punto medio nos da el valor $4$. ¿Qué valor nos dá la regla de Simspon?"
      ],
      "metadata": {
        "id": "Oc5g8YUUwpMD"
      }
    },
    {
      "cell_type": "markdown",
      "source": [
        "\n",
        "\n",
        "---\n",
        "\n"
      ],
      "metadata": {
        "id": "K-ps1_NZ5GcF"
      }
    },
    {
      "cell_type": "markdown",
      "source": [
        "La regla de Simpson nos dice que:\n",
        "\n",
        "$$\n",
        "\\int_a^bf(x)\\,dx≈\\frac{b-a}{6}\\left[f(a)+4f\\left(\\frac{a+b}{2}\\right)+f(b)\\right]\n",
        "$$\n",
        "\n",
        "en nuestro caso $[a,b]=[0,1]$, por otro lado, la regla del trapecio sobre dicho intervalo, se nos indica que vale:\n",
        "\n",
        "\\begin{align*}\n",
        "\\int_0^1f(x)\\,dx≈\\frac{b-a}{2}[f(a)+f(b)]=5&⇔\\frac{1-0}{2}[f(0)+f(1)]=5\\\\\n",
        "&⇔f(0)+f(1)=10\n",
        "\\end{align*}\n",
        "\n",
        "Por otro lado, también se nos dice que, en la regla del punto medio:\n",
        "\n",
        "\\begin{align*}\n",
        "\\int_0^1f(x)\\,dx≈f\\left(\\frac{a+b}{2}\\right)(b-a)=4&⇔f\\left(\\frac{0+1}{2}\\right)(1-0)=4\\\\\n",
        "&⇔f\\left(\\frac{1}{2}\\right)=4\n",
        "\\end{align*}\n",
        "\n",
        "Con estos datos podemos construir la regla de Simpson como sigue:\n",
        "\n",
        "\\begin{align*}\n",
        "\\int_0^1f(x)\\,dx&≈\\frac{1-0}{6}\\left[f(0)+4f\\left(\\frac{0+1}{2}\\right)+f(1)\\right]\\\\\n",
        "&=\\frac{1}{6}\\left[f(0)+f(1)+4f\\left(\\frac{1}{2}\\right)\\right]\\\\\n",
        "&=\\frac{1}{6}(10+4⋅4)=\\frac{26}{6}\\\\\n",
        "&=\\frac{13}{3}\n",
        "\\end{align*}"
      ],
      "metadata": {
        "id": "oQbItEiix7jh"
      }
    },
    {
      "cell_type": "markdown",
      "source": [
        "\n",
        "\n",
        "---\n",
        "\n"
      ],
      "metadata": {
        "id": "rYaiR2S15DOB"
      }
    },
    {
      "cell_type": "markdown",
      "source": [
        "## Ejercicio 2\n",
        "\n",
        "Consideremos el conjunto de funciones continuas en el intervalo $[0,1]$. En ese conjunto se define el producto interno $(f,g)=\\int_0^1f(x)g(x)dx$. Aproximar la función $\\sin(x)$ en $[0,1]$ mediante un polinomio lineal utilizando como base $\\{1,x\\}$."
      ],
      "metadata": {
        "id": "NrEKiYlw5Eon"
      }
    },
    {
      "cell_type": "markdown",
      "source": [
        "\n",
        "\n",
        "---\n",
        "\n"
      ],
      "metadata": {
        "id": "iDvbir1ZAMM3"
      }
    },
    {
      "cell_type": "markdown",
      "source": [
        "**Idea del chatgpt**"
      ],
      "metadata": {
        "id": "Xv6aLb_NAJOB"
      }
    },
    {
      "cell_type": "markdown",
      "source": [
        "Para aproximar la función $\\sin(x)$ en el intervalo $[0,1]$ mediante un polinomio lineal de la forma $P(x) = a_0 + a_1 x$ usando la base $\\{1, x\\}$ en el espacio de funciones continuas en $[0,1]$ con el producto interno definido por:\n",
        "\n",
        "$$\n",
        "(f, g) = \\int_0^1 f(x) g(x) \\, dx,\n",
        "$$\n",
        "\n",
        "debemos encontrar los coeficientes $a_0$ y $a_1$ que minimicen la norma del error $\\| \\sin(x) - P(x) \\|$, donde $\\| \\cdot \\|$ es la norma inducida por el producto interno dado.\n",
        "\n",
        "Para hallar estos coeficientes, podemos utilizar el método de los mínimos cuadrados, que consiste en resolver el sistema de ecuaciones generado por la ortogonalidad del error con respecto a los elementos de la base. Es decir, queremos que:\n",
        "\n",
        "$$\n",
        "\\left( \\sin(x) - (a_0 + a_1 x), 1 \\right) = 0\n",
        "$$\n",
        "$$\n",
        "\\left( \\sin(x) - (a_0 + a_1 x), x \\right) = 0\n",
        "$$\n",
        "\n",
        "Estos se convierten en dos ecuaciones lineales:\n",
        "\n",
        "1. $\\int_0^1 \\left( \\sin(x) - (a_0 + a_1 x) \\right) \\, dx = 0$\n",
        "2. $\\int_0^1 \\left( \\sin(x) - (a_0 + a_1 x) \\right) x \\, dx = 0$\n",
        "\n",
        "Calculamos las integrales para cada uno de estos sistemas:\n",
        "\n",
        "**Primera Ecuación:**\n",
        "\n",
        "$$\n",
        "\\int_0^1 \\sin(x) \\, dx - a_0 \\int_0^1 1 \\, dx - a_1 \\int_0^1 x \\, dx = 0\n",
        "$$\n",
        "\n",
        "Evaluando cada integral, obtenemos:\n",
        "\n",
        "$$\n",
        "\\int_0^1 \\sin(x) \\, dx = -\\cos(x) \\Big|_0^1 = -\\cos(1) + \\cos(0) = 1 - \\cos(1)\n",
        "$$\n",
        "\n",
        "$$\n",
        "\\int_0^1 1 \\, dx = 1\n",
        "$$\n",
        "\n",
        "$$\n",
        "\\int_0^1 x \\, dx = \\frac{x^2}{2} \\Big|_0^1 = \\frac{1}{2}\n",
        "$$\n",
        "\n",
        "Sustituyendo estos valores en la ecuación:\n",
        "\n",
        "$$\n",
        "1 - \\cos(1) - a_0 \\cdot 1 - a_1 \\cdot \\frac{1}{2} = 0\n",
        "$$\n",
        "\n",
        "Simplificando, obtenemos la primera ecuación:\n",
        "\n",
        "$$\n",
        "a_0 + \\frac{a_1}{2} = 1 - \\cos(1) \\quad \\text{(1)}\n",
        "$$\n",
        "\n",
        "**Segunda Ecuación:**\n",
        "\n",
        "$$\n",
        "\\int_0^1 \\sin(x) x \\, dx - a_0 \\int_0^1 x \\, dx - a_1 \\int_0^1 x^2 \\, dx = 0\n",
        "$$\n",
        "\n",
        "Evaluando cada integral, obtenemos:\n",
        "\n",
        "$$\n",
        "\\int_0^1 \\sin(x) x \\, dx = -x \\cos(x) \\Big|_0^1 + \\int_0^1 \\cos(x) \\, dx = -\\cos(1) + \\sin(x) \\Big|_0^1 = -\\cos(1) + \\sin(1) - 0 = \\sin(1) - \\cos(1)\n",
        "$$\n",
        "\n",
        "$$\n",
        "\\int_0^1 x \\, dx = \\frac{1}{2}\n",
        "$$\n",
        "\n",
        "$$\n",
        "\\int_0^1 x^2 \\, dx = \\frac{x^3}{3} \\Big|_0^1 = \\frac{1}{3}\n",
        "$$\n",
        "\n",
        "Sustituyendo estos valores en la ecuación:\n",
        "\n",
        "$$\n",
        "\\sin(1) - \\cos(1) - a_0 \\cdot \\frac{1}{2} - a_1 \\cdot \\frac{1}{3} = 0\n",
        "$$\n",
        "\n",
        "Simplificando, obtenemos la segunda ecuación:\n",
        "\n",
        "$$\n",
        "\\frac{a_0}{2} + \\frac{a_1}{3} = \\sin(1) - \\cos(1) \\quad \\text{(2)}\n",
        "$$\n",
        "\n",
        "**Resolución del Sistema de Ecuaciones:**\n",
        "\n",
        "El sistema de ecuaciones lineales es:\n",
        "\n",
        "$$\n",
        "\\begin{cases}\n",
        "a_0 + \\frac{a_1}{2} = 1 - \\cos(1) \\\\\n",
        "\\frac{a_0}{2} + \\frac{a_1}{3} = \\sin(1) - \\cos(1)\n",
        "\\end{cases}\n",
        "$$\n",
        "\n",
        "Multiplicamos la primera ecuación por 2 para facilitar la eliminación:\n",
        "\n",
        "$$\n",
        "\\begin{cases}\n",
        "2a_0 + a_1 = 2(1 - \\cos(1)) \\\\\n",
        "a_0 + \\frac{2a_1}{3} = 2(\\sin(1) - \\cos(1))\n",
        "\\end{cases}\n",
        "$$\n",
        "\n",
        "$$\n",
        "\\begin{cases}\n",
        "2a_0 + a_1 = 2 - 2\\cos(1) \\\\\n",
        "3a_0 + 2a_1 = 6(\\sin(1) - \\cos(1))\n",
        "\\end{cases}\n",
        "$$\n",
        "\n",
        "Resolvemos el sistema:\n",
        "\n",
        "Multiplicamos la primera ecuación por 2 y restamos la segunda:\n",
        "\n",
        "$$\n",
        "4a_0 + 2a_1 - (3a_0 + 2a_1) = 4 - 4\\cos(1) - 6(\\sin(1) - \\cos(1))\n",
        "$$\n",
        "\n",
        "$$\n",
        "a_0 = 4 - 4\\cos(1) - 6\\sin(1) + 6\\cos(1)\n",
        "$$\n",
        "\n",
        "$$\n",
        "a_0 = 4 + 2\\cos(1) - 6\\sin(1)\n",
        "$$\n",
        "\n",
        "Sustituyendo $a_0$ en la primera ecuación:\n",
        "\n",
        "$$\n",
        "2(4 + 2\\cos(1) - 6\\sin(1)) + a_1 = 2 - 2\\cos(1)\n",
        "$$\n",
        "\n",
        "$$\n",
        "8 + 4\\cos(1) - 12\\sin(1) + a_1 = 2 - 2\\cos(1)\n",
        "$$\n",
        "\n",
        "$$\n",
        "a_1 = -6 - 6\\cos(1) + 12\\sin(1)\n",
        "$$\n",
        "\n",
        "Por lo tanto, los coeficientes son:\n",
        "\n",
        "$$\n",
        "a_0 = 4 + 2\\cos(1) - 6\\sin(1)\n",
        "$$\n",
        "\n",
        "$$\n",
        "a_1 = -6 - 6\\cos(1) + 12\\sin(1)\n",
        "$$\n",
        "\n",
        "La aproximación de $\\sin(x)$ en $[0,1]$ mediante un polinomio lineal utilizando la base $\\{1, x\\}$ es:\n",
        "\n",
        "$$\n",
        "P(x) = (4 + 2\\cos(1) - 6\\sin(1)) + (-6 - 6\\cos(1) + 12\\sin(1))x\n",
        "$$"
      ],
      "metadata": {
        "id": "8g9fAPn-AL19"
      }
    },
    {
      "cell_type": "markdown",
      "source": [
        "\n",
        "\n",
        "---\n",
        "\n"
      ],
      "metadata": {
        "id": "mkKkGzEPWoPo"
      }
    },
    {
      "cell_type": "markdown",
      "source": [
        "## Ejercicio 3\n",
        "\n",
        "Determinar valores $a, b$ y $c$ reales para que la función:\n",
        "\n",
        "$$\n",
        "s(x)=\\begin{cases}\n",
        "ax^3+bx^2+cx, &\\text{si }x\\in[0,1]\\\\\n",
        "x^3+7x^2+2x+1, &\\text{si }x\\in[1,2]\n",
        "\\end{cases}\n",
        "$$\n",
        "\n",
        "resulte una función spline cúbica."
      ],
      "metadata": {
        "id": "fJIOHhp7AyCD"
      }
    },
    {
      "cell_type": "markdown",
      "source": [
        "\n",
        "\n",
        "---\n",
        "\n"
      ],
      "metadata": {
        "id": "etXnP2Y6WpnF"
      }
    },
    {
      "cell_type": "markdown",
      "source": [
        "Recordemos que dados $n+1$ nodos tales que $x_0<x_1<\\dots<x_n$, un **spline cúbico** $(k=3)$ es una función $S$ definida en $[x_0,x_n]$ que satisface:\n",
        "\n",
        "* $S$ es un polinomio de grado $\\leq3$ en cada subintervalo $[x_i,x_{i+1})$, para $i=0,\\dots,n-1$;\n",
        "\n",
        "* las funciones $S,S'$ y $S''$ son continuas en $[x_0,x_n]$"
      ],
      "metadata": {
        "id": "ETMxTo5FC5VF"
      }
    },
    {
      "cell_type": "markdown",
      "source": [
        "Para que $s$ resulte entonces, una función spline cúbica, debemos corroborar que $s, s'$ y $s''$ sean funciónes continuas.\n",
        "\n",
        "En primer lugar, para que $s$ sea continua debe cumplirse en $x=1$:\n",
        "\n",
        "\\begin{align*}\n",
        "\\lim_{x\\to1^-}(ax^3+bx^2+cx)=\\lim_{x\\to1^+}(x^3+7x^2+2x+1)&⇔a+b+c=1+7+2+1\\\\\n",
        "&⇔a+b+c=11\n",
        "\\end{align*}\n",
        "\n",
        "En segundo lugar, para que $s'$ sea continua en $x=1$:\n",
        "\n",
        "\\begin{align*}\n",
        "\\lim_{x\\to1^{-}}(3ax^2+2bx+c)=\\lim_{x\\to1^{+}}(3x^2+14x+2)&⇔3a+2b+c=3+14+2\\\\\n",
        "&⇔3a+2b+c=19\n",
        "\\end{align*}\n",
        "\n",
        "Por útlimo, para que $s''$ sea continua en $x=1$:\n",
        "\n",
        "\\begin{align*}\n",
        "\\lim_{x\\to1^-}(6ax+2b)=\\lim_{x\\to1^+}(6x+14)&⇔6a+2b=6+14\\\\\n",
        "&⇔6a+2b=20\n",
        "\\end{align*}"
      ],
      "metadata": {
        "id": "3ZiWB5diJ5QB"
      }
    },
    {
      "cell_type": "markdown",
      "source": [
        "Así, el problema se resume en resolver el sistema de ecuaciones:\n",
        "\n",
        "$$\n",
        "\\begin{cases}\n",
        "a+b+c&=&11\\\\\n",
        "3a+2b+c&=&19\\\\\n",
        "6a+2b&=&20\n",
        "\\end{cases}\n",
        "$$\n",
        "\n",
        "Utilizamos el Metodo de Gauss-Jordan:\n",
        "\n",
        "\\begin{align*}\n",
        "\\left(\\begin{array}{ccc|c}\n",
        "1 & 1 & 1 & 11\\\\\n",
        "3 & 2 & 1 & 19\\\\\n",
        "6 & 2 & 0 & 20\n",
        "\\end{array}\\right)\\overset{F_3-6F_1}{\\underset{F_2-3F_1}{⟶}}\n",
        "\\left(\\begin{array}{ccc|c}\n",
        "1 & 1 & 1 & 1\\\\\n",
        "0 & -1 & -2 & -14\\\\\n",
        "0 & -4 & -6 & -46\n",
        "\\end{array}\\right)\\overset{F_3-4F_2}{\\underset{-F_2}{⟶}}\n",
        "\\left(\\begin{array}{ccc|c}\n",
        "1 & 1 & 1 & 11\\\\\n",
        "0 & 1 & 2 & 14\\\\\n",
        "0 & 0 & 2 & 10\n",
        "\\end{array}\\right)\\\\\n",
        "\\overset{F_3/2}{⟶}\n",
        "\\left(\\begin{array}{ccc|c}\n",
        "1 & 1 & 1 & 11\\\\\n",
        "0 & 1 & 2 & 14\\\\\n",
        "0 & 0 & 1 & 5\n",
        "\\end{array}\\right)\n",
        "\\overset{F_2-2F_3}{\\underset{F_1-F_3}{⟶}}\n",
        "\\left(\\begin{array}{ccc|c}\n",
        "1 & 1 & 0 & 6\\\\\n",
        "0 & 1 & 0 & 4\\\\\n",
        "0 & 0 & 1 & 5\n",
        "\\end{array}\\right)\n",
        "\\overset{F_1-F_2}{⟶}\n",
        "\\left(\\begin{array}{ccc|c}\n",
        "1 & 0 & 0 & 2\\\\\n",
        "0 & 1 & 0 & 4\\\\\n",
        "0 & 0 & 1 & 5\n",
        "\\end{array}\\right)\n",
        "\\end{align*}"
      ],
      "metadata": {
        "id": "gcylYEZLPq0N"
      }
    },
    {
      "cell_type": "markdown",
      "source": [
        "Así, la función $s(x)$ es spline cúbica para:\n",
        "\n",
        "$$\n",
        "\\begin{pmatrix}a\\\\b\\\\c\\end{pmatrix}=\\begin{pmatrix}2\\\\4\\\\5\\end{pmatrix}\n",
        "$$"
      ],
      "metadata": {
        "id": "sUC877EHUY7N"
      }
    },
    {
      "cell_type": "markdown",
      "source": [
        "\n",
        "\n",
        "---\n",
        "\n"
      ],
      "metadata": {
        "id": "fRlkkF0ll8MH"
      }
    },
    {
      "cell_type": "markdown",
      "source": [
        "## Ejercicio 5 (Libres)\n",
        "\n",
        "Demuestre que el polinomio que interpola los siguientes datos es de grado $3$\n",
        "\n",
        "\n",
        "$$\n",
        "\\begin{array}{r|r}\n",
        "x & -2 & -1 & 0 & 1 & 2 & 3\\\\\n",
        "\\hline f(x) & 1 & 4 & 11 & 16 & 13 & -4\n",
        "\\end{array}\n",
        "$$\n",
        "\n"
      ],
      "metadata": {
        "id": "YDbLLNM9l9WH"
      }
    },
    {
      "cell_type": "markdown",
      "source": [
        "En este ejercicio se evalúa un tema que ya no se toma: diferencias finitas."
      ],
      "metadata": {
        "id": "Gu59S8FosDc0"
      }
    },
    {
      "cell_type": "markdown",
      "source": [
        "\n",
        "\n",
        "---\n",
        "\n"
      ],
      "metadata": {
        "id": "evU0RszkLxjU"
      }
    }
  ]
}