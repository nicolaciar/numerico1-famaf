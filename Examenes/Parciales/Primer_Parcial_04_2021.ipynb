{
  "nbformat": 4,
  "nbformat_minor": 0,
  "metadata": {
    "colab": {
      "provenance": [],
      "collapsed_sections": [
        "Qwk58U5Jo0AS",
        "ANUTJJMzrbjP",
        "kVY4Vn2Ptifl"
      ],
      "authorship_tag": "ABX9TyM7tO6CrHkhi7G940QEZWCB",
      "include_colab_link": true
    },
    "kernelspec": {
      "name": "python3",
      "display_name": "Python 3"
    },
    "language_info": {
      "name": "python"
    }
  },
  "cells": [
    {
      "cell_type": "markdown",
      "metadata": {
        "id": "view-in-github",
        "colab_type": "text"
      },
      "source": [
        "<a href=\"https://colab.research.google.com/github/nicolaciar/numerico1-famaf/blob/main/Examenes/Parciales/Primer_Parcial_04_2021.ipynb\" target=\"_parent\"><img src=\"https://colab.research.google.com/assets/colab-badge.svg\" alt=\"Open In Colab\"/></a>"
      ]
    },
    {
      "cell_type": "markdown",
      "source": [
        "# Primer Parcial 04/2021"
      ],
      "metadata": {
        "id": "TXhPH6cGnhZy"
      }
    },
    {
      "cell_type": "markdown",
      "source": [
        "## Ejercicio 1\n",
        "\n",
        "Evaluar el polinomio $P(x) = x^3 -6x^2 + 3x-0.149$ en $x = 4.71$ utilizando\n",
        "aritmética de punto flotante de $3$ dígitos con truncamiento. Evaluarlo\n",
        "luego usando la expresión alternativa $P(x) = ((x-6)x+ 3)x-0.149$ (Esquema de Horner). Comparar con el resultado exacto y sacar conclusiones.\n",
        "Repetir el ejercicio con redondeo."
      ],
      "metadata": {
        "id": "Qwk58U5Jo0AS"
      }
    },
    {
      "cell_type": "markdown",
      "source": [
        "\n",
        "\n",
        "---\n",
        "\n"
      ],
      "metadata": {
        "id": "1nvdpYFW55nT"
      }
    },
    {
      "cell_type": "markdown",
      "source": [
        "Recordemos que un sistema de punto flotante $(β,t,L,U)$  es el conjunto de números normalizados en el sistema de numeración con base $β$, y $t$ dígitos para la parte fraccionaria, es decir, números de la forma\n",
        "\n",
        "$$\n",
        "x=mβ^e\n",
        "$$\n",
        "\n",
        "donde $m=±0.d_{-1}d_{-2}…d_{-t}$\n",
        "\n",
        "En nuestro caso $t=3$, asumimos que $β=10$ y que no hay límites $L$ y $L$ (con lo cual $e$ no está acotado).\n",
        "\n"
      ],
      "metadata": {
        "id": "WXOhpf-UpaaN"
      }
    },
    {
      "cell_type": "markdown",
      "source": [
        "Comencemos escribiendo a todos nuestros números en el sistema de punto flotante con truncamiento, utilizando la notación $fl$:\n",
        "\n",
        "\\begin{align*}\n",
        "fl(4.71)&=0.471\\cdot10^1\\\\\n",
        "fl(6)&=0.6\\cdot10^1\\\\\n",
        "fl(3)&=0.3\\cdot10^1\\\\\n",
        "fl(0.149)&=0.149\\cdot10^0\n",
        "\\end{align*}\n",
        "\n",
        "Para realizar la operación de evaluar $P(x)$ en $x=4.71$ utilizando nuestra aritmética de punto flotante, denotamos por $⊕,⊖$ y $⊙$ a las operaciones máquina de suma, resta y producto. Lo que vamos a calcular es:\n",
        "\n",
        "\\begin{align*}\n",
        "P(x)≈fl(P(x))=((x⊖6)⊙x⊕3)⊙x⊖0.149\n",
        "\\end{align*}\n",
        "\n",
        "Donde:\n",
        "\n",
        "\\begin{align*}\n",
        "x⊖6&=fl(fl(x)-fl(6))\\\\\n",
        "&=fl(0.471⋅10+0.6⋅10)\\\\\n",
        "&=fl(-0.129⋅10)\\\\\n",
        "&=-0.129⋅10\n",
        "\\end{align*}\n",
        "\n",
        "\\begin{align*}\n",
        "(x⊖6)⊙x&=fl((-0.129\\cdot10)\\cdot fl(x))\\\\\n",
        "&=fl((-0.129\\cdot10)\\cdot (0.471⋅10))\\\\\n",
        "&=fl(-0.060749⋅10^2)\\\\\n",
        "&=-0.607⋅10^1\n",
        "\\end{align*}\n",
        "\n",
        "\\begin{align*}\n",
        "(x⊖6)⊙x⊕3&=fl(-0.607⋅10^1+fl(3))\\\\\n",
        "&=fl(-0.607⋅10^1+0.3×10^1)\\\\\n",
        "&=fl(-0.307⋅10^1)\\\\\n",
        "&=-0.307⋅10^1\n",
        "\\end{align*}\n",
        "\n",
        "\\begin{align*}\n",
        "((x⊖6)⊙x⊕3)⊙x&=fl[(-0.307⋅10^1)⋅fl(x)]\\\\\n",
        "&= fl[(-0.307⋅10^1)⋅(0.471⋅10)]\\\\\n",
        "&=fl(-0.144597⋅10^2)\\\\\n",
        "&=-0.144⋅10^2\n",
        "\\end{align*}\n",
        "\n",
        "\\begin{align*}\n",
        "((x⊖6)⊙x⊕3)⊙x⊖0.149&=fl[-0.144⋅10^2-fl(0.149)]\\\\\n",
        "&=fl(-0.144⋅10^2-0.149⋅10^0)\\\\\n",
        "&=fl(-14.4⋅10^0-0.149⋅10^0)\\\\\n",
        "&=fl(-14.549⋅10^0)\\\\\n",
        "&=-0.145⋅10^2\n",
        "\\end{align*}"
      ],
      "metadata": {
        "id": "zK8t8xhp4ePQ"
      }
    },
    {
      "cell_type": "markdown",
      "source": [
        "Este es el resultado con aritmética de $3$ dígitos con truncamiento, el resultado real es:\n",
        "\n",
        "$$\n",
        "P(x)=-14.636489\n",
        "$$\n",
        "\n",
        "Calculemos erros, el error absoluto es:\n",
        "\n",
        "\\begin{align*}\n",
        "\\Delta P(x)&=|P(x)-fl(P(x))|\\\\\n",
        "&=|-14.636489-(-14.5)|\\\\\n",
        "&=0.136489\\\\\n",
        "&<2⋅10^{-1}\n",
        "\\end{align*}\n",
        "\n",
        "El error relativo es:\n",
        "\n",
        "\\begin{align*}\n",
        "δr&=\\left|\\frac{P(x)-fl(P(x))}{P(x)}\\right|\\\\\n",
        "&=\\left|\\frac{-14.636489-(-14.5)}{-14.636489}\\right|\\\\\n",
        "&≈9.3252⋅10^{-3}\\\\\n",
        "&<10^{-2}\n",
        "\\end{align*}"
      ],
      "metadata": {
        "id": "poscwQbMeNVn"
      }
    },
    {
      "cell_type": "markdown",
      "source": [
        "Con redondeo el procedimiento es muy similar. RECORDAR que la conveción adoptada en el curso es redondear el $5$ hacia arriba."
      ],
      "metadata": {
        "id": "T21bkBb0jvzr"
      }
    },
    {
      "cell_type": "markdown",
      "source": [
        "\n",
        "\n",
        "---\n",
        "\n"
      ],
      "metadata": {
        "id": "5oBuxXJQyBlK"
      }
    },
    {
      "cell_type": "markdown",
      "source": [
        "## Ejercicio 2\n",
        "\n",
        "Sea\n",
        "\n",
        "$$\n",
        "f(x)=\\begin{cases}\n",
        "-x&\\text{si }\\hspace{1.8cm}x\\leq-1\\\\\n",
        "2x-4&\\text{si }\\hspace{0.2cm}-1<x\\leq2\\\\\n",
        "-(x-2)(x-4)x&\\text{si }\\hspace{0.85cm}2\\leq x\n",
        "\\end{cases}\n",
        "$$\n",
        "\n",
        "Graficar la función $f$ y determinar, en forma analítica, si la sucesión\n",
        "generada por el método de bisección converge en los siguientes intervalos.\n",
        "\n",
        "* a) $[-2,0]$\n",
        "* b) $[-0.5,3]$\n",
        "* c) $[3,10]$\n",
        "\n",
        "En caso de obtener convergencia, determinar el límite correspondiente y\n",
        "establecer si existe relación con las raíces de $f$."
      ],
      "metadata": {
        "id": "ANUTJJMzrbjP"
      }
    },
    {
      "cell_type": "markdown",
      "source": [
        "\n",
        "\n",
        "---\n",
        "\n"
      ],
      "metadata": {
        "id": "9GbXU4HBx_nD"
      }
    },
    {
      "cell_type": "markdown",
      "source": [
        "Veamos la gráfica de $f$:"
      ],
      "metadata": {
        "id": "XownCxiQqGVi"
      }
    },
    {
      "cell_type": "markdown",
      "source": [
        "![imagen.png](data:image/png;base64,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)"
      ],
      "metadata": {
        "id": "cU3HxJsOx-KM"
      }
    },
    {
      "cell_type": "markdown",
      "source": [
        "Recordemos que las hipótesis del **método** de la bisección son: en un intervalo $[a,b]$ debe cumplirse que $f$ es continua en dicho intervalo y $f(a)f(b)<0$. Estas hipótesis nos aseguran la existencia de una raíz en $[a,b]$ (por el teorema del valor intermedio).\n",
        "\n",
        "Si eso sucede, entonces, para los sucesivos intervalos $[a_i,b_i]$ generados por el método de la bisección, el **teorema** de la bisección nos dice que existen y son iguales lo límites:\n",
        "\n",
        "$$\n",
        "\\lim_{n\\to∞}a_n=\\lim_{n\\to∞}b_n\n",
        "$$\n",
        "\n",
        "y representan una raíz de $f$.  Además, si $c_n=\\frac{1}{2}(a_n+b_n)$ y $r=\\lim_{n\\to∞}c_n$ entonces\n",
        "\n",
        "$$\n",
        "|r-c_n|\\leq\\frac{1}{2^{n+1}}(b_0-a_0)\n",
        "$$"
      ],
      "metadata": {
        "id": "62TjjiBIyiLa"
      }
    },
    {
      "cell_type": "markdown",
      "source": [
        "\n",
        "\n",
        "---\n",
        "\n"
      ],
      "metadata": {
        "id": "gjOL_MU0yIzs"
      }
    },
    {
      "cell_type": "markdown",
      "source": [
        "**(a)** $[-2,0]$\n",
        "\n",
        "Observando el gráfico de $f$ vemos rápidamente que $f$ no es continua en $[-2,0]$, con lo cual no es posible aplicar el método de la bisección y por lo tanto no hay convergencia para el mismo."
      ],
      "metadata": {
        "id": "rArV_3SHygY8"
      }
    },
    {
      "cell_type": "markdown",
      "source": [
        "\n",
        "\n",
        "---\n",
        "\n"
      ],
      "metadata": {
        "id": "Uiettukm4Oz1"
      }
    },
    {
      "cell_type": "markdown",
      "source": [
        "**(b)** $[-0.5,3]$\n",
        "\n",
        "Observando el gráfico vemos que $f$ es continua en dicho intervalo y además $f(-0.5)<0$ y $f(3)>0$ con lo cual $f(-0.5)f(3)<0$. Podemos entonces aplicar el método.\n",
        "\n",
        "Al observar el gráfico vemos que hay una única raíz $r=2$ en el intervalo $[-0.5,3]$ con lo cual el teorema de la bisección nos asegura que el límite al que converge el método de la bisección sera dicha raíz.\n",
        "\n",
        "Por otro lado, si truncamos el método en $k$ iteraciones, obteniendo una raíz aproximada $c_k$ entonces el error tendrá una cota de\n",
        "\n",
        "$$\n",
        "|2-c_k|=\\frac{3-(\\frac{1}{2})}{2^{k+1}}=\\frac{5}{2}\\frac{1}{2^{k+1}}=\\frac{5}{2^{k+2}}\n",
        "$$"
      ],
      "metadata": {
        "id": "RePLtfgz4Pgj"
      }
    },
    {
      "cell_type": "markdown",
      "source": [
        "\n",
        "\n",
        "---\n",
        "\n"
      ],
      "metadata": {
        "id": "l52wIj00J9d5"
      }
    },
    {
      "cell_type": "markdown",
      "source": [
        "**(c)** $[3,10]$\n",
        "\n",
        "\n",
        "En este intervalo la función está definida por una única función continua, además $f(3)>0$ y $f(10)<0$. Por último vemos que hay una única raíz en dicho intervalo. Así el método de la bisección converge en este intervalo a la única raíz del mismo."
      ],
      "metadata": {
        "id": "A0umdtYna3Kx"
      }
    },
    {
      "cell_type": "markdown",
      "source": [
        "\n",
        "\n",
        "---\n",
        "\n"
      ],
      "metadata": {
        "id": "b780Xd6Gdtfq"
      }
    },
    {
      "cell_type": "markdown",
      "source": [
        "## Ejercicio 3\n",
        "\n",
        "Estimar una cota ajustada para el error cuando se aproxima $\\sqrt{572.5}$ utilizando un polinomio que interpola a $f(x) = \\sqrt{x}$ en los puntos $500, 570$, y $600$."
      ],
      "metadata": {
        "id": "kVY4Vn2Ptifl"
      }
    },
    {
      "cell_type": "markdown",
      "source": [
        "\n",
        "\n",
        "---\n",
        "\n"
      ],
      "metadata": {
        "id": "oQ5YSN1ldroF"
      }
    },
    {
      "cell_type": "markdown",
      "source": [
        "Para dar una cota del error cuando se aproxima una función $f$ por su polinomio interpolante $p$ recordemo que:\n",
        "\n",
        "$$\n",
        "f(x)-p(x)=\\frac{f^{(n+1)}(ξ)}{(n+1)!}\\prod_{i=0}^n(x-x_i)\n",
        "$$\n",
        "\n",
        "en nuestro caso $n=2$. Veamos como acotar $f'''(ξ)$ con $ξ\\in(500,600)$. Tenemos:\n",
        "\n",
        "$$\n",
        "f'''(x)=\\frac{3}{8(x)^{5/2}}\n",
        "$$\n",
        "\n",
        "En el intervalo $[500,600],$ $f'''$ es positiva y decreciente, con lo cual, en dicho intervalo:\n",
        "\n",
        "$$\n",
        "\\max |f'''(x)|=f'''(500)=\\frac{3}{8⋅500^{5/2}}\\leq\\frac{3}{800000}\n",
        "$$\n",
        "\n",
        "Con lo cual:\n",
        "\n",
        "\\begin{align*}\n",
        "|f(x)-p(x)|&=\\Bigg|\\frac{f^{(2+1)}(ξ)}{(2+1)!}\\prod_{i=0}^2(x-x_i)\\Bigg|\\\\\n",
        "&=\\Bigg|\\frac{3}{3!\\cdot 800000}\\prod_{i=0}^2(x-x_i)\\Bigg|\\\\\n",
        "&=|6.25×10^{-7}|⋅|x-500|⋅|x-570|⋅|x-600|\\\\\n",
        "\\end{align*}\n",
        "\n",
        "Para $x=572.5$:\n",
        "\n",
        "\\begin{align*}\n",
        "|f(572.5)-p(572.5)|&=|6.25×10^{-7}|⋅|572.5-500|⋅|572.5-570|⋅|572.5-600|\\\\\n",
        "&\\leq 0.03\\\\\n",
        "&=3×10^{-2}\n",
        "\\end{align*}"
      ],
      "metadata": {
        "id": "DTF5M63DtznF"
      }
    },
    {
      "cell_type": "markdown",
      "source": [
        "\n",
        "\n",
        "---\n",
        "\n"
      ],
      "metadata": {
        "id": "PdUdQYybtpHo"
      }
    },
    {
      "cell_type": "markdown",
      "source": [],
      "metadata": {
        "id": "2ISGomc1uN3_"
      }
    }
  ]
}