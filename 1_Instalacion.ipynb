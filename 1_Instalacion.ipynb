{
  "nbformat": 4,
  "nbformat_minor": 0,
  "metadata": {
    "colab": {
      "provenance": [],
      "toc_visible": true,
      "authorship_tag": "ABX9TyNjQsOucCec8qOUpFROXi8N",
      "include_colab_link": true
    },
    "kernelspec": {
      "name": "python3",
      "display_name": "Python 3"
    },
    "language_info": {
      "name": "python"
    }
  },
  "cells": [
    {
      "cell_type": "markdown",
      "metadata": {
        "id": "view-in-github",
        "colab_type": "text"
      },
      "source": [
        "<a href=\"https://colab.research.google.com/github/nicolaciar/numerico1-famaf/blob/main/1_Instalacion.ipynb\" target=\"_parent\"><img src=\"https://colab.research.google.com/assets/colab-badge.svg\" alt=\"Open In Colab\"/></a>"
      ]
    },
    {
      "cell_type": "markdown",
      "source": [
        "# Instalación"
      ],
      "metadata": {
        "id": "hi5jg-67oZmj"
      }
    },
    {
      "cell_type": "markdown",
      "source": [
        "**Flask** es un framework pequeño según la mayoría de los estándares, lo suficientemente pequeño como para ser llamado un \"microframework\", y tan pequeño que, una vez que te familiarices con él, probablemente puedas leer y entender todo su código fuente."
      ],
      "metadata": {
        "id": "XLgzw1_qo6C2"
      }
    },
    {
      "cell_type": "markdown",
      "source": [
        "Pero ser pequeño no significa que haga menos que otros frameworks. Flask fue diseñado desde el principio como un framework extensible; proporciona un núcleo sólido con los servicios básicos, mientras que las *extensiones* proporcionan el resto. Como puedes elegir los paquetes de extensiones que deseas, terminas con una pila ligera que no tiene redundancias y hace exactamente lo que necesitas."
      ],
      "metadata": {
        "id": "fBX9JR-do7yX"
      }
    },
    {
      "cell_type": "markdown",
      "source": [
        "Flask tiene tres dependencias principales. Los subsistemas de enrutamiento, depuración y la Interfaz de Pasarela del Servidor Web (WSGI) provienen de `Werkzeug`; el soporte de plantillas es proporcionado por `Jinja2`; y la integración de la línea de comandos proviene de `Click`. Estas dependencias fueron todas creadas por Armin Ronacher, el autor de Flask."
      ],
      "metadata": {
        "id": "8BCsS7M-o9MV"
      }
    },
    {
      "cell_type": "markdown",
      "source": [
        "Flask no tiene soporte nativo para acceder a bases de datos, validar formularios web, autenticar usuarios u otras tareas de alto nivel. Estos y muchos otros servicios clave que la mayoría de las aplicaciones web necesitan están disponibles a través de extensiones que se integran con los paquetes centrales. Como desarrollador, tienes el poder de elegir las extensiones que mejor funcionen para tu proyecto, o incluso escribir las tuyas si así lo deseas. Esto contrasta con un framework más grande, donde la mayoría de las decisiones ya han sido tomadas por ti y son difíciles o, a veces, imposibles de cambiar.\n",
        "\n",
        "En este capítulo, aprenderás cómo instalar Flask. El único requisito es una computadora con Python instalado."
      ],
      "metadata": {
        "id": "ocXqSc5lo_E6"
      }
    },
    {
      "cell_type": "markdown",
      "source": [
        "## Entornos Virtuales"
      ],
      "metadata": {
        "id": "0dDUDU0mqanx"
      }
    },
    {
      "cell_type": "markdown",
      "source": [
        "\n",
        "\n",
        "Ahora que has creado el directorio de la aplicación, es momento de instalar Flask. La forma más conveniente de hacerlo es utilizando un entorno virtual. Un entorno virtual es una copia del intérprete de Python en la que puedes instalar paquetes de manera privada, sin afectar el intérprete global de Python instalado en tu sistema.\n",
        "\n"
      ],
      "metadata": {
        "id": "G8zR9jkOpnQ7"
      }
    },
    {
      "cell_type": "markdown",
      "source": [
        "Los entornos virtuales son muy útiles porque evitan el desorden de paquetes y los conflictos de versión en el intérprete de Python del sistema. Crear un entorno virtual para cada proyecto asegura que las aplicaciones solo tengan acceso a los paquetes que utilizan, mientras que el intérprete global se mantiene limpio y sirve únicamente como una fuente para crear más entornos virtuales. Como beneficio adicional, a diferencia del intérprete de Python a nivel del sistema, los entornos virtuales pueden ser creados y gestionados sin derechos de administrador."
      ],
      "metadata": {
        "id": "hu1kzs-6qdp0"
      }
    },
    {
      "cell_type": "markdown",
      "source": [
        "### Crear un Entorno Virtual con Python 3\n",
        "\n"
      ],
      "metadata": {
        "id": "LTfkoYAgrki7"
      }
    },
    {
      "cell_type": "markdown",
      "source": [
        "La creación de entornos virtuales es un área en la que los intérpretes de Python 3 y Python 2 difieren. Con Python 3, los entornos virtuales son compatibles de forma nativa a través del paquete `venv`, que forma parte de la biblioteca estándar de Python."
      ],
      "metadata": {
        "id": "1MkPIVfcrnHX"
      }
    },
    {
      "cell_type": "markdown",
      "source": [
        "> **Nota:** Si estás usando el intérprete estándar de Python 3 en un sistema Ubuntu Linux, el paquete estándar venv no está instalado por defecto. Para añadirlo a tu sistema, instala el paquete python3-venv de la siguiente manera:\n",
        "```bash\n",
        "$ sudo apt-get install python3-venv\n",
        "```"
      ],
      "metadata": {
        "id": "oQkIk2-0r2tW"
      }
    },
    {
      "cell_type": "markdown",
      "source": [
        "El comando que crea un entorno virtual tiene la siguiente estructura:\n",
        "\n",
        "```bash\n",
        "$ python3 -m venv nombre-del-entorno-virtual\n",
        "```\n",
        "\n",
        "La opción `-m venv` ejecuta el paquete venv de la biblioteca estándar como un script independiente, pasando el nombre deseado como argumento.\n",
        "\n"
      ],
      "metadata": {
        "id": "BNe4t7RNr9EP"
      }
    },
    {
      "cell_type": "markdown",
      "source": [
        "Ahora vas a crear un entorno virtual dentro del directorio flasky. Una convención comúnmente utilizada para los entornos virtuales es llamarlos venv, pero puedes usar un nombre diferente si lo prefieres. Asegúrate de que tu directorio actual esté configurado en flasky y luego ejecuta este comando:\n",
        "\n",
        "```bash\n",
        "$ python3 -m venv venv\n",
        "```\n",
        "\n",
        "Después de que el comando se complete, tendrás un subdirectorio con el nombre venv dentro de flasky, con un entorno virtual completamente nuevo que contiene un intérprete de Python para uso exclusivo de este proyecto."
      ],
      "metadata": {
        "id": "zJa-LxIBstl0"
      }
    },
    {
      "cell_type": "markdown",
      "source": [
        "## Trabajando con un Entorno Virtual"
      ],
      "metadata": {
        "id": "VqvWcVMYtQW7"
      }
    },
    {
      "cell_type": "markdown",
      "source": [
        "\n",
        "\n",
        "Cuando desees empezar a usar un entorno virtual, debes \"activarlo\". Si estás usando una computadora con Linux o macOS, puedes activar el entorno virtual con este comando:\n",
        "\n",
        "```bash\n",
        "$ source venv/bin/activate\n",
        "```\n",
        "\n",
        "Si estás usando Microsoft Windows, el comando de activación es:\n",
        "\n",
        "```bash\n",
        "$ venv\\Scripts\\activate\n",
        "```\n",
        "\n"
      ],
      "metadata": {
        "id": "y9jQ3FEltOvZ"
      }
    },
    {
      "cell_type": "markdown",
      "source": [
        "Cuando se activa un entorno virtual, la ubicación de su intérprete de Python se añade a la variable de entorno PATH en tu sesión de comando actual, lo que determina dónde buscar archivos ejecutables. Para recordarte que has activado un entorno virtual, el comando de activación modifica tu indicador de comando para incluir el nombre del entorno:\n",
        "\n",
        "```bash\n",
        "(venv) $\n",
        "```\n",
        "\n",
        "Después de activar un entorno virtual, escribir `python` en el indicador de comando invocará al intérprete del entorno virtual en lugar del intérprete a nivel del sistema. Si estás usando más de una ventana de comandos, debes activar el entorno virtual en cada una de ellas."
      ],
      "metadata": {
        "id": "vH3oZf2CtVxT"
      }
    },
    {
      "cell_type": "markdown",
      "source": [
        "> **Nota:** Aunque activar un entorno virtual suele ser la opción más conveniente, también puedes usar un entorno virtual sin activarlo. Por ejemplo, puedes iniciar una consola de Python para el entorno virtual venv ejecutando `venv/bin/python` en Linux o macOS, o `venv\\Scripts\\python` en Microsoft Windows."
      ],
      "metadata": {
        "id": "35eaVOEwtnsQ"
      }
    },
    {
      "cell_type": "markdown",
      "source": [
        "Cuando termines de trabajar con el entorno virtual, escribe `deactivate` en el indicador de comandos para restaurar la variable de entorno PATH de tu sesión de terminal y el indicador de comandos a sus estados originales."
      ],
      "metadata": {
        "id": "OiAvHVHlttAk"
      }
    }
  ]
}